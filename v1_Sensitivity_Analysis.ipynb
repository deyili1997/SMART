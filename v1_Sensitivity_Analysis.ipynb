{
 "cells": [
  {
   "cell_type": "code",
   "execution_count": 1,
   "id": "15c9540a-db4b-4080-92b2-bbee022b8c74",
   "metadata": {
    "tags": []
   },
   "outputs": [],
   "source": [
    "import pandas as pd\n",
    "import numpy as np\n",
    "import json\n",
    "import multiprocessing"
   ]
  },
  {
   "cell_type": "code",
   "execution_count": 2,
   "id": "b3461558-bdb5-45c4-ace0-e78b46f98e7d",
   "metadata": {
    "tags": []
   },
   "outputs": [],
   "source": [
    "dataset = pd.read_csv(\"/blue/yonghui.wu/lideyi/Personalization_Methodology/dataset.csv\")"
   ]
  },
  {
   "cell_type": "code",
   "execution_count": 17,
   "id": "e76fa609",
   "metadata": {},
   "outputs": [
    {
     "data": {
      "text/plain": [
       "17179"
      ]
     },
     "execution_count": 17,
     "metadata": {},
     "output_type": "execute_result"
    }
   ],
   "source": [
    "len(dataset)"
   ]
  },
  {
   "cell_type": "code",
   "execution_count": 3,
   "id": "2600d60c-7b41-4ebf-9392-f1f4d5cb66e1",
   "metadata": {
    "tags": []
   },
   "outputs": [
    {
     "name": "stdout",
     "output_type": "stream",
     "text": [
      "7 40\n",
      "8637 8542\n"
     ]
    }
   ],
   "source": [
    "# Load the variables\n",
    "with open('./utils/variables.json', 'r') as file:\n",
    "    variables = json.load(file)\n",
    "\n",
    "SCR_feature_space = variables['SCR_feature_space']\n",
    "LAB_feature_space = variables['LAB_feature_space']\n",
    "train_len = variables['train_len']\n",
    "test_len = variables['test_len']\n",
    "print(len(SCR_feature_space), len(LAB_feature_space))\n",
    "print(train_len, test_len)\n",
    "\n",
    "# get num_processors for parallel computing\n",
    "num_processors = multiprocessing.cpu_count()"
   ]
  },
  {
   "cell_type": "code",
   "execution_count": 4,
   "id": "5ef8f7b8-eb48-428c-8110-4903196bfaf4",
   "metadata": {
    "tags": []
   },
   "outputs": [],
   "source": [
    "figure_folder = \"Sensitivity_analysis\""
   ]
  },
  {
   "cell_type": "code",
   "execution_count": 5,
   "id": "71eefece-356c-4479-97f9-970c28a1653f",
   "metadata": {},
   "outputs": [],
   "source": [
    "# drop patients for test set, drop patients contains nan\n",
    "data_train = dataset.iloc[:train_len, :].copy(deep = True)\n",
    "data_train = data_train.dropna() "
   ]
  },
  {
   "cell_type": "code",
   "execution_count": 6,
   "id": "90a975fd-79c7-4d72-bc00-48a423101978",
   "metadata": {},
   "outputs": [],
   "source": [
    "SCR_part = dataset.loc[:, SCR_feature_space]\n",
    "LAB_part = dataset.loc[:, LAB_feature_space]"
   ]
  },
  {
   "cell_type": "code",
   "execution_count": 7,
   "id": "6479aa6b-448f-4737-90b5-4585e6386900",
   "metadata": {},
   "outputs": [],
   "source": [
    "SCR_part_bin = SCR_part.notna().astype(int)\n",
    "LAB_part_bin = LAB_part.notna().astype(int)"
   ]
  },
  {
   "cell_type": "markdown",
   "id": "e59bc992-89a9-496c-ae96-4c9e704130e9",
   "metadata": {},
   "source": [
    "# Range from [1.2, 1.5, 1.7, 2.0, 2.5] for SCr Features"
   ]
  },
  {
   "cell_type": "code",
   "execution_count": 8,
   "id": "233a3791-32f2-4864-9403-bf65d22a7685",
   "metadata": {
    "tags": []
   },
   "outputs": [],
   "source": [
    "import scipy.stats as stats"
   ]
  },
  {
   "cell_type": "code",
   "execution_count": 9,
   "id": "3aed7d91-e162-4c7a-a71a-b83a045c58a0",
   "metadata": {
    "tags": []
   },
   "outputs": [],
   "source": [
    "mean = 0.0\n",
    "sd_SCR_space = [1.2, 1.5, 1.7, 2.0, 2.5]\n",
    "SCR_overlap_weighting_space = []\n",
    "\n",
    "for sd in sd_SCR_space:\n",
    "    SCR_overlap_weighting = []\n",
    "    for i in range(len(SCR_feature_space)):\n",
    "        pos = len(SCR_feature_space) - 1 - i\n",
    "        AUC = stats.norm.cdf(pos + 1, loc=mean, scale=sd) - stats.norm.cdf(pos, loc=mean, scale=sd)\n",
    "        SCR_overlap_weighting.append(AUC)\n",
    "\n",
    "    SCR_overlap_weighting = list(np.array(SCR_overlap_weighting) * 2)\n",
    "    SCR_overlap_weighting_space.append(SCR_overlap_weighting)"
   ]
  },
  {
   "cell_type": "markdown",
   "id": "6e16385c-6893-4387-858d-382a707085ef",
   "metadata": {},
   "source": [
    "# Range from [0.1, 0.3, 0.5, 0.7, 1.0] for Lab Features"
   ]
  },
  {
   "cell_type": "code",
   "execution_count": 10,
   "id": "f6111619-260b-46d9-a86c-921fa92973cf",
   "metadata": {
    "tags": []
   },
   "outputs": [],
   "source": [
    "from sklearn.ensemble import RandomForestClassifier"
   ]
  },
  {
   "cell_type": "code",
   "execution_count": 11,
   "id": "46e6a826-1f27-45ea-b604-0543269e3dfa",
   "metadata": {
    "tags": []
   },
   "outputs": [],
   "source": [
    "LAB_train = data_train.drop(columns=['AKI_LABEL']).loc[:, LAB_feature_space].copy(deep = True)\n",
    "y_train = data_train['AKI_LABEL'].copy(deep = True)"
   ]
  },
  {
   "cell_type": "code",
   "execution_count": 12,
   "id": "5163a6e6-051d-474f-bc99-ec9e1d0d7330",
   "metadata": {
    "tags": []
   },
   "outputs": [
    {
     "data": {
      "text/html": [
       "<style>#sk-container-id-1 {\n",
       "  /* Definition of color scheme common for light and dark mode */\n",
       "  --sklearn-color-text: black;\n",
       "  --sklearn-color-line: gray;\n",
       "  /* Definition of color scheme for unfitted estimators */\n",
       "  --sklearn-color-unfitted-level-0: #fff5e6;\n",
       "  --sklearn-color-unfitted-level-1: #f6e4d2;\n",
       "  --sklearn-color-unfitted-level-2: #ffe0b3;\n",
       "  --sklearn-color-unfitted-level-3: chocolate;\n",
       "  /* Definition of color scheme for fitted estimators */\n",
       "  --sklearn-color-fitted-level-0: #f0f8ff;\n",
       "  --sklearn-color-fitted-level-1: #d4ebff;\n",
       "  --sklearn-color-fitted-level-2: #b3dbfd;\n",
       "  --sklearn-color-fitted-level-3: cornflowerblue;\n",
       "\n",
       "  /* Specific color for light theme */\n",
       "  --sklearn-color-text-on-default-background: var(--sg-text-color, var(--theme-code-foreground, var(--jp-content-font-color1, black)));\n",
       "  --sklearn-color-background: var(--sg-background-color, var(--theme-background, var(--jp-layout-color0, white)));\n",
       "  --sklearn-color-border-box: var(--sg-text-color, var(--theme-code-foreground, var(--jp-content-font-color1, black)));\n",
       "  --sklearn-color-icon: #696969;\n",
       "\n",
       "  @media (prefers-color-scheme: dark) {\n",
       "    /* Redefinition of color scheme for dark theme */\n",
       "    --sklearn-color-text-on-default-background: var(--sg-text-color, var(--theme-code-foreground, var(--jp-content-font-color1, white)));\n",
       "    --sklearn-color-background: var(--sg-background-color, var(--theme-background, var(--jp-layout-color0, #111)));\n",
       "    --sklearn-color-border-box: var(--sg-text-color, var(--theme-code-foreground, var(--jp-content-font-color1, white)));\n",
       "    --sklearn-color-icon: #878787;\n",
       "  }\n",
       "}\n",
       "\n",
       "#sk-container-id-1 {\n",
       "  color: var(--sklearn-color-text);\n",
       "}\n",
       "\n",
       "#sk-container-id-1 pre {\n",
       "  padding: 0;\n",
       "}\n",
       "\n",
       "#sk-container-id-1 input.sk-hidden--visually {\n",
       "  border: 0;\n",
       "  clip: rect(1px 1px 1px 1px);\n",
       "  clip: rect(1px, 1px, 1px, 1px);\n",
       "  height: 1px;\n",
       "  margin: -1px;\n",
       "  overflow: hidden;\n",
       "  padding: 0;\n",
       "  position: absolute;\n",
       "  width: 1px;\n",
       "}\n",
       "\n",
       "#sk-container-id-1 div.sk-dashed-wrapped {\n",
       "  border: 1px dashed var(--sklearn-color-line);\n",
       "  margin: 0 0.4em 0.5em 0.4em;\n",
       "  box-sizing: border-box;\n",
       "  padding-bottom: 0.4em;\n",
       "  background-color: var(--sklearn-color-background);\n",
       "}\n",
       "\n",
       "#sk-container-id-1 div.sk-container {\n",
       "  /* jupyter's `normalize.less` sets `[hidden] { display: none; }`\n",
       "     but bootstrap.min.css set `[hidden] { display: none !important; }`\n",
       "     so we also need the `!important` here to be able to override the\n",
       "     default hidden behavior on the sphinx rendered scikit-learn.org.\n",
       "     See: https://github.com/scikit-learn/scikit-learn/issues/21755 */\n",
       "  display: inline-block !important;\n",
       "  position: relative;\n",
       "}\n",
       "\n",
       "#sk-container-id-1 div.sk-text-repr-fallback {\n",
       "  display: none;\n",
       "}\n",
       "\n",
       "div.sk-parallel-item,\n",
       "div.sk-serial,\n",
       "div.sk-item {\n",
       "  /* draw centered vertical line to link estimators */\n",
       "  background-image: linear-gradient(var(--sklearn-color-text-on-default-background), var(--sklearn-color-text-on-default-background));\n",
       "  background-size: 2px 100%;\n",
       "  background-repeat: no-repeat;\n",
       "  background-position: center center;\n",
       "}\n",
       "\n",
       "/* Parallel-specific style estimator block */\n",
       "\n",
       "#sk-container-id-1 div.sk-parallel-item::after {\n",
       "  content: \"\";\n",
       "  width: 100%;\n",
       "  border-bottom: 2px solid var(--sklearn-color-text-on-default-background);\n",
       "  flex-grow: 1;\n",
       "}\n",
       "\n",
       "#sk-container-id-1 div.sk-parallel {\n",
       "  display: flex;\n",
       "  align-items: stretch;\n",
       "  justify-content: center;\n",
       "  background-color: var(--sklearn-color-background);\n",
       "  position: relative;\n",
       "}\n",
       "\n",
       "#sk-container-id-1 div.sk-parallel-item {\n",
       "  display: flex;\n",
       "  flex-direction: column;\n",
       "}\n",
       "\n",
       "#sk-container-id-1 div.sk-parallel-item:first-child::after {\n",
       "  align-self: flex-end;\n",
       "  width: 50%;\n",
       "}\n",
       "\n",
       "#sk-container-id-1 div.sk-parallel-item:last-child::after {\n",
       "  align-self: flex-start;\n",
       "  width: 50%;\n",
       "}\n",
       "\n",
       "#sk-container-id-1 div.sk-parallel-item:only-child::after {\n",
       "  width: 0;\n",
       "}\n",
       "\n",
       "/* Serial-specific style estimator block */\n",
       "\n",
       "#sk-container-id-1 div.sk-serial {\n",
       "  display: flex;\n",
       "  flex-direction: column;\n",
       "  align-items: center;\n",
       "  background-color: var(--sklearn-color-background);\n",
       "  padding-right: 1em;\n",
       "  padding-left: 1em;\n",
       "}\n",
       "\n",
       "\n",
       "/* Toggleable style: style used for estimator/Pipeline/ColumnTransformer box that is\n",
       "clickable and can be expanded/collapsed.\n",
       "- Pipeline and ColumnTransformer use this feature and define the default style\n",
       "- Estimators will overwrite some part of the style using the `sk-estimator` class\n",
       "*/\n",
       "\n",
       "/* Pipeline and ColumnTransformer style (default) */\n",
       "\n",
       "#sk-container-id-1 div.sk-toggleable {\n",
       "  /* Default theme specific background. It is overwritten whether we have a\n",
       "  specific estimator or a Pipeline/ColumnTransformer */\n",
       "  background-color: var(--sklearn-color-background);\n",
       "}\n",
       "\n",
       "/* Toggleable label */\n",
       "#sk-container-id-1 label.sk-toggleable__label {\n",
       "  cursor: pointer;\n",
       "  display: block;\n",
       "  width: 100%;\n",
       "  margin-bottom: 0;\n",
       "  padding: 0.5em;\n",
       "  box-sizing: border-box;\n",
       "  text-align: center;\n",
       "}\n",
       "\n",
       "#sk-container-id-1 label.sk-toggleable__label-arrow:before {\n",
       "  /* Arrow on the left of the label */\n",
       "  content: \"▸\";\n",
       "  float: left;\n",
       "  margin-right: 0.25em;\n",
       "  color: var(--sklearn-color-icon);\n",
       "}\n",
       "\n",
       "#sk-container-id-1 label.sk-toggleable__label-arrow:hover:before {\n",
       "  color: var(--sklearn-color-text);\n",
       "}\n",
       "\n",
       "/* Toggleable content - dropdown */\n",
       "\n",
       "#sk-container-id-1 div.sk-toggleable__content {\n",
       "  max-height: 0;\n",
       "  max-width: 0;\n",
       "  overflow: hidden;\n",
       "  text-align: left;\n",
       "  /* unfitted */\n",
       "  background-color: var(--sklearn-color-unfitted-level-0);\n",
       "}\n",
       "\n",
       "#sk-container-id-1 div.sk-toggleable__content.fitted {\n",
       "  /* fitted */\n",
       "  background-color: var(--sklearn-color-fitted-level-0);\n",
       "}\n",
       "\n",
       "#sk-container-id-1 div.sk-toggleable__content pre {\n",
       "  margin: 0.2em;\n",
       "  border-radius: 0.25em;\n",
       "  color: var(--sklearn-color-text);\n",
       "  /* unfitted */\n",
       "  background-color: var(--sklearn-color-unfitted-level-0);\n",
       "}\n",
       "\n",
       "#sk-container-id-1 div.sk-toggleable__content.fitted pre {\n",
       "  /* unfitted */\n",
       "  background-color: var(--sklearn-color-fitted-level-0);\n",
       "}\n",
       "\n",
       "#sk-container-id-1 input.sk-toggleable__control:checked~div.sk-toggleable__content {\n",
       "  /* Expand drop-down */\n",
       "  max-height: 200px;\n",
       "  max-width: 100%;\n",
       "  overflow: auto;\n",
       "}\n",
       "\n",
       "#sk-container-id-1 input.sk-toggleable__control:checked~label.sk-toggleable__label-arrow:before {\n",
       "  content: \"▾\";\n",
       "}\n",
       "\n",
       "/* Pipeline/ColumnTransformer-specific style */\n",
       "\n",
       "#sk-container-id-1 div.sk-label input.sk-toggleable__control:checked~label.sk-toggleable__label {\n",
       "  color: var(--sklearn-color-text);\n",
       "  background-color: var(--sklearn-color-unfitted-level-2);\n",
       "}\n",
       "\n",
       "#sk-container-id-1 div.sk-label.fitted input.sk-toggleable__control:checked~label.sk-toggleable__label {\n",
       "  background-color: var(--sklearn-color-fitted-level-2);\n",
       "}\n",
       "\n",
       "/* Estimator-specific style */\n",
       "\n",
       "/* Colorize estimator box */\n",
       "#sk-container-id-1 div.sk-estimator input.sk-toggleable__control:checked~label.sk-toggleable__label {\n",
       "  /* unfitted */\n",
       "  background-color: var(--sklearn-color-unfitted-level-2);\n",
       "}\n",
       "\n",
       "#sk-container-id-1 div.sk-estimator.fitted input.sk-toggleable__control:checked~label.sk-toggleable__label {\n",
       "  /* fitted */\n",
       "  background-color: var(--sklearn-color-fitted-level-2);\n",
       "}\n",
       "\n",
       "#sk-container-id-1 div.sk-label label.sk-toggleable__label,\n",
       "#sk-container-id-1 div.sk-label label {\n",
       "  /* The background is the default theme color */\n",
       "  color: var(--sklearn-color-text-on-default-background);\n",
       "}\n",
       "\n",
       "/* On hover, darken the color of the background */\n",
       "#sk-container-id-1 div.sk-label:hover label.sk-toggleable__label {\n",
       "  color: var(--sklearn-color-text);\n",
       "  background-color: var(--sklearn-color-unfitted-level-2);\n",
       "}\n",
       "\n",
       "/* Label box, darken color on hover, fitted */\n",
       "#sk-container-id-1 div.sk-label.fitted:hover label.sk-toggleable__label.fitted {\n",
       "  color: var(--sklearn-color-text);\n",
       "  background-color: var(--sklearn-color-fitted-level-2);\n",
       "}\n",
       "\n",
       "/* Estimator label */\n",
       "\n",
       "#sk-container-id-1 div.sk-label label {\n",
       "  font-family: monospace;\n",
       "  font-weight: bold;\n",
       "  display: inline-block;\n",
       "  line-height: 1.2em;\n",
       "}\n",
       "\n",
       "#sk-container-id-1 div.sk-label-container {\n",
       "  text-align: center;\n",
       "}\n",
       "\n",
       "/* Estimator-specific */\n",
       "#sk-container-id-1 div.sk-estimator {\n",
       "  font-family: monospace;\n",
       "  border: 1px dotted var(--sklearn-color-border-box);\n",
       "  border-radius: 0.25em;\n",
       "  box-sizing: border-box;\n",
       "  margin-bottom: 0.5em;\n",
       "  /* unfitted */\n",
       "  background-color: var(--sklearn-color-unfitted-level-0);\n",
       "}\n",
       "\n",
       "#sk-container-id-1 div.sk-estimator.fitted {\n",
       "  /* fitted */\n",
       "  background-color: var(--sklearn-color-fitted-level-0);\n",
       "}\n",
       "\n",
       "/* on hover */\n",
       "#sk-container-id-1 div.sk-estimator:hover {\n",
       "  /* unfitted */\n",
       "  background-color: var(--sklearn-color-unfitted-level-2);\n",
       "}\n",
       "\n",
       "#sk-container-id-1 div.sk-estimator.fitted:hover {\n",
       "  /* fitted */\n",
       "  background-color: var(--sklearn-color-fitted-level-2);\n",
       "}\n",
       "\n",
       "/* Specification for estimator info (e.g. \"i\" and \"?\") */\n",
       "\n",
       "/* Common style for \"i\" and \"?\" */\n",
       "\n",
       ".sk-estimator-doc-link,\n",
       "a:link.sk-estimator-doc-link,\n",
       "a:visited.sk-estimator-doc-link {\n",
       "  float: right;\n",
       "  font-size: smaller;\n",
       "  line-height: 1em;\n",
       "  font-family: monospace;\n",
       "  background-color: var(--sklearn-color-background);\n",
       "  border-radius: 1em;\n",
       "  height: 1em;\n",
       "  width: 1em;\n",
       "  text-decoration: none !important;\n",
       "  margin-left: 1ex;\n",
       "  /* unfitted */\n",
       "  border: var(--sklearn-color-unfitted-level-1) 1pt solid;\n",
       "  color: var(--sklearn-color-unfitted-level-1);\n",
       "}\n",
       "\n",
       ".sk-estimator-doc-link.fitted,\n",
       "a:link.sk-estimator-doc-link.fitted,\n",
       "a:visited.sk-estimator-doc-link.fitted {\n",
       "  /* fitted */\n",
       "  border: var(--sklearn-color-fitted-level-1) 1pt solid;\n",
       "  color: var(--sklearn-color-fitted-level-1);\n",
       "}\n",
       "\n",
       "/* On hover */\n",
       "div.sk-estimator:hover .sk-estimator-doc-link:hover,\n",
       ".sk-estimator-doc-link:hover,\n",
       "div.sk-label-container:hover .sk-estimator-doc-link:hover,\n",
       ".sk-estimator-doc-link:hover {\n",
       "  /* unfitted */\n",
       "  background-color: var(--sklearn-color-unfitted-level-3);\n",
       "  color: var(--sklearn-color-background);\n",
       "  text-decoration: none;\n",
       "}\n",
       "\n",
       "div.sk-estimator.fitted:hover .sk-estimator-doc-link.fitted:hover,\n",
       ".sk-estimator-doc-link.fitted:hover,\n",
       "div.sk-label-container:hover .sk-estimator-doc-link.fitted:hover,\n",
       ".sk-estimator-doc-link.fitted:hover {\n",
       "  /* fitted */\n",
       "  background-color: var(--sklearn-color-fitted-level-3);\n",
       "  color: var(--sklearn-color-background);\n",
       "  text-decoration: none;\n",
       "}\n",
       "\n",
       "/* Span, style for the box shown on hovering the info icon */\n",
       ".sk-estimator-doc-link span {\n",
       "  display: none;\n",
       "  z-index: 9999;\n",
       "  position: relative;\n",
       "  font-weight: normal;\n",
       "  right: .2ex;\n",
       "  padding: .5ex;\n",
       "  margin: .5ex;\n",
       "  width: min-content;\n",
       "  min-width: 20ex;\n",
       "  max-width: 50ex;\n",
       "  color: var(--sklearn-color-text);\n",
       "  box-shadow: 2pt 2pt 4pt #999;\n",
       "  /* unfitted */\n",
       "  background: var(--sklearn-color-unfitted-level-0);\n",
       "  border: .5pt solid var(--sklearn-color-unfitted-level-3);\n",
       "}\n",
       "\n",
       ".sk-estimator-doc-link.fitted span {\n",
       "  /* fitted */\n",
       "  background: var(--sklearn-color-fitted-level-0);\n",
       "  border: var(--sklearn-color-fitted-level-3);\n",
       "}\n",
       "\n",
       ".sk-estimator-doc-link:hover span {\n",
       "  display: block;\n",
       "}\n",
       "\n",
       "/* \"?\"-specific style due to the `<a>` HTML tag */\n",
       "\n",
       "#sk-container-id-1 a.estimator_doc_link {\n",
       "  float: right;\n",
       "  font-size: 1rem;\n",
       "  line-height: 1em;\n",
       "  font-family: monospace;\n",
       "  background-color: var(--sklearn-color-background);\n",
       "  border-radius: 1rem;\n",
       "  height: 1rem;\n",
       "  width: 1rem;\n",
       "  text-decoration: none;\n",
       "  /* unfitted */\n",
       "  color: var(--sklearn-color-unfitted-level-1);\n",
       "  border: var(--sklearn-color-unfitted-level-1) 1pt solid;\n",
       "}\n",
       "\n",
       "#sk-container-id-1 a.estimator_doc_link.fitted {\n",
       "  /* fitted */\n",
       "  border: var(--sklearn-color-fitted-level-1) 1pt solid;\n",
       "  color: var(--sklearn-color-fitted-level-1);\n",
       "}\n",
       "\n",
       "/* On hover */\n",
       "#sk-container-id-1 a.estimator_doc_link:hover {\n",
       "  /* unfitted */\n",
       "  background-color: var(--sklearn-color-unfitted-level-3);\n",
       "  color: var(--sklearn-color-background);\n",
       "  text-decoration: none;\n",
       "}\n",
       "\n",
       "#sk-container-id-1 a.estimator_doc_link.fitted:hover {\n",
       "  /* fitted */\n",
       "  background-color: var(--sklearn-color-fitted-level-3);\n",
       "}\n",
       "</style><div id=\"sk-container-id-1\" class=\"sk-top-container\"><div class=\"sk-text-repr-fallback\"><pre>RandomForestClassifier(random_state=42)</pre><b>In a Jupyter environment, please rerun this cell to show the HTML representation or trust the notebook. <br />On GitHub, the HTML representation is unable to render, please try loading this page with nbviewer.org.</b></div><div class=\"sk-container\" hidden><div class=\"sk-item\"><div class=\"sk-estimator fitted sk-toggleable\"><input class=\"sk-toggleable__control sk-hidden--visually\" id=\"sk-estimator-id-1\" type=\"checkbox\" checked><label for=\"sk-estimator-id-1\" class=\"sk-toggleable__label fitted sk-toggleable__label-arrow fitted\">&nbsp;&nbsp;RandomForestClassifier<a class=\"sk-estimator-doc-link fitted\" rel=\"noreferrer\" target=\"_blank\" href=\"https://scikit-learn.org/1.5/modules/generated/sklearn.ensemble.RandomForestClassifier.html\">?<span>Documentation for RandomForestClassifier</span></a><span class=\"sk-estimator-doc-link fitted\">i<span>Fitted</span></span></label><div class=\"sk-toggleable__content fitted\"><pre>RandomForestClassifier(random_state=42)</pre></div> </div></div></div></div>"
      ],
      "text/plain": [
       "RandomForestClassifier(random_state=42)"
      ]
     },
     "execution_count": 12,
     "metadata": {},
     "output_type": "execute_result"
    }
   ],
   "source": [
    "rf = RandomForestClassifier(n_estimators=100, random_state=42)\n",
    "rf.fit(LAB_train, y_train)"
   ]
  },
  {
   "cell_type": "code",
   "execution_count": 13,
   "id": "c1238dc2-9331-4780-bf8b-10ef98bc9da1",
   "metadata": {
    "tags": []
   },
   "outputs": [],
   "source": [
    "feature_importances = rf.feature_importances_\n",
    "\n",
    "# ascending order\n",
    "feature_importance_df = pd.DataFrame({\n",
    "    'Feature': LAB_train.columns,\n",
    "    'Importance': feature_importances\n",
    "})\n",
    "\n",
    "assert(len(feature_importance_df) == len(LAB_feature_space))"
   ]
  },
  {
   "cell_type": "code",
   "execution_count": 14,
   "id": "a2e78f18-efcd-4fe2-bb08-d0ff38864bfe",
   "metadata": {},
   "outputs": [
    {
     "name": "stdout",
     "output_type": "stream",
     "text": [
      "0.1 0.03520589568681677\n",
      "0.3 0.02904920087257196\n",
      "0.5 0.024957272857172513\n",
      "0.7 0.02241519084167006\n",
      "1.0 0.006289815663413658\n"
     ]
    }
   ],
   "source": [
    "top_rates_space = [0.1, 0.3, 0.5, 0.7, 1.0]\n",
    "lab_overlap_weighting_space = []\n",
    "\n",
    "for top_rate in top_rates_space:\n",
    "    \n",
    "    threshold = feature_importance_df['Importance'].quantile(1 - top_rate)\n",
    "    print(top_rate, threshold)\n",
    "    top_features = feature_importance_df['Importance'] >= threshold\n",
    "    feature_importance_df['Weighting'] = 0.0\n",
    "    feature_importance_df.loc[top_features, 'Weighting'] = \\\n",
    "    feature_importance_df.loc[top_features, 'Importance'] / feature_importance_df.loc[top_features, 'Importance'].sum()\n",
    "    lab_overlap_weighting = list(feature_importance_df['Weighting'])\n",
    "    lab_overlap_weighting_space.append(lab_overlap_weighting)"
   ]
  },
  {
   "cell_type": "markdown",
   "id": "ff56d76e-2a9e-4444-aeac-5ed1ad46ba60",
   "metadata": {},
   "source": [
    "# Main Computing"
   ]
  },
  {
   "cell_type": "code",
   "execution_count": 15,
   "id": "b860bd70-db34-4d58-9031-a45407bde227",
   "metadata": {
    "tags": []
   },
   "outputs": [],
   "source": [
    "from utils.Data_Overlap_Rates_Computing import parallel_overlap_matrix_comp, check_matrix_sanity, \\\n",
    "calculate_overlap_rate_SCR, calculate_overlap_rate_LAB"
   ]
  },
  {
   "cell_type": "code",
   "execution_count": null,
   "id": "bae98337-c88a-4471-8b72-33991f329179",
   "metadata": {},
   "outputs": [],
   "source": [
    "for i in range(len(SCR_overlap_weighting_space)):\n",
    "    SCR_overlap_weighting = SCR_overlap_weighting_space[i]\n",
    "    SCR_overlap = parallel_overlap_matrix_comp(SCR_part_bin, num_processors, \n",
    "                                           calculate_overlap_rate_SCR, SCR_overlap_weighting)\n",
    "    check_matrix_sanity(SCR_overlap)\n",
    "    np.save('/blue/yonghui.wu/lideyi/Personalization_Methodology/sensitivity_analysis/SCR_overlap_%s.npy'%(i), SCR_overlap)"
   ]
  },
  {
   "cell_type": "code",
   "execution_count": 16,
   "id": "0934be46-e1b2-4b43-8e69-bed7917a69dc",
   "metadata": {
    "tags": []
   },
   "outputs": [
    {
     "name": "stderr",
     "output_type": "stream",
     "text": [
      "100%|██████████| 17178/17178 [09:42<00:00, 29.49it/s] \n",
      "100%|██████████| 17178/17178 [10:16<00:00, 27.87it/s] \n",
      "100%|██████████| 17178/17178 [10:04<00:00, 28.40it/s] \n",
      "100%|██████████| 17178/17178 [10:02<00:00, 28.52it/s] \n",
      "100%|██████████| 17178/17178 [09:59<00:00, 28.64it/s] \n"
     ]
    }
   ],
   "source": [
    "for i in range(len(lab_overlap_weighting_space)):\n",
    "    LAB_overlap_weighting = lab_overlap_weighting_space[i]\n",
    "    LAB_overlap = parallel_overlap_matrix_comp(LAB_part_bin, num_processors, \n",
    "                                           calculate_overlap_rate_LAB, LAB_overlap_weighting)\n",
    "    check_matrix_sanity(LAB_overlap)\n",
    "    np.save('/blue/yonghui.wu/lideyi/Personalization_Methodology/sensitivity_analysis/lab_overlap_%s.npy'%(i), LAB_overlap)"
   ]
  },
  {
   "cell_type": "code",
   "execution_count": 22,
   "id": "b8140e32-a63c-4199-be2c-75ddb5f86f1b",
   "metadata": {},
   "outputs": [],
   "source": [
    "# we add extra all ONE matrix to represent the no overlap weights\n",
    "ONE_arr = np.ones((len(dataset), len(dataset)))\n",
    "np.save('/blue/yonghui.wu/lideyi/Personalization_Methodology/sensitivity_analysis/SCR_overlap_%s.npy'%(len(SCR_overlap_weighting_space)), ONE_arr)\n",
    "np.save('/blue/yonghui.wu/lideyi/Personalization_Methodology/sensitivity_analysis/lab_overlap_%s.npy'%(len(lab_overlap_weighting_space)), ONE_arr)"
   ]
  },
  {
   "cell_type": "markdown",
   "id": "f391f73b-1a75-43f1-9272-ca7d8b0f6b5c",
   "metadata": {},
   "source": [
    "# Read Back All Overlap Rates Matricies"
   ]
  },
  {
   "cell_type": "code",
   "execution_count": null,
   "id": "38978d47-717a-445d-8df4-55a4655e1a92",
   "metadata": {},
   "outputs": [],
   "source": []
  },
  {
   "cell_type": "markdown",
   "id": "81a6a028-39cd-4f30-9027-6af9fdbe0006",
   "metadata": {},
   "source": [
    "# Read Pickle File for Necessary Data"
   ]
  },
  {
   "cell_type": "markdown",
   "id": "66ba4e1a-c7e9-4d3d-8910-b51e9be26b94",
   "metadata": {},
   "source": [
    "nw_fea_arrs_dict (just full), SCR_train, SCR_test, LAB_train, LAB_test, y_test, k_sizes_test"
   ]
  }
 ],
 "metadata": {
  "kernelspec": {
   "display_name": "AKI_personalized_modeling",
   "language": "python",
   "name": "python3"
  },
  "language_info": {
   "codemirror_mode": {
    "name": "ipython",
    "version": 3
   },
   "file_extension": ".py",
   "mimetype": "text/x-python",
   "name": "python",
   "nbconvert_exporter": "python",
   "pygments_lexer": "ipython3",
   "version": "3.12.5"
  }
 },
 "nbformat": 4,
 "nbformat_minor": 5
}
