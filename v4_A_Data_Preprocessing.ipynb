{
 "cells": [
  {
   "cell_type": "code",
   "execution_count": null,
   "id": "e12e3046",
   "metadata": {
    "tags": []
   },
   "outputs": [],
   "source": [
    "import pandas as pd\n",
    "import numpy as np\n",
    "from tqdm import tqdm\n",
    "from tqdm.auto import tqdm\n",
    "tqdm.pandas()"
   ]
  },
  {
   "cell_type": "markdown",
   "id": "c458e0a4",
   "metadata": {},
   "source": [
    "Procedures:  \n",
    "1. Feature space is: 7-day SCr trajectories and all labs prior to prediction point.✅  \n",
    "2. The prediction point was 1-day prior to onset for AKI patients and 1-day prior to the last SCr record for non-AKI patients.✅  \n",
    "3. Each patient should have at least 2 SCr measurement within the window.✅\n",
    "4. Exclude those SCr baseline > 3.5✅   \n",
    "5. Lab missingness > 50% dropped.✅  \n",
    "6. Each patient/encounter is unique✅  "
   ]
  },
  {
   "cell_type": "markdown",
   "id": "0db40ac6",
   "metadata": {},
   "source": [
    "# Read KUMC Patients' ONSET, LAB, SCr and COMO"
   ]
  },
  {
   "cell_type": "code",
   "execution_count": null,
   "id": "c4aa9c5b",
   "metadata": {
    "tags": []
   },
   "outputs": [],
   "source": [
    "# define data storage path\n",
    "raw_path = '/blue/yonghui.wu/hoyinchan/Data/data2022raw/'\n",
    "data_path = raw_path + \"KUMC_ORCALE\" + '/raw/'"
   ]
  },
  {
   "cell_type": "code",
   "execution_count": null,
   "id": "01495854",
   "metadata": {
    "tags": []
   },
   "outputs": [],
   "source": [
    "#Read in Onsets data and only use KUMC data\n",
    "All_onsets = pd.read_csv('/blue/yonghui.wu/lideyi/Personalization_Methodology/NEW_ONSETS.csv')\n",
    "ONSET = All_onsets.loc[All_onsets.CENTER_NAME == \"KUMC\"].copy(deep = True)"
   ]
  },
  {
   "cell_type": "code",
   "execution_count": null,
   "id": "294e7486",
   "metadata": {
    "tags": []
   },
   "outputs": [],
   "source": [
    "#Read in Lab test results\n",
    "with open(data_path + 'AKI_LAB.csv', 'r', encoding='utf-8', errors='ignore') as file:\n",
    "    LAB = pd.read_csv(data_path + 'AKI_LAB.csv', \n",
    "                      delimiter=\",\", usecols=['PATID', 'LAB_LOINC', 'SPECIMEN_DATE\"+PD.DATE_SHIFT\"', 'RESULT_NUM'], encoding='unicode_escape')\n",
    "    \n",
    "LAB.rename(columns = {'SPECIMEN_DATE\"+PD.DATE_SHIFT\"': \"SPECIMEN_DATE\"}, inplace = True)"
   ]
  },
  {
   "cell_type": "code",
   "execution_count": null,
   "id": "175561a1",
   "metadata": {
    "tags": []
   },
   "outputs": [],
   "source": [
    "# Read in SCr trajectories\n",
    "SCR_use_cols = ['ONSETS_ENCOUNTERID','PATID','ENCOUNTERID',\n",
    "                        'SPECIMEN_DATE\"+PD.DATE_SHIFT\"','RESULT_NUM', 'DAYS_SINCE_ADMIT']\n",
    "SCR = pd.read_csv(data_path + \"AKI_LAB_SCR.csv\", delimiter = ',', usecols=SCR_use_cols)\n",
    "SCR.rename(columns = {'SPECIMEN_DATE\"+PD.DATE_SHIFT\"': \"SPECIMEN_DATE\"}, inplace = True)"
   ]
  },
  {
   "cell_type": "markdown",
   "id": "eb447529",
   "metadata": {},
   "source": [
    "# Construct a Full DataFrame"
   ]
  },
  {
   "cell_type": "markdown",
   "id": "c460eaa3",
   "metadata": {},
   "source": [
    "Process ONSET"
   ]
  },
  {
   "cell_type": "code",
   "execution_count": null,
   "id": "89f93293",
   "metadata": {
    "tags": []
   },
   "outputs": [],
   "source": [
    "#format datatype for merge\n",
    "#exclude those baseline SCr > 3.5, which indicate poor renal functions\n",
    "ONSET = ONSET.loc[ONSET.SERUM_CREAT_BASE < 3.5, :]\n",
    "\n",
    "ONSET.loc[:, [\"PATID\", \"ONSETS_ENCOUNTERID\"]] = ONSET[[\"PATID\", \"ONSETS_ENCOUNTERID\"]].astype(str)\n",
    "\n",
    "time_cols = [\"ADMIT_DATE\", \"DISCHARGE_DATE\", \"AKI1_ONSET\", \"AKI2_ONSET\", \"AKI3_ONSET\"]\n",
    "for time_col in time_cols:\n",
    "    ONSET[time_col] = pd.to_datetime(ONSET[time_col], format = \"mixed\")\n",
    "    \n",
    "# binary predictiton task\n",
    "ONSET.loc[:, \"EARLIEST_ONSET_DATE\"] = np.min(ONSET[[\"AKI1_ONSET\", \"AKI2_ONSET\", \"AKI3_ONSET\"]], axis = 1)\n",
    "ONSET.loc[:, \"AKI_LABEL\"] = ONSET[\"EARLIEST_ONSET_DATE\"].notna().astype(int)\n",
    "\n",
    "ONSET.drop([\"CENTER_NAME\", \"SERUM_CREAT_BASE\", \"NONAKI_SINCE_ADMIT\", \"AKI1_ONSET\",\n",
    "           \"AKI2_ONSET\", \"AKI3_ONSET\"], axis = 1, inplace = True)"
   ]
  },
  {
   "cell_type": "markdown",
   "id": "193dc56b",
   "metadata": {},
   "source": [
    "Merge Onset with SCr"
   ]
  },
  {
   "cell_type": "code",
   "execution_count": null,
   "id": "2a514a35",
   "metadata": {
    "tags": []
   },
   "outputs": [],
   "source": [
    "#process data type \n",
    "SCR[\"PATID\"] = SCR[\"PATID\"].astype(str)"
   ]
  },
  {
   "cell_type": "code",
   "execution_count": null,
   "id": "03b9900a",
   "metadata": {
    "tags": []
   },
   "outputs": [],
   "source": [
    "ONSET_SCR = ONSET.merge(SCR[[\"PATID\", \"SPECIMEN_DATE\", \"RESULT_NUM\"]], on = \"PATID\", how = \"left\")"
   ]
  },
  {
   "cell_type": "code",
   "execution_count": null,
   "id": "61e92ed3",
   "metadata": {
    "tags": []
   },
   "outputs": [],
   "source": [
    "#after merging, process date time\n",
    "ONSET_SCR[\"SPECIMEN_DATE\"] = pd.to_datetime(ONSET_SCR[\"SPECIMEN_DATE\"], format = \"mixed\")"
   ]
  },
  {
   "cell_type": "code",
   "execution_count": null,
   "id": "529bbf63",
   "metadata": {
    "tags": []
   },
   "outputs": [],
   "source": [
    "#filter out those beyond this hospitalization (we also need history prior to this hospitalization)\n",
    "ONSET_SCR = ONSET_SCR.loc[ONSET_SCR.SPECIMEN_DATE <= ONSET_SCR.DISCHARGE_DATE, :]\n",
    "ONSET_SCR = ONSET_SCR.sort_values(by=['PATID', 'ADMIT_DATE', 'SPECIMEN_DATE'])\n",
    "\n",
    "# get average SCr on the same day\n",
    "ONSET_SCR_avg = ONSET_SCR.groupby(['PATID', 'ONSETS_ENCOUNTERID', 'SPECIMEN_DATE'])['RESULT_NUM'].mean().reset_index()"
   ]
  },
  {
   "cell_type": "code",
   "execution_count": null,
   "id": "ec5a2eff",
   "metadata": {
    "tags": []
   },
   "outputs": [],
   "source": [
    "# append the info back\n",
    "ONSET_SCR_app = ONSET_SCR.loc[:, [\"PATID\", \"ONSETS_ENCOUNTERID\", \"ADMIT_DATE\",\n",
    "                                  \"DISCHARGE_DATE\", \"EARLIEST_ONSET_DATE\", \"AKI_LABEL\"]]\n",
    "ONSET_SCR_app.drop_duplicates(inplace = True)\n",
    "ONSET_SCR_avg = ONSET_SCR_app.merge(ONSET_SCR_avg, on = [\"PATID\", \"ONSETS_ENCOUNTERID\"], how = \"left\")"
   ]
  },
  {
   "cell_type": "code",
   "execution_count": null,
   "id": "103d8322",
   "metadata": {
    "tags": []
   },
   "outputs": [],
   "source": [
    "# get the prediction point for non-AKI patient\n",
    "non_AKI_pat = ONSET_SCR_avg.loc[ONSET_SCR_avg.AKI_LABEL == 0, \n",
    "                                [\"PATID\", \"ONSETS_ENCOUNTERID\", \"SPECIMEN_DATE\"]]"
   ]
  },
  {
   "cell_type": "code",
   "execution_count": null,
   "id": "2c059a66",
   "metadata": {
    "tags": []
   },
   "outputs": [],
   "source": [
    "non_AKI_pat.drop_duplicates(subset = [\"PATID\", \"ONSETS_ENCOUNTERID\"], keep = \"last\",\n",
    "                           inplace = True)"
   ]
  },
  {
   "cell_type": "code",
   "execution_count": null,
   "id": "1c8b3ec8",
   "metadata": {
    "tags": []
   },
   "outputs": [],
   "source": [
    "non_AKI_pat.rename(columns = {\"SPECIMEN_DATE\": \"PREDICTION_POINT\"}, inplace = True)"
   ]
  },
  {
   "cell_type": "code",
   "execution_count": null,
   "id": "bc703d7d",
   "metadata": {
    "tags": []
   },
   "outputs": [],
   "source": [
    "ONSET_SCR_avg = ONSET_SCR_avg.merge(non_AKI_pat, on = [\"PATID\", \"ONSETS_ENCOUNTERID\"], how = \"left\")"
   ]
  },
  {
   "cell_type": "code",
   "execution_count": null,
   "id": "68e2267b",
   "metadata": {
    "tags": []
   },
   "outputs": [],
   "source": [
    "ONSET_SCR_avg.loc[ONSET_SCR_avg.AKI_LABEL == 1, \"PREDICTION_POINT\"] = \\\n",
    "ONSET_SCR_avg.loc[ONSET_SCR_avg.AKI_LABEL == 1, \"EARLIEST_ONSET_DATE\"]"
   ]
  },
  {
   "cell_type": "code",
   "execution_count": null,
   "id": "679e5053",
   "metadata": {
    "tags": []
   },
   "outputs": [],
   "source": [
    "#check that we have predicition point for each encounter\n",
    "assert(ONSET_SCR_avg.PREDICTION_POINT.isna().mean() == 0)"
   ]
  },
  {
   "cell_type": "code",
   "execution_count": null,
   "id": "0c8b337d",
   "metadata": {
    "tags": []
   },
   "outputs": [],
   "source": [
    "# the time frame we need for SCr is the -8 to -2 days prior to prediction point\n",
    "ONSET_SCR_avg = ONSET_SCR_avg[((ONSET_SCR_avg.SPECIMEN_DATE <= (ONSET_SCR_avg.PREDICTION_POINT) - pd.Timedelta(days=2))) & \\\n",
    "                             (ONSET_SCR_avg.SPECIMEN_DATE >= ONSET_SCR_avg.PREDICTION_POINT - pd.Timedelta(days=8))]"
   ]
  },
  {
   "cell_type": "code",
   "execution_count": null,
   "id": "222de34d-7a17-42ad-ba35-7bfb73f612da",
   "metadata": {},
   "outputs": [],
   "source": [
    "#drop patients with less than 2 SCr measurements during the 7-day window\n",
    "# group them and calcualte number of measurements\n",
    "measure_num = ONSET_SCR_avg.groupby('ONSETS_ENCOUNTERID').size()\n",
    "encounterID_to_drop = measure_num[measure_num < 2].index\n",
    "ONSET_SCR_avg = ONSET_SCR_avg.loc[~ONSET_SCR_avg.ONSETS_ENCOUNTERID.isin(encounterID_to_drop), :]"
   ]
  },
  {
   "cell_type": "code",
   "execution_count": null,
   "id": "41907055",
   "metadata": {
    "tags": []
   },
   "outputs": [],
   "source": [
    "#pivot all the SCr values, that is create features -8 ~ -2 and entries are RESULT_NUM\n",
    "ONSET_SCR_avg[\"DAYS_BEFORE_PREDICTION_POINT\"] = (ONSET_SCR_avg[\"SPECIMEN_DATE\"] - \\\n",
    "ONSET_SCR_avg[\"PREDICTION_POINT\"]).dt.days\n",
    "\n",
    "#prepare a skleleton to merge on\n",
    "unique_encounterids = list(ONSET_SCR_avg['ONSETS_ENCOUNTERID'].unique())\n",
    "time_window = np.arange(-8, -1)  # from -8 to -2\n",
    "skeleton = pd.MultiIndex.from_product([unique_encounterids, time_window], \n",
    "                                              names=['ONSETS_ENCOUNTERID', \n",
    "                                                     'DAYS_BEFORE_PREDICTION_POINT']).to_frame(index=False)\n",
    "#merge on\n",
    "skeleton = pd.merge(skeleton, ONSET_SCR_avg, on=['ONSETS_ENCOUNTERID', 'DAYS_BEFORE_PREDICTION_POINT'], how='left')\n",
    "\n",
    "#pivot\n",
    "ONSET_SCR_formatted = skeleton.pivot(index='ONSETS_ENCOUNTERID', \n",
    "                                          columns='DAYS_BEFORE_PREDICTION_POINT', \n",
    "                                          values='RESULT_NUM').reset_index()\n",
    "\n",
    "# get other info back\n",
    "ONSET_SCR_app2 = ONSET_SCR_avg.loc[:, [\"PATID\", \"ONSETS_ENCOUNTERID\", \"ADMIT_DATE\", \"DISCHARGE_DATE\", \n",
    "                                       \"PREDICTION_POINT\", \"AKI_LABEL\"]]\n",
    "ONSET_SCR_app2.drop_duplicates(inplace = True)\n",
    "ONSET_SCR_formatted = ONSET_SCR_formatted.merge(ONSET_SCR_app2, on = \"ONSETS_ENCOUNTERID\", how = \"left\")"
   ]
  },
  {
   "cell_type": "code",
   "execution_count": null,
   "id": "08a3d848",
   "metadata": {},
   "outputs": [],
   "source": [
    "# only keep the earliest encounter of each patient\n",
    "ONSET_SCR_formatted = ONSET_SCR_formatted.sort_values(by=['PATID', 'ADMIT_DATE'])\n",
    "ONSET_SCR_formatted = ONSET_SCR_formatted.drop_duplicates(subset='PATID', keep='first')"
   ]
  },
  {
   "cell_type": "markdown",
   "id": "0da5a680",
   "metadata": {},
   "source": [
    "Merge Onset with Labs"
   ]
  },
  {
   "cell_type": "code",
   "execution_count": null,
   "id": "34cfd254",
   "metadata": {
    "tags": []
   },
   "outputs": [],
   "source": [
    "LAB[\"PATID\"] = LAB[\"PATID\"].astype(str)"
   ]
  },
  {
   "cell_type": "code",
   "execution_count": null,
   "id": "ad238842",
   "metadata": {
    "tags": []
   },
   "outputs": [],
   "source": [
    "# merge the lab \n",
    "ONSET_SCR_LAB = ONSET_SCR_formatted.merge(LAB, on = \"PATID\", how = \"left\")"
   ]
  },
  {
   "cell_type": "code",
   "execution_count": null,
   "id": "c091b594",
   "metadata": {
    "tags": []
   },
   "outputs": [],
   "source": [
    "ONSET_SCR_LAB[\"SPECIMEN_DATE\"] = pd.to_datetime(ONSET_SCR_LAB[\"SPECIMEN_DATE\"], format = \"mixed\")"
   ]
  },
  {
   "cell_type": "code",
   "execution_count": null,
   "id": "0f1b7c07",
   "metadata": {
    "tags": []
   },
   "outputs": [],
   "source": [
    "ONSET_SCR_LAB = ONSET_SCR_LAB[(ONSET_SCR_LAB.SPECIMEN_DATE <= (ONSET_SCR_LAB.PREDICTION_POINT - pd.Timedelta(days=2))) & \\\n",
    "                              (ONSET_SCR_LAB.SPECIMEN_DATE >= ONSET_SCR_LAB.ADMIT_DATE  - pd.Timedelta(days=8))]"
   ]
  },
  {
   "cell_type": "code",
   "execution_count": null,
   "id": "c924e792",
   "metadata": {
    "tags": []
   },
   "outputs": [],
   "source": [
    "#we only keep the lastest result of a certain lab within the time window\n",
    "ONSET_SCR_LAB = ONSET_SCR_LAB.sort_values(by=['PATID', 'ONSETS_ENCOUNTERID', 'LAB_LOINC', 'SPECIMEN_DATE'])\n",
    "ONSET_SCR_LAB = ONSET_SCR_LAB.groupby(['PATID', 'ONSETS_ENCOUNTERID', 'LAB_LOINC']).last().reset_index()"
   ]
  },
  {
   "cell_type": "code",
   "execution_count": null,
   "id": "2a139e2c",
   "metadata": {
    "tags": []
   },
   "outputs": [],
   "source": [
    "#turn lab into feature columns\n",
    "LAB_info = ONSET_SCR_LAB.pivot(index='ONSETS_ENCOUNTERID', columns='LAB_LOINC', values='RESULT_NUM')\n",
    "LAB_info = LAB_info.reset_index()"
   ]
  },
  {
   "cell_type": "code",
   "execution_count": null,
   "id": "96d3ad7f",
   "metadata": {},
   "outputs": [],
   "source": [
    "# drop lab with missing rate > 0.5\n",
    "nan_rate = LAB_info.isnull().mean()\n",
    "columns_to_drop = list(nan_rate[nan_rate > 0.5].index)\n",
    "\n",
    "# we also drop SCR, GFR that directly indicate renal functions\n",
    "columns_to_drop += [\"2160-0\", \"48642-3\", \"48643-1\"]\n",
    "\n",
    "# drop these labs\n",
    "LAB_info.drop(columns=columns_to_drop, inplace = True)\n"
   ]
  },
  {
   "cell_type": "code",
   "execution_count": null,
   "id": "e0c62f31-2340-4471-9a2a-1d643a3458ea",
   "metadata": {},
   "outputs": [],
   "source": [
    "#merge them back to the original dataframe\n",
    "ONSET_SCR_LAB = ONSET_SCR_formatted.merge(LAB_info, on = 'ONSETS_ENCOUNTERID', how = 'left')"
   ]
  },
  {
   "cell_type": "code",
   "execution_count": null,
   "id": "9a33267a",
   "metadata": {
    "tags": []
   },
   "outputs": [],
   "source": [
    "lab_feature_space = list(LAB_info.columns[1:])\n",
    "len(lab_feature_space)"
   ]
  },
  {
   "cell_type": "markdown",
   "id": "85cfb70a-69ae-4c60-a63d-73280fb09751",
   "metadata": {},
   "source": [
    "# Each Patient Should Be Unique: Just use the first Encounter of Each Patients"
   ]
  },
  {
   "cell_type": "code",
   "execution_count": null,
   "id": "6c3a74b4-38ec-4528-89ca-8b42a0564501",
   "metadata": {
    "tags": []
   },
   "outputs": [],
   "source": [
    "ONSET_SCR_LAB = ONSET_SCR_LAB.sort_values(by=['PATID', 'ADMIT_DATE'], ascending=True)"
   ]
  },
  {
   "cell_type": "code",
   "execution_count": null,
   "id": "e5ddb4e7-7299-4567-9750-7587f788a0fa",
   "metadata": {
    "tags": []
   },
   "outputs": [],
   "source": [
    "# drop duplicates based on PATID and ENCOUTNERID and keep the first records\n",
    "ONSET_SCR_LAB = ONSET_SCR_LAB.drop_duplicates(subset='PATID', keep='first')"
   ]
  },
  {
   "cell_type": "markdown",
   "id": "01ebe7a7",
   "metadata": {},
   "source": [
    "# Get just a Fraction of Patients for Temporal Cross Validaiton"
   ]
  },
  {
   "cell_type": "code",
   "execution_count": null,
   "id": "ef22547d-a17d-4d73-9d1e-5239e9f15940",
   "metadata": {},
   "outputs": [],
   "source": [
    "ONSET_SCR_LAB = ONSET_SCR_LAB.sort_values(by='ADMIT_DATE', ascending=True)\n",
    "ONSET_SCR_LAB"
   ]
  },
  {
   "cell_type": "code",
   "execution_count": null,
   "id": "e5674a88-ac98-48d8-bfd5-03bc0f89ac18",
   "metadata": {
    "tags": []
   },
   "outputs": [],
   "source": [
    "# records after train-test split date will be used as test set\n",
    "start_date = pd.to_datetime('2015-1-1')\n",
    "split_date = pd.to_datetime('2016-1-1')\n",
    "end_date = pd.to_datetime('2017-1-1')\n"
   ]
  },
  {
   "cell_type": "code",
   "execution_count": null,
   "id": "91752315-7c53-46cb-960f-2ee08f9967e2",
   "metadata": {
    "tags": []
   },
   "outputs": [],
   "source": [
    "# take a half as train set AKI and the rest are test set AKI\n",
    "# get their admission times\n",
    "dataset_train = ONSET_SCR_LAB[(ONSET_SCR_LAB.ADMIT_DATE < split_date) & (ONSET_SCR_LAB.ADMIT_DATE >= start_date)]\n",
    "dataset_test = ONSET_SCR_LAB[(ONSET_SCR_LAB.ADMIT_DATE >= split_date) & (ONSET_SCR_LAB.ADMIT_DATE < end_date)]\n",
    "\n",
    "print(len(dataset_train))\n",
    "print(len(dataset_test))\n",
    "print(dataset_train.AKI_LABEL.value_counts())\n",
    "print(dataset_test.AKI_LABEL.value_counts())\n",
    "\n",
    "train_len = len(dataset_train)\n",
    "test_len = len(dataset_test)"
   ]
  },
  {
   "cell_type": "code",
   "execution_count": null,
   "id": "30d86c36-001a-4088-88fe-1b79fb45d9cd",
   "metadata": {
    "tags": []
   },
   "outputs": [],
   "source": [
    "dataset_sampled = pd.concat([dataset_train, dataset_test], axis = 0)"
   ]
  },
  {
   "cell_type": "code",
   "execution_count": null,
   "id": "2b1f9a89-903d-4e8f-8214-8318af197b8d",
   "metadata": {
    "tags": []
   },
   "outputs": [],
   "source": [
    "time_window = np.arange(-8, -1)  # from -8 to -2"
   ]
  },
  {
   "cell_type": "code",
   "execution_count": null,
   "id": "e72ce500-90fb-49c7-af22-f3c341afead0",
   "metadata": {},
   "outputs": [],
   "source": [
    "# save a copy for demographics chararcterization\n",
    "dataset_sampled.to_csv(\"/blue/yonghui.wu/lideyi/Personalization_Methodology/DEMO_KUMC.csv\", index = False)"
   ]
  },
  {
   "cell_type": "code",
   "execution_count": null,
   "id": "ab4b1bf3-44a0-47e0-9e4a-a97fbbf45854",
   "metadata": {
    "tags": []
   },
   "outputs": [],
   "source": [
    "# extract used cols\n",
    "dataset_sampled = dataset_sampled.loc[:, list(time_window) + list(lab_feature_space) + ['AKI_LABEL']]"
   ]
  },
  {
   "cell_type": "code",
   "execution_count": null,
   "id": "748ac354",
   "metadata": {},
   "outputs": [],
   "source": [
    "dataset_sampled.AKI_LABEL.value_counts()"
   ]
  },
  {
   "cell_type": "code",
   "execution_count": null,
   "id": "7cbacca7-8716-49e2-9d6d-ae14fc5edeb0",
   "metadata": {
    "tags": []
   },
   "outputs": [],
   "source": [
    "dataset_sampled.reset_index(drop = True, inplace = True)"
   ]
  },
  {
   "cell_type": "code",
   "execution_count": null,
   "id": "59a5d242-848b-4a35-9368-1deb44f998e5",
   "metadata": {
    "tags": []
   },
   "outputs": [],
   "source": [
    "dataset_sampled"
   ]
  },
  {
   "cell_type": "markdown",
   "id": "56788fcc-b10f-48bc-92cd-d25020d5a7df",
   "metadata": {},
   "source": [
    "# Use RF to Detect Lab Importance "
   ]
  },
  {
   "cell_type": "code",
   "execution_count": null,
   "id": "b7729e9e-525b-4513-9fa8-d9d46a2ef4b5",
   "metadata": {
    "tags": []
   },
   "outputs": [],
   "source": [
    "from sklearn.ensemble import RandomForestClassifier"
   ]
  },
  {
   "cell_type": "code",
   "execution_count": null,
   "id": "e63bd808-c61d-4533-bc96-5c9b0a6b4c5f",
   "metadata": {
    "tags": []
   },
   "outputs": [],
   "source": [
    "# drop patients for test set, drop patients contains nan\n",
    "dataset_clean = dataset_sampled.iloc[:train_len, :]\n",
    "dataset_clean = dataset_clean.dropna() "
   ]
  },
  {
   "cell_type": "code",
   "execution_count": null,
   "id": "7f420456-6b87-4e2b-8480-8131fcf825c6",
   "metadata": {
    "tags": []
   },
   "outputs": [],
   "source": [
    "dataset_clean.AKI_LABEL.value_counts()"
   ]
  },
  {
   "cell_type": "code",
   "execution_count": null,
   "id": "2f27751f-64f8-4f43-93fa-b43f3f3ccee1",
   "metadata": {
    "tags": []
   },
   "outputs": [],
   "source": [
    "X = dataset_clean.drop(columns=['AKI_LABEL']).loc[:, lab_feature_space]\n",
    "y = dataset_clean['AKI_LABEL']"
   ]
  },
  {
   "cell_type": "code",
   "execution_count": null,
   "id": "3a7bcef9-82b3-4bfc-a1af-4da567e28da5",
   "metadata": {
    "tags": []
   },
   "outputs": [],
   "source": [
    "rf = RandomForestClassifier(n_estimators=100, random_state=42)\n",
    "rf.fit(X, y)"
   ]
  },
  {
   "cell_type": "code",
   "execution_count": null,
   "id": "0756b2aa-d986-4404-846e-9ef6769437e6",
   "metadata": {
    "tags": []
   },
   "outputs": [],
   "source": [
    "feature_importances = rf.feature_importances_\n",
    "\n",
    "# ascending order\n",
    "feature_importance_df = pd.DataFrame({\n",
    "    'Feature': X.columns,\n",
    "    'Importance': feature_importances\n",
    "})"
   ]
  },
  {
   "cell_type": "code",
   "execution_count": null,
   "id": "1829be05-2858-465e-b2e1-11af46801478",
   "metadata": {
    "tags": []
   },
   "outputs": [],
   "source": [
    "assert(len(feature_importance_df) == len(lab_feature_space))"
   ]
  },
  {
   "cell_type": "code",
   "execution_count": null,
   "id": "3a699c6d-af03-4c98-ac9e-0a54879a07f9",
   "metadata": {
    "tags": []
   },
   "outputs": [],
   "source": [
    "# get the lab overlap weighting, that is top 20% features normalized according to feature importance and\n",
    "# set ohters to 0\n",
    "top_rate = 0.5\n",
    "threshold = feature_importance_df['Importance'].quantile(1 - top_rate)\n",
    "top_features = feature_importance_df['Importance'] >= threshold\n",
    "feature_importance_df['Weighting'] = 0.0\n",
    "feature_importance_df.loc[top_features, 'Weighting'] = \\\n",
    "feature_importance_df.loc[top_features, 'Importance'] / feature_importance_df.loc[top_features, 'Importance'].sum()"
   ]
  },
  {
   "cell_type": "code",
   "execution_count": null,
   "id": "a6c73831-65a7-4b0d-81a1-f9652fa31d0f",
   "metadata": {
    "tags": []
   },
   "outputs": [],
   "source": [
    "lab_overlap_weighting = list(feature_importance_df['Weighting'])"
   ]
  },
  {
   "cell_type": "code",
   "execution_count": null,
   "id": "cdc0abff-41e1-4590-a36d-50dee64353bc",
   "metadata": {
    "tags": []
   },
   "outputs": [],
   "source": [
    "dataset_sampled.reset_index(drop = True, inplace = True)\n",
    "dataset_sampled.to_csv(\"/blue/yonghui.wu/lideyi/Personalization_Methodology/dataset.csv\", index = False)"
   ]
  },
  {
   "cell_type": "code",
   "execution_count": null,
   "id": "8e781796-4304-4468-878d-5812f9feb3ba",
   "metadata": {
    "tags": []
   },
   "outputs": [],
   "source": [
    "time_window = [str(i) for i in time_window]"
   ]
  },
  {
   "cell_type": "markdown",
   "id": "5de47070-63d9-479f-98a4-4eb98f55754c",
   "metadata": {},
   "source": [
    "# Use Gaussian Distribution to Compute SCR Overlap Rates"
   ]
  },
  {
   "cell_type": "markdown",
   "id": "d1ef2a6b-60c4-4019-a312-936dcfa539b3",
   "metadata": {},
   "source": [
    "If 2 patient have records at the same day, then return True otherwise False (overlap vector). We use a Gaussian distribution to the overlap vector, that is closer to the prediction point, more overlap weights are added."
   ]
  },
  {
   "cell_type": "code",
   "execution_count": null,
   "id": "ca79e806-557b-4ba1-8e9b-46be7003a3ae",
   "metadata": {
    "tags": []
   },
   "outputs": [],
   "source": [
    "import scipy.stats as stats"
   ]
  },
  {
   "cell_type": "code",
   "execution_count": null,
   "id": "13686045-4f67-4ff8-b31c-8ac336afebf3",
   "metadata": {
    "tags": []
   },
   "outputs": [],
   "source": [
    "mean = 0.0\n",
    "sd_SCR = 1.5\n",
    "\n",
    "SCR_overlap_weighting = []\n",
    "for i in range(len(time_window)):\n",
    "    pos = len(time_window) - 1 - i\n",
    "    AUC = stats.norm.cdf(pos + 1, loc=mean, scale=sd_SCR) - stats.norm.cdf(pos, loc=mean, scale=sd_SCR)\n",
    "    SCR_overlap_weighting.append(AUC)\n",
    "    \n",
    "SCR_overlap_weighting = list(np.array(SCR_overlap_weighting) * 2)"
   ]
  },
  {
   "cell_type": "code",
   "execution_count": null,
   "id": "d0526a46",
   "metadata": {
    "tags": []
   },
   "outputs": [],
   "source": [
    "import json\n",
    "\n",
    "# Store variables in a dictionary\n",
    "data = {'start_date': start_date.strftime('%Y-%m-%d'), 'split_date': split_date.strftime('%Y-%m-%d'), 'end_date': end_date.strftime('%Y-%m-%d'),  \n",
    "        'train_len': train_len, 'test_len': test_len, 'SCR_feature_space': time_window, 'LAB_feature_space': lab_feature_space, \n",
    "        'SCR_overlap_weighting': SCR_overlap_weighting, 'LAB_overlap_weighting': lab_overlap_weighting}\n",
    "\n",
    "# Save to a JSON file\n",
    "with open('./utils/variables.json', 'w') as file:\n",
    "    json.dump(data, file)"
   ]
  }
 ],
 "metadata": {
  "kernelspec": {
   "display_name": "AKI_personalized_modeling",
   "language": "python",
   "name": "aki_personalized_modeling"
  },
  "language_info": {
   "codemirror_mode": {
    "name": "ipython",
    "version": 3
   },
   "file_extension": ".py",
   "mimetype": "text/x-python",
   "name": "python",
   "nbconvert_exporter": "python",
   "pygments_lexer": "ipython3",
   "version": "3.12.5"
  }
 },
 "nbformat": 4,
 "nbformat_minor": 5
}
