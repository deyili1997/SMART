{
 "cells": [
  {
   "cell_type": "code",
   "execution_count": 1,
   "id": "7d9a5b37",
   "metadata": {
    "tags": []
   },
   "outputs": [],
   "source": [
    "import pandas as pd\n",
    "import numpy as np\n",
    "import matplotlib.pyplot as plt\n",
    "import multiprocessing\n",
    "from multiprocessing import Pool\n",
    "from tqdm import tqdm\n",
    "import json\n",
    "from sklearn.metrics import roc_auc_score, average_precision_score, \\\n",
    "precision_score, recall_score, f1_score\n",
    "%store -r time_window\n",
    "%store -r lab_feature_space"
   ]
  },
  {
   "cell_type": "markdown",
   "id": "9797a559-2535-441e-93ef-4a16d5e114d3",
   "metadata": {},
   "source": [
    "May 15, 2024 Update: change all validation from 10-fold CV to one-vs-all method.  \n",
    "Still change back to most frequent measure\n",
    "Tomorrow modify weight combo search"
   ]
  },
  {
   "cell_type": "markdown",
   "id": "062ee374-504c-4cf9-8be2-537d97a2b4b0",
   "metadata": {},
   "source": [
    "May 16, 2024 Update: It seems that weight should be dynamic. Increase the portion of test set. \n",
    "Maybe for lab overlap rate, some indicator like BUN should be penalized more than others."
   ]
  },
  {
   "cell_type": "code",
   "execution_count": 2,
   "id": "e8eac94c",
   "metadata": {
    "tags": []
   },
   "outputs": [
    {
     "data": {
      "text/plain": [
       "40"
      ]
     },
     "execution_count": 2,
     "metadata": {},
     "output_type": "execute_result"
    }
   ],
   "source": [
    "len(lab_feature_space)"
   ]
  },
  {
   "cell_type": "code",
   "execution_count": 3,
   "id": "1f738398",
   "metadata": {
    "tags": []
   },
   "outputs": [],
   "source": [
    "num_processors = multiprocessing.cpu_count()"
   ]
  },
  {
   "cell_type": "code",
   "execution_count": 4,
   "id": "4bb2bbaa",
   "metadata": {
    "tags": []
   },
   "outputs": [],
   "source": [
    "dataset = pd.read_csv(\"/blue/yonghui.wu/lideyi/Personalization_Methodology/dataset.csv\")"
   ]
  },
  {
   "cell_type": "code",
   "execution_count": 5,
   "id": "6ebf704b",
   "metadata": {
    "tags": []
   },
   "outputs": [],
   "source": [
    "#data overlap rate (entire dataset)\n",
    "SCR_overlap = np.load('/blue/yonghui.wu/lideyi/Personalization_Methodology/SCR_overlap.npy')\n",
    "LAB_overlap = np.load('/blue/yonghui.wu/lideyi/Personalization_Methodology/lab_overlap.npy')"
   ]
  },
  {
   "cell_type": "code",
   "execution_count": 6,
   "id": "25394ab3-e1c8-4841-8c8a-c030bc542feb",
   "metadata": {},
   "outputs": [],
   "source": [
    "assert(SCR_overlap.shape[0] == LAB_overlap.shape[0])\n",
    "assert(~np.isnan(SCR_overlap).any())\n",
    "assert(~np.isnan(LAB_overlap).any())"
   ]
  },
  {
   "cell_type": "code",
   "execution_count": 7,
   "id": "72907502",
   "metadata": {
    "tags": []
   },
   "outputs": [],
   "source": [
    "# no need to shuffle again since we have done it.\n",
    "%store -r train_len\n",
    "%store -r test_len\n",
    "\n",
    "data_train = dataset.iloc[:train_len, :].copy(deep = True)\n",
    "data_test = dataset.iloc[train_len:, :].copy(deep = True)"
   ]
  },
  {
   "cell_type": "code",
   "execution_count": 8,
   "id": "8f1204a7",
   "metadata": {
    "tags": []
   },
   "outputs": [],
   "source": [
    "assert((len(data_train) + len(data_test)) == len(dataset))"
   ]
  },
  {
   "cell_type": "code",
   "execution_count": 9,
   "id": "027db2b2-17fa-47f4-87bd-0a34fe430560",
   "metadata": {},
   "outputs": [],
   "source": [
    "# normalize the dataset by train and test\n",
    "data_train = (data_train - data_train.min(skipna=True)) / \\\n",
    "(data_train.max(skipna=True) - data_train.min(skipna=True))\n",
    "\n",
    "data_test = (data_test - data_test.min(skipna=True)) / \\\n",
    "(data_test.max(skipna=True) - data_test.min(skipna=True))"
   ]
  },
  {
   "cell_type": "markdown",
   "id": "4c1cd93f",
   "metadata": {},
   "source": [
    "Note: train is patient pool, dev is for grid search, test is for testing performance. val is train + dev, train is train + test."
   ]
  },
  {
   "cell_type": "code",
   "execution_count": 10,
   "id": "c1686c03",
   "metadata": {
    "tags": []
   },
   "outputs": [],
   "source": [
    "# consequently, we will only use the upper-left block of the overlap rate mtx for just val set\n",
    "SCR_overlap_train = SCR_overlap[:len(data_train), :len(data_train)]\n",
    "LAB_overlap_train = LAB_overlap[:len(data_train), :len(data_train)]"
   ]
  },
  {
   "cell_type": "markdown",
   "id": "ca4932b8",
   "metadata": {},
   "source": [
    "# Compute SCr Similarity "
   ]
  },
  {
   "cell_type": "markdown",
   "id": "5319fa32",
   "metadata": {},
   "source": [
    "Methods: DTW-AROW on raw, linear interpolation + Euclidean distance, cosine similarity, Manhattan"
   ]
  },
  {
   "cell_type": "markdown",
   "id": "2469a890",
   "metadata": {},
   "source": [
    "1. DTW-AROW"
   ]
  },
  {
   "cell_type": "code",
   "execution_count": 11,
   "id": "be3c2038",
   "metadata": {
    "tags": []
   },
   "outputs": [],
   "source": [
    "# to compute similarity mtx on SCR, we still need to compute the global\n",
    "# SCR similarity mtx (so that we can use well-written functions)\n",
    "# DTW-AROW\n",
    "import sys\n",
    "sys.path.append('/home/lideyi/AKI_Personalization_Methodology/DTW_with_missing_values')\n",
    "import dtw_missing.dtw_missing as dtw_m\n",
    "import nbimporter\n",
    "from Z_Helping_Functions import translate_dist_mtx_to_simi, \\\n",
    "fast_argsort, slow_argsort, min_max_normalization"
   ]
  },
  {
   "cell_type": "code",
   "execution_count": 12,
   "id": "5e28d451",
   "metadata": {
    "tags": []
   },
   "outputs": [],
   "source": [
    "# get SCR measurements for val(i.e. both train and dev)\n",
    "SCR = dataset.loc[:, time_window]"
   ]
  },
  {
   "cell_type": "code",
   "execution_count": 13,
   "id": "b66f26ae-4c8c-4a02-977d-b26c3d72a486",
   "metadata": {},
   "outputs": [],
   "source": [
    "def parallel_distance_matrix(df, num_processes, metric):\n",
    "    pool = Pool(num_processes)\n",
    "    total = len(df)\n",
    "\n",
    "    results = list(tqdm(pool.imap(calculate_overlap, \n",
    "                                  [(i, df, metric) for i in range(total - 1)]), \n",
    "                            total=total - 1))\n",
    "    pool.close()\n",
    "    pool.join()\n",
    "    return create_distance_matrix(results)"
   ]
  },
  {
   "cell_type": "code",
   "execution_count": 14,
   "id": "fe907af8-4696-448c-9102-d37a6560ee29",
   "metadata": {},
   "outputs": [],
   "source": [
    "def calculate_overlap(args):\n",
    "    index, df, metric = args\n",
    "    return [metric(df.iloc[index], df.iloc[j]) for j in range(index + 1, len(df))]"
   ]
  },
  {
   "cell_type": "code",
   "execution_count": 15,
   "id": "3c391465-5b6a-4e50-b9da-2cf57c0c6cb8",
   "metadata": {},
   "outputs": [],
   "source": [
    "def create_distance_matrix(distance_list):\n",
    "    n = len(distance_list[0]) + 1\n",
    "\n",
    "    matrix = np.zeros((n, n))\n",
    "\n",
    "    for i in range(n-1):\n",
    "        matrix[i, i+1:i+1+len(distance_list[i])] = distance_list[i]\n",
    "\n",
    "    for i in range(n):\n",
    "        for j in range(i+1, n):\n",
    "            matrix[j, i] = matrix[i, j]\n",
    "    return matrix"
   ]
  },
  {
   "cell_type": "code",
   "execution_count": 16,
   "id": "85df33bf",
   "metadata": {
    "tags": []
   },
   "outputs": [],
   "source": [
    "def get_DTW_distance(u, v):\n",
    "    u = np.array(u)\n",
    "    v = np.array(v)\n",
    "    d = dtw_m.warping_paths(u, v)[0]\n",
    "    return d"
   ]
  },
  {
   "cell_type": "code",
   "execution_count": 17,
   "id": "89a3f9ad",
   "metadata": {
    "tags": []
   },
   "outputs": [
    {
     "name": "stderr",
     "output_type": "stream",
     "text": [
      "100%|██████████| 20536/20536 [1:16:27<00:00,  4.48it/s]  \n"
     ]
    }
   ],
   "source": [
    "SCR_DTW_dist = parallel_distance_matrix(SCR, num_processors, get_DTW_distance)\n",
    "np.save('/blue/yonghui.wu/lideyi/Personalization_Methodology/SCR_DTW_dist_imput1.npy', SCR_DTW_dist)"
   ]
  },
  {
   "cell_type": "code",
   "execution_count": 18,
   "id": "f553edcb-aeac-462c-a7d2-242c2fc32e63",
   "metadata": {
    "tags": []
   },
   "outputs": [],
   "source": [
    "SCR_DTW_dist = np.load('/blue/yonghui.wu/lideyi/Personalization_Methodology/SCR_DTW_dist_imput1.npy')"
   ]
  },
  {
   "cell_type": "code",
   "execution_count": 19,
   "id": "4e92471c-4dde-4748-ae0e-6df8b58dc0b4",
   "metadata": {
    "tags": []
   },
   "outputs": [],
   "source": [
    "# transfrom distance mtx to similarity score mtx by min-max normalization\n",
    "SCR_DTW_simi = translate_dist_mtx_to_simi(SCR_DTW_dist)\n",
    "# transform similarity score mtx to idx matrix by most similar rank highest\n",
    "SCR_DTW_idx = fast_argsort(SCR_DTW_simi, num_processors)"
   ]
  },
  {
   "cell_type": "code",
   "execution_count": 20,
   "id": "0b7038d0-9069-4b43-9fa3-1a2a712b0aa7",
   "metadata": {
    "tags": []
   },
   "outputs": [],
   "source": [
    "SCR_DTW_dist_train = SCR_DTW_dist[:len(data_train), :len(data_train)]\n",
    "SCR_DTW_simi_train = translate_dist_mtx_to_simi(SCR_DTW_dist_train)\n",
    "SCR_DTW_idx_train = fast_argsort(SCR_DTW_simi_train, num_processors)"
   ]
  },
  {
   "cell_type": "code",
   "execution_count": 21,
   "id": "71fd3619-c691-4f32-8765-a041f4705604",
   "metadata": {
    "tags": []
   },
   "outputs": [],
   "source": [
    "assert(~np.isnan(SCR_DTW_simi).any())\n",
    "assert(~np.isnan(SCR_DTW_idx).any())\n",
    "assert(~np.isnan(SCR_DTW_simi_train).any())\n",
    "assert(~np.isnan(SCR_DTW_idx_train).any())"
   ]
  },
  {
   "cell_type": "markdown",
   "id": "1a3ae6a0",
   "metadata": {},
   "source": [
    "2. Euclidean distance"
   ]
  },
  {
   "cell_type": "code",
   "execution_count": 22,
   "id": "e61b8c5f",
   "metadata": {
    "tags": []
   },
   "outputs": [],
   "source": [
    "# Euclidean distance and following methods do not support missing values.\n",
    "# we need use mean to fill in missing values\n",
    "SCR_ip = SCR.fillna(SCR.mean())"
   ]
  },
  {
   "cell_type": "code",
   "execution_count": 23,
   "id": "24ebf2a0",
   "metadata": {
    "tags": []
   },
   "outputs": [],
   "source": [
    "from sklearn.metrics import pairwise_distances"
   ]
  },
  {
   "cell_type": "code",
   "execution_count": 24,
   "id": "086bc0f9",
   "metadata": {
    "tags": []
   },
   "outputs": [],
   "source": [
    "SCR_Euc_dist = pairwise_distances(SCR_ip, metric='euclidean', n_jobs=-1)\n",
    "SCR_Euc_simi = translate_dist_mtx_to_simi(SCR_Euc_dist)\n",
    "SCR_Euc_idx = fast_argsort(SCR_Euc_simi, num_processors)"
   ]
  },
  {
   "cell_type": "code",
   "execution_count": 25,
   "id": "26b457d3",
   "metadata": {
    "tags": []
   },
   "outputs": [],
   "source": [
    "SCR_Euc_dist_train = SCR_Euc_dist[:len(data_train), :len(data_train)]\n",
    "SCR_Euc_simi_train = translate_dist_mtx_to_simi(SCR_Euc_dist_train)\n",
    "SCR_Euc_idx_train = fast_argsort(SCR_Euc_simi_train, num_processors)"
   ]
  },
  {
   "cell_type": "code",
   "execution_count": 26,
   "id": "645642ef-a1fd-47cc-97f0-edca03a84f0c",
   "metadata": {
    "tags": []
   },
   "outputs": [],
   "source": [
    "assert(~np.isnan(SCR_Euc_simi).any())\n",
    "assert(~np.isnan(SCR_Euc_idx).any())\n",
    "assert(~np.isnan(SCR_Euc_simi_train).any())\n",
    "assert(~np.isnan(SCR_Euc_idx_train).any())"
   ]
  },
  {
   "cell_type": "markdown",
   "id": "97a41fe5",
   "metadata": {},
   "source": [
    "3. Cosine"
   ]
  },
  {
   "cell_type": "code",
   "execution_count": 27,
   "id": "c97ef362",
   "metadata": {
    "tags": []
   },
   "outputs": [],
   "source": [
    "SCR_Cos_dist = pairwise_distances(SCR_ip, metric='cosine', n_jobs=-1)\n",
    "SCR_Cos_simi = translate_dist_mtx_to_simi(SCR_Cos_dist)\n",
    "SCR_Cos_idx = fast_argsort(SCR_Cos_simi, num_processors)"
   ]
  },
  {
   "cell_type": "code",
   "execution_count": 28,
   "id": "a9fd5c9d",
   "metadata": {
    "tags": []
   },
   "outputs": [],
   "source": [
    "SCR_Cos_dist_train = SCR_Cos_dist[:len(data_train), :len(data_train)]\n",
    "SCR_Cos_simi_train = translate_dist_mtx_to_simi(SCR_Cos_dist_train)\n",
    "SCR_Cos_idx_train = fast_argsort(SCR_Cos_simi_train, num_processors)"
   ]
  },
  {
   "cell_type": "code",
   "execution_count": 29,
   "id": "bc736c6d-beb8-40bb-8723-5b300209a9fc",
   "metadata": {
    "tags": []
   },
   "outputs": [],
   "source": [
    "assert(~np.isnan(SCR_Cos_simi).any())\n",
    "assert(~np.isnan(SCR_Cos_idx).any())\n",
    "assert(~np.isnan(SCR_Cos_simi_train).any())\n",
    "assert(~np.isnan(SCR_Cos_idx_train).any())"
   ]
  },
  {
   "cell_type": "markdown",
   "id": "982bc5c3",
   "metadata": {},
   "source": [
    "4. Manhattan"
   ]
  },
  {
   "cell_type": "code",
   "execution_count": 30,
   "id": "fd2f3d56",
   "metadata": {
    "tags": []
   },
   "outputs": [],
   "source": [
    "SCR_Manh_dist = pairwise_distances(SCR_ip, metric='manhattan', n_jobs=-1)\n",
    "SCR_Manh_simi = translate_dist_mtx_to_simi(SCR_Manh_dist)\n",
    "SCR_Manh_idx = fast_argsort(SCR_Manh_simi, num_processors)"
   ]
  },
  {
   "cell_type": "code",
   "execution_count": 31,
   "id": "dd539707",
   "metadata": {
    "tags": []
   },
   "outputs": [],
   "source": [
    "SCR_Manh_dist_train = SCR_Manh_dist[:len(data_train), :len(data_train)]\n",
    "SCR_Manh_simi_train = translate_dist_mtx_to_simi(SCR_Manh_dist_train)\n",
    "SCR_Manh_idx_train = fast_argsort(SCR_Manh_simi_train, num_processors)"
   ]
  },
  {
   "cell_type": "code",
   "execution_count": 32,
   "id": "d589cfd7-ffe7-4080-8df2-8a33bc3fcbcd",
   "metadata": {
    "tags": []
   },
   "outputs": [],
   "source": [
    "assert(~np.isnan(SCR_Cos_simi).any())\n",
    "assert(~np.isnan(SCR_Cos_idx).any())\n",
    "assert(~np.isnan(SCR_Cos_simi_train).any())\n",
    "assert(~np.isnan(SCR_Cos_idx_train).any())"
   ]
  },
  {
   "cell_type": "markdown",
   "id": "0d33246b",
   "metadata": {},
   "source": [
    "# Compute Lab Similarity "
   ]
  },
  {
   "cell_type": "markdown",
   "id": "638dc29f",
   "metadata": {},
   "source": [
    "Replace missing value by mean"
   ]
  },
  {
   "cell_type": "code",
   "execution_count": 33,
   "id": "1a1b2585",
   "metadata": {
    "tags": []
   },
   "outputs": [],
   "source": [
    "LAB_train = data_train.loc[:, lab_feature_space]\n",
    "LAB_test = data_test.loc[:, lab_feature_space]"
   ]
  },
  {
   "cell_type": "code",
   "execution_count": 34,
   "id": "0dd74848",
   "metadata": {
    "tags": []
   },
   "outputs": [],
   "source": [
    "#replace the entire lab feature space with imputated value\n",
    "LAB_train.loc[:, :] = LAB_train.fillna(LAB_train.mean())\n",
    "LAB_test.loc[:, :] = LAB_test.fillna(LAB_test.mean())"
   ]
  },
  {
   "cell_type": "code",
   "execution_count": 35,
   "id": "5a5b4a5c-8cbf-4d34-b5ee-708c606c6ced",
   "metadata": {
    "tags": []
   },
   "outputs": [],
   "source": [
    "# we concate train and test back together to facilitate computing\n",
    "# but still metric is learned from train data\n",
    "LAB_ip = pd.concat([LAB_train, LAB_test], axis = 0)"
   ]
  },
  {
   "cell_type": "markdown",
   "id": "4cdda5b7",
   "metadata": {},
   "source": [
    "1. Use Euclidean Distance to measure Lab"
   ]
  },
  {
   "cell_type": "code",
   "execution_count": 36,
   "id": "6daf8bc4",
   "metadata": {
    "tags": []
   },
   "outputs": [],
   "source": [
    "LAB_Euc_dist = pairwise_distances(LAB_ip, metric='euclidean', n_jobs=-1)\n",
    "LAB_Euc_simi = translate_dist_mtx_to_simi(LAB_Euc_dist)\n",
    "LAB_Euc_idx = fast_argsort(LAB_Euc_simi, num_processors)"
   ]
  },
  {
   "cell_type": "code",
   "execution_count": 37,
   "id": "f744b3e8",
   "metadata": {
    "tags": []
   },
   "outputs": [],
   "source": [
    "LAB_Euc_dist_train = LAB_Euc_dist[:len(data_train), :len(data_train)]\n",
    "LAB_Euc_simi_train = translate_dist_mtx_to_simi(LAB_Euc_dist_train)\n",
    "LAB_Euc_idx_train = fast_argsort(LAB_Euc_simi_train, num_processors)"
   ]
  },
  {
   "cell_type": "code",
   "execution_count": 38,
   "id": "f28f7fc6-c533-4710-a465-ed04f9cedbaa",
   "metadata": {
    "tags": []
   },
   "outputs": [],
   "source": [
    "assert(~np.isnan(LAB_Euc_simi).any())\n",
    "assert(~np.isnan(LAB_Euc_idx).any())\n",
    "assert(~np.isnan(LAB_Euc_simi_train).any())\n",
    "assert(~np.isnan(LAB_Euc_idx_train).any())"
   ]
  },
  {
   "cell_type": "markdown",
   "id": "3e130502-0a69-4f4a-83e6-e25b19728f91",
   "metadata": {},
   "source": [
    "2. Use Cosine Distance to measure Lab"
   ]
  },
  {
   "cell_type": "code",
   "execution_count": 39,
   "id": "b58e3eef-6716-4357-90de-729c99995e3d",
   "metadata": {
    "tags": []
   },
   "outputs": [],
   "source": [
    "LAB_Cos_dist = pairwise_distances(LAB_ip, metric='cosine', n_jobs=-1)\n",
    "LAB_Cos_simi = translate_dist_mtx_to_simi(LAB_Cos_dist)\n",
    "LAB_Cos_idx = fast_argsort(LAB_Cos_simi, num_processors)"
   ]
  },
  {
   "cell_type": "code",
   "execution_count": 40,
   "id": "6b715c5a-815c-4a0d-aa07-7dc8f839ae05",
   "metadata": {
    "tags": []
   },
   "outputs": [],
   "source": [
    "LAB_Cos_dist_train = LAB_Cos_dist[:len(data_train), :len(data_train)]\n",
    "LAB_Cos_simi_train = translate_dist_mtx_to_simi(LAB_Cos_dist_train)\n",
    "LAB_Cos_idx_train = fast_argsort(LAB_Cos_simi_train, num_processors)"
   ]
  },
  {
   "cell_type": "code",
   "execution_count": 41,
   "id": "d345c08a-b46c-4390-85ba-3066939959ae",
   "metadata": {
    "tags": []
   },
   "outputs": [],
   "source": [
    "assert(~np.isnan(LAB_Cos_simi).any())\n",
    "assert(~np.isnan(LAB_Cos_idx).any())\n",
    "assert(~np.isnan(LAB_Cos_simi_train).any())\n",
    "assert(~np.isnan(LAB_Cos_idx_train).any())"
   ]
  },
  {
   "cell_type": "markdown",
   "id": "08c0155c-b9c7-4a31-857e-e67d111a3aa2",
   "metadata": {},
   "source": [
    "3. Use Manhattan Distance to measure Lab"
   ]
  },
  {
   "cell_type": "code",
   "execution_count": 42,
   "id": "55de9ce5-40e1-4281-bcf4-92860f62da78",
   "metadata": {
    "tags": []
   },
   "outputs": [],
   "source": [
    "LAB_Manh_dist = pairwise_distances(LAB_ip, metric='manhattan', n_jobs=-1)\n",
    "LAB_Manh_simi = translate_dist_mtx_to_simi(LAB_Manh_dist)\n",
    "LAB_Manh_idx = fast_argsort(LAB_Manh_simi, num_processors)"
   ]
  },
  {
   "cell_type": "code",
   "execution_count": 43,
   "id": "c5b49e97-a893-4d82-bc9a-c3d40117d409",
   "metadata": {
    "tags": []
   },
   "outputs": [],
   "source": [
    "LAB_Manh_dist_train = LAB_Manh_dist[:len(data_train), :len(data_train)]\n",
    "LAB_Manh_simi_train = translate_dist_mtx_to_simi(LAB_Manh_dist_train)\n",
    "LAB_Manh_idx_train = fast_argsort(LAB_Manh_simi_train, num_processors)"
   ]
  },
  {
   "cell_type": "code",
   "execution_count": 44,
   "id": "10457f21-35fd-4aa5-ae88-375ddf551ec9",
   "metadata": {
    "tags": []
   },
   "outputs": [],
   "source": [
    "assert(~np.isnan(LAB_Manh_simi).any())\n",
    "assert(~np.isnan(LAB_Manh_idx).any())\n",
    "assert(~np.isnan(LAB_Manh_simi_train).any())\n",
    "assert(~np.isnan(LAB_Manh_idx_train).any())"
   ]
  },
  {
   "cell_type": "markdown",
   "id": "3d3396f0",
   "metadata": {},
   "source": [
    "# Weighting Each Simi Mtx Computed Above by Overlap Rates and Re-estimate Idx Mtx"
   ]
  },
  {
   "cell_type": "code",
   "execution_count": 45,
   "id": "ac2d44f0",
   "metadata": {
    "tags": []
   },
   "outputs": [],
   "source": [
    "def weighted_by_overlap_mtx(overlap_mtx, simi_mtx, num_processors):\n",
    "    weighted_simi = overlap_mtx * simi_mtx\n",
    "    weighted_idx = fast_argsort(weighted_simi, num_processors)\n",
    "    return weighted_simi, weighted_idx"
   ]
  },
  {
   "cell_type": "code",
   "execution_count": 46,
   "id": "dc723ea6",
   "metadata": {
    "tags": []
   },
   "outputs": [],
   "source": [
    "# val\n",
    "# for all SCR similarity mtx\n",
    "SCR_DTW_simi_w, SCR_DTW_idx_w = weighted_by_overlap_mtx(SCR_overlap, SCR_DTW_simi, num_processors)\n",
    "SCR_Euc_simi_w, SCR_Euc_idx_w = weighted_by_overlap_mtx(SCR_overlap, SCR_Euc_simi, num_processors)\n",
    "SCR_Cos_simi_w, SCR_Cos_idx_w = weighted_by_overlap_mtx(SCR_overlap, SCR_Cos_simi, num_processors)\n",
    "SCR_Manh_simi_w, SCR_Manh_idx_w = weighted_by_overlap_mtx(SCR_overlap, SCR_Manh_simi, num_processors)\n",
    "\n",
    "# for all LAB similarity mtx\n",
    "LAB_Euc_simi_w, LAB_Euc_idx_w = weighted_by_overlap_mtx(LAB_overlap, LAB_Euc_simi, num_processors)\n",
    "LAB_Cos_simi_w, LAB_Cos_idx_w = weighted_by_overlap_mtx(LAB_overlap, LAB_Cos_simi, num_processors)\n",
    "LAB_Manh_simi_w, LAB_Manh_idx_w = weighted_by_overlap_mtx(LAB_overlap, LAB_Manh_simi, num_processors)"
   ]
  },
  {
   "cell_type": "code",
   "execution_count": 47,
   "id": "d4f2421c",
   "metadata": {
    "tags": []
   },
   "outputs": [],
   "source": [
    "# train\n",
    "# for all SCR similarity mtx\n",
    "SCR_DTW_simi_w_train, SCR_DTW_idx_w_train = weighted_by_overlap_mtx(SCR_overlap_train, SCR_DTW_simi_train, num_processors)\n",
    "SCR_Euc_simi_w_train, SCR_Euc_idx_w_train = weighted_by_overlap_mtx(SCR_overlap_train, SCR_Euc_simi_train, num_processors)\n",
    "SCR_Cos_simi_w_train, SCR_Cos_idx_w_train = weighted_by_overlap_mtx(SCR_overlap_train, SCR_Cos_simi_train, num_processors)\n",
    "SCR_Manh_simi_w_train, SCR_Manh_idx_w_train = weighted_by_overlap_mtx(SCR_overlap_train, SCR_Manh_simi_train, num_processors)\n",
    "\n",
    "# for all LAB similarity mtx\n",
    "LAB_Euc_simi_w_train, LAB_Euc_idx_w_train = weighted_by_overlap_mtx(LAB_overlap_train, LAB_Euc_simi_train, num_processors)\n",
    "LAB_Cos_simi_w_train, LAB_Cos_idx_w_train = weighted_by_overlap_mtx(LAB_overlap_train, LAB_Cos_simi_train, num_processors)\n",
    "LAB_Manh_simi_w_train, LAB_Manh_idx_w_train = weighted_by_overlap_mtx(LAB_overlap_train, LAB_Manh_simi_train, num_processors)"
   ]
  },
  {
   "cell_type": "markdown",
   "id": "5cb8b020",
   "metadata": {},
   "source": [
    "# Summary of Similarity Idx Matrices, Sanity Check and Organize them into Dictionary"
   ]
  },
  {
   "cell_type": "markdown",
   "id": "ff4a14ea",
   "metadata": {},
   "source": [
    "The similarity idx matrix is for the entire data(train + test). We only need the neareast neighbors in training data for each test data point. Thus we organize them into dictionaries. Keys are the index of each test data point and values are lists of the indicies of nearest training data point."
   ]
  },
  {
   "cell_type": "code",
   "execution_count": 48,
   "id": "2f442348-e4af-4beb-9910-cded47bc19e5",
   "metadata": {
    "tags": []
   },
   "outputs": [],
   "source": [
    "from sklearn.model_selection import KFold"
   ]
  },
  {
   "cell_type": "code",
   "execution_count": 49,
   "id": "ab89c9aa",
   "metadata": {
    "tags": []
   },
   "outputs": [],
   "source": [
    "# get idx to process dicts\n",
    "train_idx = np.array(data_train.index)"
   ]
  },
  {
   "cell_type": "code",
   "execution_count": 50,
   "id": "6e83251c-7e49-4b70-89a6-c14ca1abf42d",
   "metadata": {
    "tags": []
   },
   "outputs": [],
   "source": [
    "# generate simi_dict for one-vs-all val\n",
    "def process_similarity_arr_for_train(train_idx, y_train, simi_mtx, idx_mtx):\n",
    "    neighbor_idx = remove_elements_equal_to_row_index(idx_mtx)\n",
    "    \n",
    "    neighbor_simi = extract_elements_based_on_indices(neighbor_idx, simi_mtx)\n",
    "    \n",
    "    y_train_arr = np.tile(y_train, (neighbor_idx.shape[0], 1))\n",
    "    \n",
    "    neighbor_y = extract_elements_based_on_indices(neighbor_idx, y_train_arr)\n",
    "    \n",
    "    assert(neighbor_simi.shape[1] == neighbor_y.shape[1])\n",
    "    \n",
    "    return neighbor_simi, neighbor_y"
   ]
  },
  {
   "cell_type": "code",
   "execution_count": 51,
   "id": "2123c94b-9f9e-4db9-9947-3b21712a9ec0",
   "metadata": {
    "tags": []
   },
   "outputs": [],
   "source": [
    "def extract_elements_based_on_indices(idx_mtx, base_mtx):\n",
    "    # Convert the input matrices to NumPy arrays for easier manipulation\n",
    "    \n",
    "    if np.any(idx_mtx >= base_mtx.shape[1]) or np.any(idx_mtx < 0):\n",
    "        raise ValueError(\"Matrix A contains indices that are out of bounds for Matrix B\")\n",
    "    \n",
    "    # Use advanced indexing to select the elements from matrix_b\n",
    "    row_indices = np.arange(idx_mtx.shape[0])[:, None]  # Create an array of row indices\n",
    "    result_matrix = base_mtx[row_indices, idx_mtx]  # Use the row indices and matrix_a for advanced indexing\n",
    "    \n",
    "    return result_matrix"
   ]
  },
  {
   "cell_type": "code",
   "execution_count": 52,
   "id": "0a61e9d3-b213-4afc-b718-936224a54490",
   "metadata": {
    "tags": []
   },
   "outputs": [],
   "source": [
    "def remove_elements_equal_to_row_index(matrix):\n",
    "    # Convert the input matrix to a NumPy array for easier manipulation\n",
    "    matrix = np.array(matrix)\n",
    "    \n",
    "    # Create a list to hold the new rows\n",
    "    new_matrix = []\n",
    "    \n",
    "    # Iterate through each row in the matrix\n",
    "    for row_index in range(matrix.shape[0]):\n",
    "        # Get the current row\n",
    "        row = matrix[row_index]\n",
    "        # Create a new row excluding the element equal to the row index\n",
    "        new_row = row[row != row_index]\n",
    "        # Append the new row to the new_matrix list\n",
    "        new_matrix.append(new_row)\n",
    "    \n",
    "    # Convert the list of rows back to a NumPy array\n",
    "    new_matrix = np.array(new_matrix)\n",
    "    \n",
    "    return new_matrix"
   ]
  },
  {
   "cell_type": "code",
   "execution_count": 53,
   "id": "1be28337-e0d6-4f2f-91df-79b664faeb7e",
   "metadata": {
    "tags": []
   },
   "outputs": [],
   "source": [
    "y_train = np.array(data_train[\"AKI_LABEL\"])"
   ]
  },
  {
   "cell_type": "code",
   "execution_count": 54,
   "id": "8cd2146d-08f8-4259-8714-63f92985d918",
   "metadata": {
    "tags": []
   },
   "outputs": [],
   "source": [
    "SCR_DTW_simi_train_clean, SCR_DTW_y_train_clean = process_similarity_arr_for_train(train_idx, y_train, SCR_DTW_simi_train, SCR_DTW_idx_train)\n",
    "SCR_DTW_simi_w_train_clean, SCR_DTW_y_w_train_clean = process_similarity_arr_for_train(train_idx, y_train, SCR_DTW_simi_w_train, SCR_DTW_idx_w_train)\n",
    "\n",
    "SCR_Euc_simi_train_clean, SCR_Euc_y_train_clean = process_similarity_arr_for_train(train_idx, y_train, SCR_Euc_simi_train, SCR_Euc_idx_train)\n",
    "SCR_Euc_simi_w_train_clean, SCR_Euc_y_w_train_clean = process_similarity_arr_for_train(train_idx, y_train, SCR_Euc_simi_w_train, SCR_Euc_idx_w_train)\n",
    "\n",
    "SCR_Cos_simi_train_clean, SCR_Cos_y_train_clean = process_similarity_arr_for_train(train_idx, y_train, SCR_Cos_simi_train, SCR_Cos_idx_train)\n",
    "SCR_Cos_simi_w_train_clean, SCR_Cos_y_w_train_clean = process_similarity_arr_for_train(train_idx, y_train, SCR_Cos_simi_w_train, SCR_Cos_idx_w_train)\n",
    "\n",
    "SCR_Manh_simi_train_clean, SCR_Manh_y_train_clean = process_similarity_arr_for_train(train_idx, y_train, SCR_Manh_simi_train, SCR_Manh_idx_train)\n",
    "SCR_Manh_simi_w_train_clean, SCR_Manh_y_w_train_clean = process_similarity_arr_for_train(train_idx, y_train, SCR_Manh_simi_w_train, SCR_Manh_idx_w_train)"
   ]
  },
  {
   "cell_type": "code",
   "execution_count": 55,
   "id": "46d5588c-c4c1-4a8c-9341-9855dd93f730",
   "metadata": {
    "tags": []
   },
   "outputs": [],
   "source": [
    "LAB_Euc_simi_train_clean, LAB_Euc_y_train_clean = process_similarity_arr_for_train(train_idx, y_train, LAB_Euc_simi_train, LAB_Euc_idx_train)\n",
    "LAB_Euc_simi_w_train_clean, LAB_Euc_y_w_train_clean = process_similarity_arr_for_train(train_idx, y_train, LAB_Euc_simi_w_train, LAB_Euc_idx_w_train)\n",
    "\n",
    "LAB_Cos_simi_train_clean, LAB_Cos_y_train_clean = process_similarity_arr_for_train(train_idx, y_train, LAB_Cos_simi_train, LAB_Cos_idx_train)\n",
    "LAB_Cos_simi_w_train_clean, LAB_Cos_y_w_train_clean = process_similarity_arr_for_train(train_idx, y_train, LAB_Cos_simi_w_train, LAB_Cos_idx_w_train)\n",
    "\n",
    "LAB_Manh_simi_train_clean, LAB_Manh_y_train_clean = process_similarity_arr_for_train(train_idx, y_train, LAB_Manh_simi_train, LAB_Manh_idx_train)\n",
    "LAB_Manh_simi_w_train_clean, LAB_Manh_y_w_train_clean = process_similarity_arr_for_train(train_idx, y_train, LAB_Manh_simi_w_train, LAB_Manh_idx_w_train)"
   ]
  },
  {
   "cell_type": "markdown",
   "id": "1bb91aa8",
   "metadata": {},
   "source": [
    "# Define Global Parameters  and Functions"
   ]
  },
  {
   "cell_type": "code",
   "execution_count": 56,
   "id": "2dad6d77",
   "metadata": {
    "tags": []
   },
   "outputs": [
    {
     "name": "stdout",
     "output_type": "stream",
     "text": [
      "Stored 'k_sizes' (list)\n"
     ]
    }
   ],
   "source": [
    "# neighborhood size, \n",
    "k_sizes = [i for i in range(1, 200, 4)]\n",
    "%store k_sizes"
   ]
  },
  {
   "cell_type": "code",
   "execution_count": 57,
   "id": "62674a17",
   "metadata": {
    "tags": []
   },
   "outputs": [],
   "source": [
    "#return AUROC and AUPRC at a certain size k\n",
    "def KNN(simi_dict, k, y_test, use_weighted_voting):\n",
    "    assert(len(y_test) == simi_dict[\"label\"].shape[0])\n",
    "    \n",
    "    y_probs = []\n",
    "    y_preds = []\n",
    "    \n",
    "    for i in range(len(y_test)):\n",
    "        k_labels = simi_dict[\"label\"][i, :k]\n",
    "        k_scores = simi_dict[\"score\"][i, :k]\n",
    "\n",
    "        \n",
    "        if not use_weighted_voting:\n",
    "            y_prob = np.sum(k_labels) / len(k_labels)\n",
    "        else:\n",
    "            y_prob = weighted_voting(k_labels, k_scores)\n",
    "            \n",
    "        y_probs.append(y_prob)\n",
    "        \n",
    "        if y_prob >= 0.5:\n",
    "            y_preds.append(1)\n",
    "        else:\n",
    "            y_preds.append(0)\n",
    "    \n",
    "    assert(len(y_probs) == len(y_test))\n",
    "    assert(not np.isnan(np.array(y_probs)).any())\n",
    "    \n",
    "    #AUPRC and AUROC\n",
    "    AUPRC = average_precision_score(y_test, y_probs)\n",
    "    AUROC = roc_auc_score(y_test, y_probs)\n",
    "    f1 = f1_score(y_test, y_preds)\n",
    "    return AUPRC, AUROC, f1"
   ]
  },
  {
   "cell_type": "code",
   "execution_count": 58,
   "id": "b3f63549",
   "metadata": {
    "tags": []
   },
   "outputs": [],
   "source": [
    "# we also want to test whether weighted KNN can enhance the performance\n",
    "def weighted_voting(k_labels, k_scores):\n",
    "    total_weight = np.sum(k_scores)\n",
    "    \n",
    "    #address the deno is 0\n",
    "    if total_weight == 0:\n",
    "        return 0\n",
    "    \n",
    "    weighted_ones = np.sum(np.array(k_labels) * np.array(k_scores))\n",
    "\n",
    "    assert(weighted_ones <= total_weight)\n",
    "    weighted_probability = weighted_ones / total_weight\n",
    "\n",
    "    return weighted_probability"
   ]
  },
  {
   "cell_type": "code",
   "execution_count": 59,
   "id": "5230e451",
   "metadata": {
    "tags": []
   },
   "outputs": [],
   "source": [
    "# main function: return a dict, key is name and performance, value of \"name\" is a list of length len(k_sizes)\n",
    "# record the best distance measure for this k under the condition of weither overlap weighting or weignted KNN voting\n",
    "# performance is AUPRC\n",
    "def compare_feature_repr(simi_dict_collection, y_test, \n",
    "                         k_sizes, use_weighted_voting = False):\n",
    "    #simi_dict_collection is a dict and of structure: {Method name: simi_dict}\n",
    "    \n",
    "    best_method_each_k = dict()\n",
    "    best_method_each_k[\"name\"] = []\n",
    "    best_method_each_k[\"performance\"] = []\n",
    "    \n",
    "    for k in tqdm(k_sizes):\n",
    "        \n",
    "        best_method_name = ''\n",
    "        best_method_performance = 0\n",
    "        \n",
    "        for name, simi_dict in simi_dict_collection.items():\n",
    "            AUPRC, AUROC, f1 = KNN(simi_dict, k, y_test, use_weighted_voting)\n",
    "            \n",
    "            focus_metirc = AUPRC\n",
    "            \n",
    "            # if better AUPRC, update\n",
    "            if focus_metirc > best_method_performance:\n",
    "                best_method_name = name\n",
    "                best_method_performance = focus_metirc\n",
    "                \n",
    "        best_method_each_k[\"name\"].append(best_method_name)\n",
    "        best_method_each_k[\"performance\"].append(best_method_performance)\n",
    "    \n",
    "    return best_method_each_k    "
   ]
  },
  {
   "cell_type": "markdown",
   "id": "119a4e7d-132f-485b-ba7b-f61732f9bdc0",
   "metadata": {},
   "source": [
    "# Search Best Distance Measure"
   ]
  },
  {
   "cell_type": "markdown",
   "id": "9213c930",
   "metadata": {},
   "source": [
    "Fill in the Record dataframe"
   ]
  },
  {
   "cell_type": "code",
   "execution_count": 60,
   "id": "a458687e-6a3e-4bc1-a0d3-cb2912f3d2c3",
   "metadata": {
    "tags": []
   },
   "outputs": [],
   "source": [
    "# create a table to track all performance\n",
    "# OW is overlap rate weighting, WV is weighted KNN voting\n",
    "grid_search_table = \\\n",
    "pd.DataFrame('', index = k_sizes, \n",
    "             columns = [\"SCR Vanilla\", \"LAB Vanilla\", \"SCR OW\", \"LAB OW\"])\n",
    "grid_search_table.index.name = \"k\""
   ]
  },
  {
   "cell_type": "markdown",
   "id": "198dfc6c-4702-4d99-b751-bd29150c2519",
   "metadata": {},
   "source": [
    "SCR"
   ]
  },
  {
   "cell_type": "code",
   "execution_count": 61,
   "id": "d10e729e-af35-4d3d-bf44-a6b81ae42407",
   "metadata": {
    "tags": []
   },
   "outputs": [],
   "source": [
    "SCR_simi_dict_collection = {\n",
    "    \"DTW\": {\"score\": SCR_DTW_simi_train_clean, \"label\":SCR_DTW_y_train_clean},\n",
    "    \"Euc\": {\"score\": SCR_Euc_simi_train_clean, \"label\":SCR_Euc_y_train_clean},\n",
    "    \"Cos\": {\"score\": SCR_Cos_simi_train_clean, \"label\":SCR_Cos_y_train_clean},\n",
    "    \"Manh\": {\"score\": SCR_Manh_simi_train_clean, \"label\":SCR_Manh_y_train_clean},\n",
    "}\n",
    "\n",
    "# dict of dicts of overlap rate weighted similarity\n",
    "SCR_simi_w_dict_collection = {\n",
    "    \"DTW\": {\"score\": SCR_DTW_simi_w_train_clean, \"label\":SCR_DTW_y_w_train_clean},\n",
    "    \"Euc\": {\"score\": SCR_Euc_simi_w_train_clean, \"label\":SCR_Euc_y_w_train_clean},\n",
    "    \"Cos\": {\"score\": SCR_Cos_simi_w_train_clean, \"label\":SCR_Cos_y_w_train_clean},\n",
    "    \"Manh\": {\"score\": SCR_Manh_simi_w_train_clean, \"label\":SCR_Manh_y_w_train_clean},\n",
    "}"
   ]
  },
  {
   "cell_type": "code",
   "execution_count": 62,
   "id": "5b68c651-ec4c-4af7-8803-86dc0227e8c1",
   "metadata": {
    "tags": []
   },
   "outputs": [
    {
     "name": "stderr",
     "output_type": "stream",
     "text": [
      "100%|██████████| 50/50 [00:10<00:00,  4.58it/s]\n"
     ]
    }
   ],
   "source": [
    "# SCR no overlap weighting no weighted voting\n",
    "# vv is vanilla voting\n",
    "# no is not overlap weighting\n",
    "SCR_no_vv = compare_feature_repr(SCR_simi_dict_collection, y_train, k_sizes, use_weighted_voting = False)"
   ]
  },
  {
   "cell_type": "code",
   "execution_count": 63,
   "id": "3af7c08a-0f4b-4d3f-880f-6f473d6fff6c",
   "metadata": {
    "tags": []
   },
   "outputs": [
    {
     "name": "stderr",
     "output_type": "stream",
     "text": [
      "100%|██████████| 50/50 [00:10<00:00,  4.56it/s]\n"
     ]
    }
   ],
   "source": [
    "# SCR yes overlap weighting no weighted voting\n",
    "# w is overlap weighting\n",
    "SCR_ow_vv = compare_feature_repr(SCR_simi_w_dict_collection, y_train, k_sizes, use_weighted_voting = False)"
   ]
  },
  {
   "cell_type": "markdown",
   "id": "eae91567-e8f5-4325-a1b9-eb1371b44346",
   "metadata": {},
   "source": [
    "LAB"
   ]
  },
  {
   "cell_type": "code",
   "execution_count": 64,
   "id": "3444977d-dca6-494c-ad74-c18b8de4707b",
   "metadata": {
    "tags": []
   },
   "outputs": [],
   "source": [
    "LAB_simi_dict_collection = {\n",
    "    \"Euc\": {\"score\": LAB_Euc_simi_train_clean, \"label\":LAB_Euc_y_train_clean},\n",
    "    \"Cos\": {\"score\": LAB_Cos_simi_train_clean, \"label\":LAB_Cos_y_train_clean},\n",
    "    \"Manh\": {\"score\": LAB_Manh_simi_train_clean, \"label\":LAB_Manh_y_train_clean},\n",
    "}\n",
    "\n",
    "# dict of dicts of overlap rate weighted similarity\n",
    "LAB_simi_w_dict_collection = {\n",
    "    \"Euc\": {\"score\": LAB_Euc_simi_w_train_clean, \"label\":LAB_Euc_y_w_train_clean},\n",
    "    \"Cos\": {\"score\": LAB_Cos_simi_w_train_clean, \"label\":LAB_Cos_y_w_train_clean},\n",
    "    \"Manh\": {\"score\": LAB_Manh_simi_w_train_clean, \"label\":LAB_Manh_y_w_train_clean},\n",
    "}"
   ]
  },
  {
   "cell_type": "code",
   "execution_count": 65,
   "id": "26b37150-7dfd-46b8-bd7d-a0863712cc63",
   "metadata": {
    "tags": []
   },
   "outputs": [
    {
     "name": "stderr",
     "output_type": "stream",
     "text": [
      "100%|██████████| 50/50 [00:08<00:00,  6.15it/s]\n"
     ]
    }
   ],
   "source": [
    "# LAB no overlap weighting no weighted voting\n",
    "# vv is vanilla voting\n",
    "# no is not overlap weighting\n",
    "LAB_no_vv = compare_feature_repr(LAB_simi_dict_collection, y_train, k_sizes, use_weighted_voting = False)"
   ]
  },
  {
   "cell_type": "code",
   "execution_count": 66,
   "id": "142a4a36-085b-4bed-bda5-872fa938eb71",
   "metadata": {
    "tags": []
   },
   "outputs": [
    {
     "name": "stderr",
     "output_type": "stream",
     "text": [
      "100%|██████████| 50/50 [00:08<00:00,  6.12it/s]\n"
     ]
    }
   ],
   "source": [
    "# LAB yes overlap weighting no weighted voting\n",
    "# w is overlap weighting\n",
    "LAB_ow_vv = compare_feature_repr(LAB_simi_w_dict_collection, y_train, k_sizes, use_weighted_voting = False)"
   ]
  },
  {
   "cell_type": "markdown",
   "id": "d5a760bf-1493-48f2-98fe-fa91b68bc34e",
   "metadata": {},
   "source": [
    "# Add to Grid Search Table"
   ]
  },
  {
   "cell_type": "code",
   "execution_count": 67,
   "id": "3c9ce324",
   "metadata": {
    "tags": []
   },
   "outputs": [],
   "source": [
    "grid_search_table.loc[:, \"SCR Vanilla\"] = SCR_no_vv[\"name\"]\n",
    "grid_search_table.loc[:, \"SCR OW\"] = SCR_ow_vv[\"name\"]\n",
    "grid_search_table.loc[:, \"LAB Vanilla\"] = LAB_no_vv[\"name\"]\n",
    "grid_search_table.loc[:, \"LAB OW\"] = LAB_ow_vv[\"name\"]"
   ]
  },
  {
   "cell_type": "code",
   "execution_count": 68,
   "id": "d9f396b9-7e16-45a7-a3cb-ac3d5fce6f7f",
   "metadata": {
    "tags": []
   },
   "outputs": [
    {
     "data": {
      "text/html": [
       "<div>\n",
       "<style scoped>\n",
       "    .dataframe tbody tr th:only-of-type {\n",
       "        vertical-align: middle;\n",
       "    }\n",
       "\n",
       "    .dataframe tbody tr th {\n",
       "        vertical-align: top;\n",
       "    }\n",
       "\n",
       "    .dataframe thead th {\n",
       "        text-align: right;\n",
       "    }\n",
       "</style>\n",
       "<table border=\"1\" class=\"dataframe\">\n",
       "  <thead>\n",
       "    <tr style=\"text-align: right;\">\n",
       "      <th></th>\n",
       "      <th>SCR Vanilla</th>\n",
       "      <th>LAB Vanilla</th>\n",
       "      <th>SCR OW</th>\n",
       "      <th>LAB OW</th>\n",
       "    </tr>\n",
       "    <tr>\n",
       "      <th>k</th>\n",
       "      <th></th>\n",
       "      <th></th>\n",
       "      <th></th>\n",
       "      <th></th>\n",
       "    </tr>\n",
       "  </thead>\n",
       "  <tbody>\n",
       "    <tr>\n",
       "      <th>1</th>\n",
       "      <td>Manh</td>\n",
       "      <td>Euc</td>\n",
       "      <td>Cos</td>\n",
       "      <td>Manh</td>\n",
       "    </tr>\n",
       "    <tr>\n",
       "      <th>5</th>\n",
       "      <td>Euc</td>\n",
       "      <td>Euc</td>\n",
       "      <td>Euc</td>\n",
       "      <td>Cos</td>\n",
       "    </tr>\n",
       "    <tr>\n",
       "      <th>9</th>\n",
       "      <td>Euc</td>\n",
       "      <td>Euc</td>\n",
       "      <td>Euc</td>\n",
       "      <td>Euc</td>\n",
       "    </tr>\n",
       "    <tr>\n",
       "      <th>13</th>\n",
       "      <td>Cos</td>\n",
       "      <td>Cos</td>\n",
       "      <td>Cos</td>\n",
       "      <td>Euc</td>\n",
       "    </tr>\n",
       "    <tr>\n",
       "      <th>17</th>\n",
       "      <td>Cos</td>\n",
       "      <td>Cos</td>\n",
       "      <td>Cos</td>\n",
       "      <td>Euc</td>\n",
       "    </tr>\n",
       "    <tr>\n",
       "      <th>21</th>\n",
       "      <td>Cos</td>\n",
       "      <td>Cos</td>\n",
       "      <td>Cos</td>\n",
       "      <td>Euc</td>\n",
       "    </tr>\n",
       "    <tr>\n",
       "      <th>25</th>\n",
       "      <td>Cos</td>\n",
       "      <td>Cos</td>\n",
       "      <td>Cos</td>\n",
       "      <td>Euc</td>\n",
       "    </tr>\n",
       "    <tr>\n",
       "      <th>29</th>\n",
       "      <td>Cos</td>\n",
       "      <td>Cos</td>\n",
       "      <td>Cos</td>\n",
       "      <td>Manh</td>\n",
       "    </tr>\n",
       "    <tr>\n",
       "      <th>33</th>\n",
       "      <td>Cos</td>\n",
       "      <td>Cos</td>\n",
       "      <td>Cos</td>\n",
       "      <td>Manh</td>\n",
       "    </tr>\n",
       "    <tr>\n",
       "      <th>37</th>\n",
       "      <td>Cos</td>\n",
       "      <td>Cos</td>\n",
       "      <td>Cos</td>\n",
       "      <td>Manh</td>\n",
       "    </tr>\n",
       "    <tr>\n",
       "      <th>41</th>\n",
       "      <td>Cos</td>\n",
       "      <td>Cos</td>\n",
       "      <td>DTW</td>\n",
       "      <td>Cos</td>\n",
       "    </tr>\n",
       "    <tr>\n",
       "      <th>45</th>\n",
       "      <td>Cos</td>\n",
       "      <td>Manh</td>\n",
       "      <td>Cos</td>\n",
       "      <td>Cos</td>\n",
       "    </tr>\n",
       "    <tr>\n",
       "      <th>49</th>\n",
       "      <td>Cos</td>\n",
       "      <td>Manh</td>\n",
       "      <td>DTW</td>\n",
       "      <td>Cos</td>\n",
       "    </tr>\n",
       "    <tr>\n",
       "      <th>53</th>\n",
       "      <td>Cos</td>\n",
       "      <td>Manh</td>\n",
       "      <td>DTW</td>\n",
       "      <td>Cos</td>\n",
       "    </tr>\n",
       "    <tr>\n",
       "      <th>57</th>\n",
       "      <td>Cos</td>\n",
       "      <td>Manh</td>\n",
       "      <td>DTW</td>\n",
       "      <td>Manh</td>\n",
       "    </tr>\n",
       "    <tr>\n",
       "      <th>61</th>\n",
       "      <td>Cos</td>\n",
       "      <td>Manh</td>\n",
       "      <td>DTW</td>\n",
       "      <td>Manh</td>\n",
       "    </tr>\n",
       "    <tr>\n",
       "      <th>65</th>\n",
       "      <td>Cos</td>\n",
       "      <td>Manh</td>\n",
       "      <td>DTW</td>\n",
       "      <td>Manh</td>\n",
       "    </tr>\n",
       "    <tr>\n",
       "      <th>69</th>\n",
       "      <td>Cos</td>\n",
       "      <td>Manh</td>\n",
       "      <td>DTW</td>\n",
       "      <td>Manh</td>\n",
       "    </tr>\n",
       "    <tr>\n",
       "      <th>73</th>\n",
       "      <td>Cos</td>\n",
       "      <td>Manh</td>\n",
       "      <td>DTW</td>\n",
       "      <td>Manh</td>\n",
       "    </tr>\n",
       "    <tr>\n",
       "      <th>77</th>\n",
       "      <td>Cos</td>\n",
       "      <td>Manh</td>\n",
       "      <td>DTW</td>\n",
       "      <td>Manh</td>\n",
       "    </tr>\n",
       "    <tr>\n",
       "      <th>81</th>\n",
       "      <td>Cos</td>\n",
       "      <td>Manh</td>\n",
       "      <td>DTW</td>\n",
       "      <td>Manh</td>\n",
       "    </tr>\n",
       "    <tr>\n",
       "      <th>85</th>\n",
       "      <td>Cos</td>\n",
       "      <td>Manh</td>\n",
       "      <td>DTW</td>\n",
       "      <td>Manh</td>\n",
       "    </tr>\n",
       "    <tr>\n",
       "      <th>89</th>\n",
       "      <td>Cos</td>\n",
       "      <td>Manh</td>\n",
       "      <td>DTW</td>\n",
       "      <td>Manh</td>\n",
       "    </tr>\n",
       "    <tr>\n",
       "      <th>93</th>\n",
       "      <td>Cos</td>\n",
       "      <td>Cos</td>\n",
       "      <td>DTW</td>\n",
       "      <td>Manh</td>\n",
       "    </tr>\n",
       "    <tr>\n",
       "      <th>97</th>\n",
       "      <td>Cos</td>\n",
       "      <td>Cos</td>\n",
       "      <td>DTW</td>\n",
       "      <td>Manh</td>\n",
       "    </tr>\n",
       "    <tr>\n",
       "      <th>101</th>\n",
       "      <td>Cos</td>\n",
       "      <td>Cos</td>\n",
       "      <td>DTW</td>\n",
       "      <td>Manh</td>\n",
       "    </tr>\n",
       "    <tr>\n",
       "      <th>105</th>\n",
       "      <td>Cos</td>\n",
       "      <td>Cos</td>\n",
       "      <td>DTW</td>\n",
       "      <td>Manh</td>\n",
       "    </tr>\n",
       "    <tr>\n",
       "      <th>109</th>\n",
       "      <td>Cos</td>\n",
       "      <td>Cos</td>\n",
       "      <td>DTW</td>\n",
       "      <td>Manh</td>\n",
       "    </tr>\n",
       "    <tr>\n",
       "      <th>113</th>\n",
       "      <td>Cos</td>\n",
       "      <td>Cos</td>\n",
       "      <td>DTW</td>\n",
       "      <td>Manh</td>\n",
       "    </tr>\n",
       "    <tr>\n",
       "      <th>117</th>\n",
       "      <td>Cos</td>\n",
       "      <td>Cos</td>\n",
       "      <td>DTW</td>\n",
       "      <td>Manh</td>\n",
       "    </tr>\n",
       "    <tr>\n",
       "      <th>121</th>\n",
       "      <td>Cos</td>\n",
       "      <td>Cos</td>\n",
       "      <td>DTW</td>\n",
       "      <td>Manh</td>\n",
       "    </tr>\n",
       "    <tr>\n",
       "      <th>125</th>\n",
       "      <td>Cos</td>\n",
       "      <td>Cos</td>\n",
       "      <td>Cos</td>\n",
       "      <td>Manh</td>\n",
       "    </tr>\n",
       "    <tr>\n",
       "      <th>129</th>\n",
       "      <td>Cos</td>\n",
       "      <td>Cos</td>\n",
       "      <td>DTW</td>\n",
       "      <td>Manh</td>\n",
       "    </tr>\n",
       "    <tr>\n",
       "      <th>133</th>\n",
       "      <td>Cos</td>\n",
       "      <td>Cos</td>\n",
       "      <td>DTW</td>\n",
       "      <td>Manh</td>\n",
       "    </tr>\n",
       "    <tr>\n",
       "      <th>137</th>\n",
       "      <td>Cos</td>\n",
       "      <td>Manh</td>\n",
       "      <td>Cos</td>\n",
       "      <td>Manh</td>\n",
       "    </tr>\n",
       "    <tr>\n",
       "      <th>141</th>\n",
       "      <td>Cos</td>\n",
       "      <td>Manh</td>\n",
       "      <td>Cos</td>\n",
       "      <td>Manh</td>\n",
       "    </tr>\n",
       "    <tr>\n",
       "      <th>145</th>\n",
       "      <td>Cos</td>\n",
       "      <td>Manh</td>\n",
       "      <td>Cos</td>\n",
       "      <td>Manh</td>\n",
       "    </tr>\n",
       "    <tr>\n",
       "      <th>149</th>\n",
       "      <td>Cos</td>\n",
       "      <td>Manh</td>\n",
       "      <td>Cos</td>\n",
       "      <td>Manh</td>\n",
       "    </tr>\n",
       "    <tr>\n",
       "      <th>153</th>\n",
       "      <td>Cos</td>\n",
       "      <td>Manh</td>\n",
       "      <td>DTW</td>\n",
       "      <td>Manh</td>\n",
       "    </tr>\n",
       "    <tr>\n",
       "      <th>157</th>\n",
       "      <td>Cos</td>\n",
       "      <td>Manh</td>\n",
       "      <td>DTW</td>\n",
       "      <td>Manh</td>\n",
       "    </tr>\n",
       "    <tr>\n",
       "      <th>161</th>\n",
       "      <td>Cos</td>\n",
       "      <td>Manh</td>\n",
       "      <td>DTW</td>\n",
       "      <td>Manh</td>\n",
       "    </tr>\n",
       "    <tr>\n",
       "      <th>165</th>\n",
       "      <td>Euc</td>\n",
       "      <td>Manh</td>\n",
       "      <td>DTW</td>\n",
       "      <td>Manh</td>\n",
       "    </tr>\n",
       "    <tr>\n",
       "      <th>169</th>\n",
       "      <td>Euc</td>\n",
       "      <td>Manh</td>\n",
       "      <td>DTW</td>\n",
       "      <td>Manh</td>\n",
       "    </tr>\n",
       "    <tr>\n",
       "      <th>173</th>\n",
       "      <td>Cos</td>\n",
       "      <td>Manh</td>\n",
       "      <td>DTW</td>\n",
       "      <td>Manh</td>\n",
       "    </tr>\n",
       "    <tr>\n",
       "      <th>177</th>\n",
       "      <td>Cos</td>\n",
       "      <td>Manh</td>\n",
       "      <td>DTW</td>\n",
       "      <td>Manh</td>\n",
       "    </tr>\n",
       "    <tr>\n",
       "      <th>181</th>\n",
       "      <td>Cos</td>\n",
       "      <td>Manh</td>\n",
       "      <td>DTW</td>\n",
       "      <td>Manh</td>\n",
       "    </tr>\n",
       "    <tr>\n",
       "      <th>185</th>\n",
       "      <td>Cos</td>\n",
       "      <td>Manh</td>\n",
       "      <td>DTW</td>\n",
       "      <td>Manh</td>\n",
       "    </tr>\n",
       "    <tr>\n",
       "      <th>189</th>\n",
       "      <td>Cos</td>\n",
       "      <td>Manh</td>\n",
       "      <td>DTW</td>\n",
       "      <td>Manh</td>\n",
       "    </tr>\n",
       "    <tr>\n",
       "      <th>193</th>\n",
       "      <td>Cos</td>\n",
       "      <td>Manh</td>\n",
       "      <td>DTW</td>\n",
       "      <td>Manh</td>\n",
       "    </tr>\n",
       "    <tr>\n",
       "      <th>197</th>\n",
       "      <td>Cos</td>\n",
       "      <td>Manh</td>\n",
       "      <td>DTW</td>\n",
       "      <td>Manh</td>\n",
       "    </tr>\n",
       "  </tbody>\n",
       "</table>\n",
       "</div>"
      ],
      "text/plain": [
       "    SCR Vanilla LAB Vanilla SCR OW LAB OW\n",
       "k                                        \n",
       "1          Manh         Euc    Cos   Manh\n",
       "5           Euc         Euc    Euc    Cos\n",
       "9           Euc         Euc    Euc    Euc\n",
       "13          Cos         Cos    Cos    Euc\n",
       "17          Cos         Cos    Cos    Euc\n",
       "21          Cos         Cos    Cos    Euc\n",
       "25          Cos         Cos    Cos    Euc\n",
       "29          Cos         Cos    Cos   Manh\n",
       "33          Cos         Cos    Cos   Manh\n",
       "37          Cos         Cos    Cos   Manh\n",
       "41          Cos         Cos    DTW    Cos\n",
       "45          Cos        Manh    Cos    Cos\n",
       "49          Cos        Manh    DTW    Cos\n",
       "53          Cos        Manh    DTW    Cos\n",
       "57          Cos        Manh    DTW   Manh\n",
       "61          Cos        Manh    DTW   Manh\n",
       "65          Cos        Manh    DTW   Manh\n",
       "69          Cos        Manh    DTW   Manh\n",
       "73          Cos        Manh    DTW   Manh\n",
       "77          Cos        Manh    DTW   Manh\n",
       "81          Cos        Manh    DTW   Manh\n",
       "85          Cos        Manh    DTW   Manh\n",
       "89          Cos        Manh    DTW   Manh\n",
       "93          Cos         Cos    DTW   Manh\n",
       "97          Cos         Cos    DTW   Manh\n",
       "101         Cos         Cos    DTW   Manh\n",
       "105         Cos         Cos    DTW   Manh\n",
       "109         Cos         Cos    DTW   Manh\n",
       "113         Cos         Cos    DTW   Manh\n",
       "117         Cos         Cos    DTW   Manh\n",
       "121         Cos         Cos    DTW   Manh\n",
       "125         Cos         Cos    Cos   Manh\n",
       "129         Cos         Cos    DTW   Manh\n",
       "133         Cos         Cos    DTW   Manh\n",
       "137         Cos        Manh    Cos   Manh\n",
       "141         Cos        Manh    Cos   Manh\n",
       "145         Cos        Manh    Cos   Manh\n",
       "149         Cos        Manh    Cos   Manh\n",
       "153         Cos        Manh    DTW   Manh\n",
       "157         Cos        Manh    DTW   Manh\n",
       "161         Cos        Manh    DTW   Manh\n",
       "165         Euc        Manh    DTW   Manh\n",
       "169         Euc        Manh    DTW   Manh\n",
       "173         Cos        Manh    DTW   Manh\n",
       "177         Cos        Manh    DTW   Manh\n",
       "181         Cos        Manh    DTW   Manh\n",
       "185         Cos        Manh    DTW   Manh\n",
       "189         Cos        Manh    DTW   Manh\n",
       "193         Cos        Manh    DTW   Manh\n",
       "197         Cos        Manh    DTW   Manh"
      ]
     },
     "execution_count": 68,
     "metadata": {},
     "output_type": "execute_result"
    }
   ],
   "source": [
    "grid_search_table"
   ]
  },
  {
   "cell_type": "code",
   "execution_count": 69,
   "id": "01511ad8-a7f3-458d-b3c7-65dc0beac374",
   "metadata": {},
   "outputs": [],
   "source": [
    "grid_search_table.to_csv(\"/blue/yonghui.wu/lideyi/Personalization_Methodology/grid_search_table_imput1.csv\",\n",
    "                        index = True)"
   ]
  },
  {
   "cell_type": "code",
   "execution_count": 70,
   "id": "a4680f17-281f-47c9-83be-bfd5da7d38e3",
   "metadata": {
    "tags": []
   },
   "outputs": [],
   "source": [
    "grid_search_table = pd.read_csv(\"/blue/yonghui.wu/lideyi/Personalization_Methodology/grid_search_table_imput1.csv\",\n",
    "                               index_col = 0)"
   ]
  },
  {
   "cell_type": "code",
   "execution_count": 71,
   "id": "a655ed78-15a5-46ed-bc87-12e573f9f226",
   "metadata": {
    "tags": []
   },
   "outputs": [],
   "source": [
    "# To facilitate computing, we do not use the idea of unique distance measure for each k\n",
    "# instead one metric for one condition. We use the metric that previal in the column\n",
    "best_method_each_condition = dict()\n",
    "for column in grid_search_table.columns:\n",
    "    mode_value = grid_search_table[column].mode()[0]\n",
    "    best_method_each_condition[column] = mode_value"
   ]
  },
  {
   "cell_type": "code",
   "execution_count": 101,
   "id": "b2f17bc4-20e9-4d49-a85c-a16fec56718a",
   "metadata": {
    "tags": []
   },
   "outputs": [
    {
     "data": {
      "text/plain": [
       "{'SCR Vanilla': 'Cos',\n",
       " 'LAB Vanilla': 'Manh',\n",
       " 'SCR OW': 'DTW',\n",
       " 'LAB OW': 'Manh'}"
      ]
     },
     "execution_count": 101,
     "metadata": {},
     "output_type": "execute_result"
    }
   ],
   "source": [
    "best_method_each_condition"
   ]
  },
  {
   "cell_type": "code",
   "execution_count": 73,
   "id": "3cf1745c-e748-4782-8345-bff3a001f295",
   "metadata": {
    "tags": []
   },
   "outputs": [],
   "source": [
    "def get_best_method_each_condition(best_method_each_condition, use_overlap_weighting):\n",
    "    if not use_overlap_weighting:\n",
    "        return best_method_each_condition[\"SCR Vanilla\"], best_method_each_condition[\"LAB Vanilla\"]\n",
    "    if use_overlap_weighting:\n",
    "        return best_method_each_condition[\"SCR OW\"], best_method_each_condition[\"LAB OW\"]"
   ]
  },
  {
   "cell_type": "markdown",
   "id": "c3343d3c",
   "metadata": {},
   "source": [
    "# Test the Search Resutls On Test Data"
   ]
  },
  {
   "cell_type": "code",
   "execution_count": 74,
   "id": "a41380d2",
   "metadata": {
    "tags": []
   },
   "outputs": [],
   "source": [
    "# here since query_grid_search_table give us 2 best method (SCR + LAB) at the same time,\n",
    "# we test SCR and LAB under one condition at the same time\n",
    "def test_on_test_data(SCR_simi_dict_collection_train, LAB_simi_dict_collection_train, \n",
    "                      y_test, k_sizes, best_method_each_condition, \n",
    "                      use_overlap_weighting = False, use_weighted_voting = False):\n",
    "    \n",
    "    SCR_performance = dict()\n",
    "    SCR_performance[\"AUPRC\"] = []\n",
    "    SCR_performance[\"F1\"] = []\n",
    "    LAB_performance = dict()\n",
    "    LAB_performance[\"AUPRC\"] = []\n",
    "    LAB_performance[\"F1\"] = []\n",
    "    \n",
    "    best_SCR_met, best_LAB_met = get_best_method_each_condition(best_method_each_condition, use_overlap_weighting)\n",
    "    \n",
    "    \n",
    "    for k in tqdm(k_sizes):\n",
    "        \n",
    "        SCR_simi_dict = SCR_simi_dict_collection_train[best_SCR_met]\n",
    "        LAB_simi_dict = LAB_simi_dict_collection_train[best_LAB_met]\n",
    "        \n",
    "        SCR_AUPRC, SCR_AUROC, SCR_f1 = KNN(SCR_simi_dict, k, y_test, use_weighted_voting)\n",
    "        LAB_AUPRC, LAB_AUROC, LAB_f1 = KNN(LAB_simi_dict, k, y_test, use_weighted_voting)\n",
    "        \n",
    "        SCR_performance[\"AUPRC\"].append(SCR_AUPRC)\n",
    "        SCR_performance[\"F1\"].append(SCR_f1)\n",
    "        LAB_performance[\"AUPRC\"].append(LAB_AUPRC)\n",
    "        LAB_performance[\"F1\"].append(LAB_f1)\n",
    "        \n",
    "    return SCR_performance, LAB_performance"
   ]
  },
  {
   "cell_type": "code",
   "execution_count": 75,
   "id": "efa179ca-5305-408c-be26-7a478319f8de",
   "metadata": {
    "tags": []
   },
   "outputs": [],
   "source": [
    "def process_similarity_arr_for_test(train_idx, test_idx, simi_mtx, idx_mtx, y):\n",
    "    assert(len(y) == len(train_idx) + len(test_idx))\n",
    "    neighbor_idx = remove_train_rows_and_test_columns(idx_mtx, train_idx, test_idx)\n",
    "    \n",
    "    y_arr = np.tile(y, (neighbor_idx.shape[0], 1))\n",
    "    simi_mtx_test = simi_mtx[test_idx, :]\n",
    "    \n",
    "    neighbor_simi = extract_elements_based_on_indices(neighbor_idx, simi_mtx_test)\n",
    "    neighbor_y = extract_elements_based_on_indices(neighbor_idx, y_arr)\n",
    "    return neighbor_simi, neighbor_y"
   ]
  },
  {
   "cell_type": "code",
   "execution_count": 76,
   "id": "2ef2300e-9921-46fd-8a46-f88299b6ed0b",
   "metadata": {
    "tags": []
   },
   "outputs": [],
   "source": [
    "def remove_train_rows_and_test_columns(matrix, train_indices, test_indices):\n",
    "    \n",
    "    matrix = matrix[test_indices, :]\n",
    "    \n",
    "    elements_to_remove = np.array(test_indices)\n",
    "\n",
    "    # Use a list to collect the filtered rows\n",
    "    filtered_matrix = []\n",
    "\n",
    "    # Iterate over each row in the matrix\n",
    "    for row in matrix:\n",
    "        # Use boolean indexing to filter out the elements in elements_to_remove\n",
    "        filtered_row = row[~np.isin(row, elements_to_remove)]\n",
    "        filtered_matrix.append(filtered_row)\n",
    "\n",
    "    # Convert the list of filtered rows back to a NumPy array or a list of lists\n",
    "    filtered_matrix = np.array(filtered_matrix)\n",
    "\n",
    "    \n",
    "    assert(filtered_matrix.shape[0] == len(test_indices))\n",
    "    assert(filtered_matrix.shape[1] == len(train_indices))\n",
    "    \n",
    "    return filtered_matrix"
   ]
  },
  {
   "cell_type": "code",
   "execution_count": 77,
   "id": "207f8c7e-ddb1-4777-8db4-b39620ec3a5b",
   "metadata": {
    "tags": []
   },
   "outputs": [],
   "source": [
    "train_idx = list(data_train.index)\n",
    "test_idx = list(data_test.index)\n",
    "y = list(dataset['AKI_LABEL'])\n",
    "y_test = list(data_test['AKI_LABEL'])\n",
    "assert(len(train_idx) + len(test_idx) == len(y))"
   ]
  },
  {
   "cell_type": "code",
   "execution_count": 78,
   "id": "ced18eed-5e69-480b-a5a1-9a0a98ec74c5",
   "metadata": {
    "tags": []
   },
   "outputs": [],
   "source": [
    "# here _eva stands for test on test set, require the entire dataset\n",
    "SCR_DTW_simi_eva_clean, SCR_DTW_y_eva_clean = process_similarity_arr_for_test(train_idx, test_idx, SCR_DTW_simi, SCR_DTW_idx, y)\n",
    "SCR_DTW_simi_w_eva_clean, SCR_DTW_y_w_eva_clean = process_similarity_arr_for_test(train_idx, test_idx, SCR_DTW_simi_w, SCR_DTW_idx_w, y)\n",
    "\n",
    "SCR_Euc_simi_eva_clean, SCR_Euc_y_eva_clean = process_similarity_arr_for_test(train_idx, test_idx, SCR_Euc_simi, SCR_Euc_idx, y)\n",
    "SCR_Euc_simi_w_eva_clean, SCR_Euc_y_w_eva_clean = process_similarity_arr_for_test(train_idx, test_idx, SCR_Euc_simi_w, SCR_Euc_idx_w, y)\n",
    "\n",
    "SCR_Cos_simi_eva_clean, SCR_Cos_y_eva_clean = process_similarity_arr_for_test(train_idx, test_idx, SCR_Cos_simi, SCR_Cos_idx, y)\n",
    "SCR_Cos_simi_w_eva_clean, SCR_Cos_y_w_eva_clean = process_similarity_arr_for_test(train_idx, test_idx, SCR_Cos_simi_w, SCR_Cos_idx_w, y)\n",
    "\n",
    "SCR_Manh_simi_eva_clean, SCR_Manh_y_eva_clean = process_similarity_arr_for_test(train_idx, test_idx, SCR_Manh_simi, SCR_Manh_idx, y)\n",
    "SCR_Manh_simi_w_eva_clean, SCR_Manh_y_w_eva_clean = process_similarity_arr_for_test(train_idx, test_idx, SCR_Manh_simi_w, SCR_Manh_idx_w, y)"
   ]
  },
  {
   "cell_type": "code",
   "execution_count": 79,
   "id": "a28fc116-be27-41ef-a45d-21a6d2866009",
   "metadata": {
    "tags": []
   },
   "outputs": [],
   "source": [
    "# here _eva stands for test on test set, require the entire dataset\n",
    "LAB_Euc_simi_eva_clean, LAB_Euc_y_eva_clean = process_similarity_arr_for_test(train_idx, test_idx, LAB_Euc_simi, LAB_Euc_idx, y)\n",
    "LAB_Euc_simi_w_eva_clean, LAB_Euc_y_w_eva_clean = process_similarity_arr_for_test(train_idx, test_idx, LAB_Euc_simi_w, LAB_Euc_idx_w, y)\n",
    "\n",
    "LAB_Cos_simi_eva_clean, LAB_Cos_y_eva_clean = process_similarity_arr_for_test(train_idx, test_idx, LAB_Cos_simi, LAB_Cos_idx, y)\n",
    "LAB_Cos_simi_w_eva_clean, LAB_Cos_y_w_eva_clean = process_similarity_arr_for_test(train_idx, test_idx, LAB_Cos_simi_w, LAB_Cos_idx_w, y)\n",
    "\n",
    "LAB_Manh_simi_eva_clean, LAB_Manh_y_eva_clean = process_similarity_arr_for_test(train_idx, test_idx, LAB_Manh_simi, LAB_Manh_idx, y)\n",
    "LAB_Manh_simi_w_eva_clean, LAB_Manh_y_w_eva_clean = process_similarity_arr_for_test(train_idx, test_idx, LAB_Manh_simi_w, LAB_Manh_idx_w, y)"
   ]
  },
  {
   "cell_type": "code",
   "execution_count": 80,
   "id": "3329b818",
   "metadata": {
    "tags": []
   },
   "outputs": [],
   "source": [
    "SCR_simi_dict_collection_eva = {\n",
    "    \"DTW\": {\"score\": SCR_DTW_simi_eva_clean, \"label\":SCR_DTW_y_eva_clean},\n",
    "    \"Euc\": {\"score\": SCR_Euc_simi_eva_clean, \"label\":SCR_Euc_y_eva_clean},\n",
    "    \"Cos\": {\"score\": SCR_Cos_simi_eva_clean, \"label\":SCR_Cos_y_eva_clean},\n",
    "    \"Manh\": {\"score\": SCR_Manh_simi_eva_clean, \"label\":SCR_Manh_y_eva_clean},\n",
    "}\n",
    "\n",
    "# dict of dicts of overlap rate weighted similarity\n",
    "SCR_simi_w_dict_collection_eva = {\n",
    "    \"DTW\": {\"score\": SCR_DTW_simi_w_eva_clean, \"label\":SCR_DTW_y_w_eva_clean},\n",
    "    \"Euc\": {\"score\": SCR_Euc_simi_w_eva_clean, \"label\":SCR_Euc_y_w_eva_clean},\n",
    "    \"Cos\": {\"score\": SCR_Cos_simi_w_eva_clean, \"label\":SCR_Cos_y_w_eva_clean},\n",
    "    \"Manh\": {\"score\": SCR_Manh_simi_w_eva_clean, \"label\":SCR_Manh_y_w_eva_clean},\n",
    "}\n",
    "\n",
    "LAB_simi_dict_collection_eva = {\n",
    "    \"Euc\": {\"score\": LAB_Euc_simi_eva_clean, \"label\":LAB_Euc_y_eva_clean},\n",
    "    \"Cos\": {\"score\": LAB_Cos_simi_eva_clean, \"label\":LAB_Cos_y_eva_clean},\n",
    "    \"Manh\": {\"score\": LAB_Manh_simi_eva_clean, \"label\":LAB_Manh_y_eva_clean},\n",
    "}\n",
    "\n",
    "# dict of dicts of overlap rate weighted similarity\n",
    "LAB_simi_w_dict_collection_eva = {\n",
    "    \"Euc\": {\"score\": LAB_Euc_simi_w_eva_clean, \"label\":LAB_Euc_y_w_eva_clean},\n",
    "    \"Cos\": {\"score\": LAB_Cos_simi_w_eva_clean, \"label\":LAB_Cos_y_w_eva_clean},\n",
    "    \"Manh\": {\"score\": LAB_Manh_simi_w_eva_clean, \"label\":LAB_Manh_y_w_eva_clean},\n",
    "\n",
    "}"
   ]
  },
  {
   "cell_type": "code",
   "execution_count": 81,
   "id": "36d7b37a-ebf7-461f-bdf6-200affb6594c",
   "metadata": {
    "tags": []
   },
   "outputs": [],
   "source": [
    "# here we test grid-searched measures against all other base measures under 4 conditions\n",
    "def evaluate_base_measure_on_test(SCR_base_measure, LAB_base_measure, best_method_each_condition, y_test, k_sizes,\n",
    "                                 SCR_simi_dict_collection_eva, SCR_simi_w_dict_collection_eva,\n",
    "                                  LAB_simi_dict_collection_eva, LAB_simi_w_dict_collection_eva):\n",
    "    # fill in testing base measure\n",
    "    best_method_each_condition_control = best_method_each_condition.copy()\n",
    "    for condition_name in best_method_each_condition_control.keys():\n",
    "        if condition_name.startswith(\"SCR\"):\n",
    "            best_method_each_condition_control[condition_name] = SCR_base_measure\n",
    "        elif condition_name.startswith(\"LAB\"):\n",
    "            best_method_each_condition_control[condition_name] = LAB_base_measure\n",
    "            \n",
    "    SCR_control_performance = dict()\n",
    "    LAB_control_performance = dict()\n",
    "            \n",
    "    # test under 4 conditions\n",
    "    SCR_no_vv_eva_control, LAB_no_vv_eva_control = test_on_test_data(SCR_simi_dict_collection_eva, \n",
    "                                                     LAB_simi_dict_collection_eva, \n",
    "                                                     y_test, k_sizes, best_method_each_condition_control, \n",
    "                                                     use_overlap_weighting = False, \n",
    "                                                     use_weighted_voting = False)\n",
    "    \n",
    "    SCR_no_wv_eva_control, LAB_no_wv_eva_control = test_on_test_data(SCR_simi_dict_collection_eva, \n",
    "                                                     LAB_simi_dict_collection_eva, \n",
    "                                                     y_test, k_sizes, best_method_each_condition_control, \n",
    "                                                     use_overlap_weighting = False, \n",
    "                                                     use_weighted_voting = True)\n",
    "    \n",
    "    SCR_ow_vv_eva_control, LAB_ow_vv_eva_control = test_on_test_data(SCR_simi_w_dict_collection_eva, \n",
    "                                                     LAB_simi_w_dict_collection_eva, \n",
    "                                                     y_test, k_sizes, best_method_each_condition_control, \n",
    "                                                     use_overlap_weighting = True, \n",
    "                                                     use_weighted_voting = False)\n",
    "    \n",
    "    SCR_ow_wv_eva_control, LAB_ow_wv_eva_control = test_on_test_data(SCR_simi_w_dict_collection_eva, \n",
    "                                                     LAB_simi_w_dict_collection_eva, \n",
    "                                                     y_test, k_sizes, best_method_each_condition_control, \n",
    "                                                     use_overlap_weighting = True, \n",
    "                                                     use_weighted_voting = True)\n",
    "    \n",
    "    SCR_control_performance[\"Vanilla\"] = SCR_no_vv_eva_control\n",
    "    SCR_control_performance[\"OW\"] = SCR_ow_vv_eva_control\n",
    "    SCR_control_performance[\"WV\"] = SCR_no_wv_eva_control\n",
    "    SCR_control_performance[\"OW+WV\"] = SCR_ow_wv_eva_control\n",
    "    \n",
    "    LAB_control_performance[\"Vanilla\"] = LAB_no_vv_eva_control\n",
    "    LAB_control_performance[\"OW\"] = LAB_ow_vv_eva_control\n",
    "    LAB_control_performance[\"WV\"] = LAB_no_wv_eva_control\n",
    "    LAB_control_performance[\"OW+WV\"] = LAB_ow_wv_eva_control\n",
    "    \n",
    "    return SCR_control_performance, LAB_control_performance"
   ]
  },
  {
   "cell_type": "code",
   "execution_count": 82,
   "id": "54afb17f-85f3-426d-b9fd-0820470cc8eb",
   "metadata": {},
   "outputs": [
    {
     "name": "stderr",
     "output_type": "stream",
     "text": [
      "100%|██████████| 50/50 [00:06<00:00,  8.12it/s]\n",
      "100%|██████████| 50/50 [00:12<00:00,  3.93it/s]\n",
      "100%|██████████| 50/50 [00:06<00:00,  8.21it/s]\n",
      "100%|██████████| 50/50 [00:12<00:00,  4.01it/s]\n"
     ]
    }
   ],
   "source": [
    "SCR_DTW_control, _ = evaluate_base_measure_on_test(\"DTW\", \"Euc\", best_method_each_condition, y_test, k_sizes,\n",
    "                                                   SCR_simi_dict_collection_eva, SCR_simi_w_dict_collection_eva,\n",
    "                                                   LAB_simi_dict_collection_eva, LAB_simi_w_dict_collection_eva)"
   ]
  },
  {
   "cell_type": "code",
   "execution_count": 83,
   "id": "fb97e51f-7f18-40aa-bbd2-cf8a4b44d420",
   "metadata": {},
   "outputs": [],
   "source": [
    "with open('./Results_dict/Imputation_1/SCR_DTW_control.json', 'w') as file:\n",
    "    json.dump(SCR_DTW_control, file)"
   ]
  },
  {
   "cell_type": "code",
   "execution_count": 84,
   "id": "f7a5bbd8-feac-4b4f-a753-a5fb6a08c341",
   "metadata": {
    "tags": []
   },
   "outputs": [
    {
     "name": "stderr",
     "output_type": "stream",
     "text": [
      "100%|██████████| 50/50 [00:06<00:00,  8.23it/s]\n",
      "100%|██████████| 50/50 [00:12<00:00,  3.93it/s]\n",
      "100%|██████████| 50/50 [00:06<00:00,  8.19it/s]\n",
      "100%|██████████| 50/50 [00:12<00:00,  3.99it/s]\n"
     ]
    }
   ],
   "source": [
    "SCR_Euc_control, LAB_Euc_control = evaluate_base_measure_on_test(\"Euc\", \"Euc\", best_method_each_condition, y_test, k_sizes,\n",
    "                                                                 SCR_simi_dict_collection_eva, SCR_simi_w_dict_collection_eva, \n",
    "                                                                 LAB_simi_dict_collection_eva, LAB_simi_w_dict_collection_eva)"
   ]
  },
  {
   "cell_type": "code",
   "execution_count": 85,
   "id": "3a3db56a-d634-4668-b7ad-cf64e160a7b7",
   "metadata": {},
   "outputs": [],
   "source": [
    "with open('./Results_dict/Imputation_1/SCR_Euc_control.json', 'w') as file:\n",
    "    json.dump(SCR_Euc_control, file)\n",
    "with open('./Results_dict/Imputation_1/LAB_Euc_control.json', 'w') as file:\n",
    "    json.dump(LAB_Euc_control, file)"
   ]
  },
  {
   "cell_type": "code",
   "execution_count": 86,
   "id": "cc840c1f-3832-4cb4-bdea-f06a31447732",
   "metadata": {
    "tags": []
   },
   "outputs": [
    {
     "name": "stderr",
     "output_type": "stream",
     "text": [
      "100%|██████████| 50/50 [00:06<00:00,  8.21it/s]\n",
      "100%|██████████| 50/50 [00:12<00:00,  4.10it/s]\n",
      "100%|██████████| 50/50 [00:06<00:00,  8.22it/s]\n",
      "100%|██████████| 50/50 [00:12<00:00,  4.12it/s]\n"
     ]
    }
   ],
   "source": [
    "SCR_Manh_control, LAB_Manh_control = evaluate_base_measure_on_test(\"Manh\", \"Manh\", best_method_each_condition, y_test, k_sizes,\n",
    "                                                                    SCR_simi_dict_collection_eva, SCR_simi_w_dict_collection_eva,\n",
    "                                                                    LAB_simi_dict_collection_eva, LAB_simi_w_dict_collection_eva)"
   ]
  },
  {
   "cell_type": "code",
   "execution_count": 87,
   "id": "446c6635-b87b-483b-bab5-e69775712ebb",
   "metadata": {},
   "outputs": [],
   "source": [
    "with open('./Results_dict/Imputation_1/SCR_Manh_control.json', 'w') as file:\n",
    "    json.dump(SCR_Manh_control, file)\n",
    "with open('./Results_dict/Imputation_1/LAB_Manh_control.json', 'w') as file:\n",
    "    json.dump(LAB_Manh_control, file)"
   ]
  },
  {
   "cell_type": "code",
   "execution_count": 88,
   "id": "b7518492-81fc-4e9a-9a77-be45260c8583",
   "metadata": {
    "tags": []
   },
   "outputs": [
    {
     "name": "stderr",
     "output_type": "stream",
     "text": [
      "100%|██████████| 50/50 [00:06<00:00,  8.19it/s]\n",
      "100%|██████████| 50/50 [00:12<00:00,  4.09it/s]\n",
      "100%|██████████| 50/50 [00:06<00:00,  8.05it/s]\n",
      "100%|██████████| 50/50 [00:12<00:00,  4.00it/s]\n"
     ]
    }
   ],
   "source": [
    "SCR_Cos_control, LAB_Cos_control = evaluate_base_measure_on_test(\"Cos\", \"Cos\", best_method_each_condition, y_test, k_sizes,\n",
    "                                                                SCR_simi_dict_collection_eva, SCR_simi_w_dict_collection_eva,\n",
    "                                                                 LAB_simi_dict_collection_eva, LAB_simi_w_dict_collection_eva)"
   ]
  },
  {
   "cell_type": "code",
   "execution_count": 89,
   "id": "c3e9a9ec-3619-49e0-9c49-fe760d12cca1",
   "metadata": {},
   "outputs": [],
   "source": [
    "with open('./Results_dict/Imputation_1/SCR_Cos_control.json', 'w') as file:\n",
    "    json.dump(SCR_Cos_control, file)\n",
    "with open('./Results_dict/Imputation_1/LAB_Cos_control.json', 'w') as file:\n",
    "    json.dump(LAB_Cos_control, file)"
   ]
  },
  {
   "cell_type": "code",
   "execution_count": 90,
   "id": "15062d84",
   "metadata": {
    "tags": []
   },
   "outputs": [
    {
     "name": "stderr",
     "output_type": "stream",
     "text": [
      "100%|██████████| 50/50 [00:06<00:00,  8.17it/s]\n"
     ]
    }
   ],
   "source": [
    "SCR_no_vv_eva, LAB_no_vv_eva = test_on_test_data(SCR_simi_dict_collection_eva, \n",
    "                                                     LAB_simi_dict_collection_eva, \n",
    "                                                     y_test, k_sizes, best_method_each_condition, \n",
    "                                                     use_overlap_weighting = False, \n",
    "                                                     use_weighted_voting = False)"
   ]
  },
  {
   "cell_type": "code",
   "execution_count": 91,
   "id": "69a492c3-3d82-4b9d-9594-4b679ffed82f",
   "metadata": {},
   "outputs": [],
   "source": [
    "with open('./Results_dict/Imputation_1/SCR_no_vv_eva.json', 'w') as file:\n",
    "    json.dump(SCR_no_vv_eva, file)\n",
    "with open('./Results_dict/Imputation_1/LAB_no_vv_eva.json', 'w') as file:\n",
    "    json.dump(LAB_no_vv_eva, file)"
   ]
  },
  {
   "cell_type": "code",
   "execution_count": 92,
   "id": "55057302",
   "metadata": {
    "tags": []
   },
   "outputs": [
    {
     "name": "stderr",
     "output_type": "stream",
     "text": [
      "100%|██████████| 50/50 [00:12<00:00,  4.11it/s]\n"
     ]
    }
   ],
   "source": [
    "SCR_no_wv_eva, LAB_no_wv_eva = test_on_test_data(SCR_simi_dict_collection_eva, \n",
    "                                                     LAB_simi_dict_collection_eva, \n",
    "                                                     y_test, k_sizes, best_method_each_condition, \n",
    "                                                     use_overlap_weighting = False, \n",
    "                                                     use_weighted_voting = True)"
   ]
  },
  {
   "cell_type": "code",
   "execution_count": 93,
   "id": "af9874e4-48f0-4231-8027-f61ff6ede8c9",
   "metadata": {},
   "outputs": [],
   "source": [
    "with open('./Results_dict/Imputation_1/SCR_no_wv_eva.json', 'w') as file:\n",
    "    json.dump(SCR_no_wv_eva, file)\n",
    "with open('./Results_dict/Imputation_1/LAB_no_wv_eva.json', 'w') as file:\n",
    "    json.dump(LAB_no_wv_eva, file)"
   ]
  },
  {
   "cell_type": "code",
   "execution_count": 94,
   "id": "3f1e63d0",
   "metadata": {
    "tags": []
   },
   "outputs": [
    {
     "name": "stderr",
     "output_type": "stream",
     "text": [
      "100%|██████████| 50/50 [00:06<00:00,  8.22it/s]\n"
     ]
    }
   ],
   "source": [
    "SCR_ow_vv_eva, LAB_ow_vv_eva = test_on_test_data(SCR_simi_w_dict_collection_eva, \n",
    "                                                     LAB_simi_w_dict_collection_eva, \n",
    "                                                     y_test, k_sizes, best_method_each_condition, \n",
    "                                                     use_overlap_weighting = True, \n",
    "                                                     use_weighted_voting = False)"
   ]
  },
  {
   "cell_type": "code",
   "execution_count": 95,
   "id": "40b18321-b879-40b4-8135-3d1b41d750c0",
   "metadata": {},
   "outputs": [],
   "source": [
    "with open('./Results_dict/Imputation_1/SCR_ow_vv_eva.json', 'w') as file:\n",
    "    json.dump(SCR_ow_vv_eva, file)\n",
    "with open('./Results_dict/Imputation_1/LAB_ow_vv_eva.json', 'w') as file:\n",
    "    json.dump(LAB_ow_vv_eva, file)"
   ]
  },
  {
   "cell_type": "code",
   "execution_count": 96,
   "id": "e63e05ec",
   "metadata": {
    "tags": []
   },
   "outputs": [
    {
     "name": "stderr",
     "output_type": "stream",
     "text": [
      "100%|██████████| 50/50 [00:12<00:00,  4.14it/s]\n"
     ]
    }
   ],
   "source": [
    "SCR_ow_wv_eva, LAB_ow_wv_eva = test_on_test_data(SCR_simi_w_dict_collection_eva, \n",
    "                                                     LAB_simi_w_dict_collection_eva, \n",
    "                                                     y_test, k_sizes, best_method_each_condition, \n",
    "                                                     use_overlap_weighting = True, \n",
    "                                                     use_weighted_voting = True)"
   ]
  },
  {
   "cell_type": "code",
   "execution_count": 97,
   "id": "1e18d72f-9be6-45c6-9717-93165e6e763f",
   "metadata": {},
   "outputs": [],
   "source": [
    "with open('./Results_dict/Imputation_1/SCR_ow_wv_eva.json', 'w') as file:\n",
    "    json.dump(SCR_ow_wv_eva, file)\n",
    "with open('./Results_dict/Imputation_1/LAB_ow_wv_eva.json', 'w') as file:\n",
    "    json.dump(LAB_ow_wv_eva, file)"
   ]
  },
  {
   "cell_type": "markdown",
   "id": "7c5eded4-51fc-4052-8f78-e13eb8baf8e9",
   "metadata": {},
   "source": [
    "# Proof: OW and WV can Improve Performance among Base Measures"
   ]
  },
  {
   "cell_type": "code",
   "execution_count": 98,
   "id": "0c0c742f-db81-445a-9a33-a028be03eb13",
   "metadata": {
    "tags": []
   },
   "outputs": [],
   "source": [
    "def plot_AUPRC_along_k(ax, k_sizes, data_no_vv, data_no_wv, data_ow_vv, data_ow_wv, title):\n",
    "    ax.plot(k_sizes, data_no_vv, label=\"Vanilla\", marker='.', markersize=7)\n",
    "    ax.plot(k_sizes, data_no_wv, label=\"Weighted Voting\", marker='.', markersize=7)\n",
    "    ax.plot(k_sizes, data_ow_vv, label=\"Overlap Weighted\", marker='.', markersize=7)\n",
    "    ax.plot(k_sizes, data_ow_wv, label=\"Overlap Weighted + Weighted Voting\", marker='.', markersize=7)\n",
    "    ax.legend()\n",
    "    ax.set_xlabel(\"k\")\n",
    "    ax.set_ylabel(\"AUPRC\")\n",
    "    ax.set_title(title)"
   ]
  },
  {
   "cell_type": "code",
   "execution_count": 99,
   "id": "8ba1cecd-1e88-4c35-9e2c-a3bab6451ae5",
   "metadata": {
    "tags": []
   },
   "outputs": [
    {
     "data": {
      "image/png": "[encoded data removed]",
      "text/plain": [
       "<Figure size 1500x1000 with 4 Axes>"
      ]
     },
     "metadata": {},
     "output_type": "display_data"
    }
   ],
   "source": [
    "fig, axs = plt.subplots(2, 2, figsize=(15, 10)) \n",
    "\n",
    "metric = \"AUPRC\"\n",
    "\n",
    "plot_AUPRC_along_k(axs[0,0], \n",
    "                   k_sizes,\n",
    "                   SCR_DTW_control[\"Vanilla\"][metric], \n",
    "                   SCR_DTW_control[\"WV\"][metric], \n",
    "                   SCR_DTW_control[\"OW\"][metric], \n",
    "                   SCR_DTW_control[\"OW+WV\"][metric], \n",
    "                   \"SCR: DTW as Base Model\")\n",
    "\n",
    "plot_AUPRC_along_k(axs[0,1], \n",
    "                   k_sizes,\n",
    "                   SCR_Euc_control[\"Vanilla\"][metric], \n",
    "                   SCR_Euc_control[\"WV\"][metric], \n",
    "                   SCR_Euc_control[\"OW\"][metric], \n",
    "                   SCR_Euc_control[\"OW+WV\"][metric], \n",
    "                   \"SCR: Euclidean as Base Model\")\n",
    "plot_AUPRC_along_k(axs[1,0], \n",
    "                   k_sizes,\n",
    "                   SCR_Cos_control[\"Vanilla\"][metric], \n",
    "                   SCR_Cos_control[\"WV\"][metric], \n",
    "                   SCR_Cos_control[\"OW\"][metric], \n",
    "                   SCR_Cos_control[\"OW+WV\"][metric], \n",
    "                   \"SCR: Cosine as Base Model\")\n",
    "plot_AUPRC_along_k(axs[1,1], \n",
    "                   k_sizes,\n",
    "                   SCR_Manh_control[\"Vanilla\"][metric], \n",
    "                   SCR_Manh_control[\"WV\"][metric], \n",
    "                   SCR_Manh_control[\"OW\"][metric], \n",
    "                   SCR_Manh_control[\"OW+WV\"][metric], \n",
    "                   \"SCR: Manhattan as Base Model\")\n",
    "\n",
    "plt.show()"
   ]
  },
  {
   "cell_type": "code",
   "execution_count": 100,
   "id": "77b66ce3-ed56-4a04-9666-c03f700d1b42",
   "metadata": {
    "tags": []
   },
   "outputs": [
    {
     "data": {
      "image/png": "[encoded data removed]",
      "text/plain": [
       "<Figure size 1800x400 with 3 Axes>"
      ]
     },
     "metadata": {},
     "output_type": "display_data"
    }
   ],
   "source": [
    "fig, axs = plt.subplots(1, 3, figsize=(18, 4)) \n",
    "\n",
    "metric = \"AUPRC\"\n",
    "\n",
    "plot_AUPRC_along_k(axs[0], \n",
    "                   k_sizes,\n",
    "                   LAB_Euc_control[\"Vanilla\"][metric], \n",
    "                   LAB_Euc_control[\"WV\"][metric], \n",
    "                   LAB_Euc_control[\"OW\"][metric], \n",
    "                   LAB_Euc_control[\"OW+WV\"][metric], \n",
    "                   \"LAB: Euclidean as Base Model\")\n",
    "plot_AUPRC_along_k(axs[1], \n",
    "                   k_sizes,\n",
    "                   LAB_Cos_control[\"Vanilla\"][metric], \n",
    "                   LAB_Cos_control[\"WV\"][metric], \n",
    "                   LAB_Cos_control[\"OW\"][metric], \n",
    "                   LAB_Cos_control[\"OW+WV\"][metric], \n",
    "                   \"LAB: Cosine as Base Model\")\n",
    "plot_AUPRC_along_k(axs[2], \n",
    "                   k_sizes,\n",
    "                   LAB_Manh_control[\"Vanilla\"][metric], \n",
    "                   LAB_Manh_control[\"WV\"][metric], \n",
    "                   LAB_Manh_control[\"OW\"][metric], \n",
    "                   LAB_Manh_control[\"OW+WV\"][metric], \n",
    "                   \"LAB: Manhattan as Base Model\")\n",
    "\n",
    "plt.show()"
   ]
  }
 ],
 "metadata": {
  "kernelspec": {
   "display_name": "AKI_personalized_modeling",
   "language": "python",
   "name": "aki_personalized_modeling"
  },
  "language_info": {
   "codemirror_mode": {
    "name": "ipython",
    "version": 3
   },
   "file_extension": ".py",
   "mimetype": "text/x-python",
   "name": "python",
   "nbconvert_exporter": "python",
   "pygments_lexer": "ipython3",
   "version": "3.10.13"
  }
 },
 "nbformat": 4,
 "nbformat_minor": 5
}
