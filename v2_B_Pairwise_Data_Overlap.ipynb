{
 "cells": [
  {
   "cell_type": "code",
   "execution_count": null,
   "id": "4e9a23c2",
   "metadata": {
    "tags": []
   },
   "outputs": [],
   "source": [
    "import pandas as pd\n",
    "import numpy as np\n",
    "import scipy.stats as stats\n",
    "import multiprocessing\n",
    "from multiprocessing import Pool\n",
    "from tqdm import tqdm\n",
    "from tqdm.auto import tqdm\n",
    "tqdm.pandas()\n",
    "import json"
   ]
  },
  {
   "cell_type": "code",
   "execution_count": null,
   "id": "c1b81bee-3351-4135-8682-008310826abe",
   "metadata": {
    "tags": []
   },
   "outputs": [],
   "source": [
    "# Load the variables\n",
    "with open('./utils/variables.json', 'r') as file:\n",
    "    variables = json.load(file)\n",
    "\n",
    "SCR_feature_space = variables['SCR_feature_space']\n",
    "LAB_feature_space = variables['LAB_feature_space']\n",
    "SCR_overlap_weighting = variables['SCR_overlap_weighting']\n",
    "LAB_overlap_weighting = variables['LAB_overlap_weighting']\n",
    "\n",
    "# get num_processors for parallel computing\n",
    "num_processors = multiprocessing.cpu_count()"
   ]
  },
  {
   "cell_type": "code",
   "execution_count": null,
   "id": "42e1c851",
   "metadata": {
    "tags": []
   },
   "outputs": [],
   "source": [
    "print(len(SCR_feature_space))\n",
    "print(len(LAB_feature_space))"
   ]
  },
  {
   "cell_type": "code",
   "execution_count": null,
   "id": "aa1db17f",
   "metadata": {
    "tags": []
   },
   "outputs": [],
   "source": [
    "data_dev = pd.read_csv(\"/blue/yonghui.wu/lideyi/Personalization_Methodology/dataset.csv\")"
   ]
  },
  {
   "cell_type": "code",
   "execution_count": null,
   "id": "acdd01d4-79d3-4d9d-9502-73d5f9492035",
   "metadata": {
    "tags": []
   },
   "outputs": [],
   "source": [
    "len(data_dev)"
   ]
  },
  {
   "cell_type": "code",
   "execution_count": null,
   "id": "4b02d381",
   "metadata": {
    "tags": []
   },
   "outputs": [],
   "source": [
    "SCR_part = data_dev.loc[:, SCR_feature_space]\n",
    "LAB_part = data_dev.loc[:, LAB_feature_space]"
   ]
  },
  {
   "cell_type": "code",
   "execution_count": null,
   "id": "e9cf2422-8137-432c-88c0-704541b68a75",
   "metadata": {
    "tags": []
   },
   "outputs": [],
   "source": [
    "SCR_part_bin = SCR_part.notna().astype(int)\n",
    "LAB_part_bin = LAB_part.notna().astype(int)"
   ]
  },
  {
   "cell_type": "markdown",
   "id": "9097ee7a-83dc-49ca-a38b-1499030b8d28",
   "metadata": {},
   "source": [
    "# Main Computing"
   ]
  },
  {
   "cell_type": "code",
   "execution_count": null,
   "id": "49599bba-051e-4500-b834-379df5faf9bc",
   "metadata": {
    "tags": []
   },
   "outputs": [],
   "source": [
    "from utils.Data_Overlap_Rates_Computing import parallel_overlap_matrix_comp, check_matrix_sanity, \\\n",
    "calculate_overlap_rate_SCR, calculate_overlap_rate_LAB"
   ]
  },
  {
   "cell_type": "code",
   "execution_count": null,
   "id": "bc113755",
   "metadata": {
    "tags": []
   },
   "outputs": [],
   "source": [
    "cpu_count = multiprocessing.cpu_count()"
   ]
  },
  {
   "cell_type": "code",
   "execution_count": null,
   "id": "9191e5a7-b31c-4cab-ad88-b92e2bcdfda0",
   "metadata": {
    "tags": []
   },
   "outputs": [],
   "source": [
    "SCR_overlap = parallel_overlap_matrix_comp(SCR_part_bin, cpu_count, \n",
    "                                       calculate_overlap_rate_SCR, SCR_overlap_weighting)\n",
    "\n",
    "check_matrix_sanity(SCR_overlap)\n",
    "print(np.median(SCR_overlap))\n",
    "print(np.mean(SCR_overlap))\n",
    "\n",
    "np.save('/blue/yonghui.wu/lideyi/Personalization_Methodology/SCR_overlap.npy', SCR_overlap)"
   ]
  },
  {
   "cell_type": "code",
   "execution_count": null,
   "id": "3f968f4e-3b87-480b-afc2-a2857f659d10",
   "metadata": {
    "tags": []
   },
   "outputs": [],
   "source": [
    "LAB_overlap = parallel_overlap_matrix_comp(LAB_part_bin, cpu_count, \n",
    "                                       calculate_overlap_rate_LAB, LAB_overlap_weighting)\n",
    "\n",
    "check_matrix_sanity(LAB_overlap)\n",
    "print(np.median(LAB_overlap))\n",
    "print(np.mean(LAB_overlap))\n",
    "\n",
    "np.save('/blue/yonghui.wu/lideyi/Personalization_Methodology/lab_overlap.npy', LAB_overlap)"
   ]
  }
 ],
 "metadata": {
  "kernelspec": {
   "display_name": "Python 3 (ipykernel)",
   "language": "python",
   "name": "python3"
  },
  "language_info": {
   "codemirror_mode": {
    "name": "ipython",
    "version": 3
   },
   "file_extension": ".py",
   "mimetype": "text/x-python",
   "name": "python",
   "nbconvert_exporter": "python",
   "pygments_lexer": "ipython3",
   "version": "3.10.12"
  }
 },
 "nbformat": 4,
 "nbformat_minor": 5
}
