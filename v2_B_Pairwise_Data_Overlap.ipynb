{
 "cells": [
  {
   "cell_type": "code",
   "execution_count": 1,
   "id": "4e9a23c2",
   "metadata": {
    "tags": []
   },
   "outputs": [
    {
     "name": "stderr",
     "output_type": "stream",
     "text": [
      "/home/lideyi/conda/envs/AKI_personalized_modeling/lib/python3.12/site-packages/tqdm/auto.py:21: TqdmWarning: IProgress not found. Please update jupyter and ipywidgets. See https://ipywidgets.readthedocs.io/en/stable/user_install.html\n",
      "  from .autonotebook import tqdm as notebook_tqdm\n"
     ]
    }
   ],
   "source": [
    "import pandas as pd\n",
    "import numpy as np\n",
    "import scipy.stats as stats\n",
    "import multiprocessing\n",
    "from multiprocessing import Pool\n",
    "from tqdm import tqdm\n",
    "from tqdm.auto import tqdm\n",
    "tqdm.pandas()\n",
    "%store -r raw_path\n",
    "%store -r time_window\n",
    "%store -r lab_overlap_weighting\n",
    "%store -r lab_feature_space"
   ]
  },
  {
   "cell_type": "code",
   "execution_count": 2,
   "id": "42e1c851",
   "metadata": {},
   "outputs": [
    {
     "name": "stdout",
     "output_type": "stream",
     "text": [
      "7\n",
      "40\n"
     ]
    }
   ],
   "source": [
    "print(len(time_window))\n",
    "print(len(lab_feature_space))"
   ]
  },
  {
   "cell_type": "code",
   "execution_count": 3,
   "id": "aa1db17f",
   "metadata": {},
   "outputs": [],
   "source": [
    "data_dev = pd.read_csv(\"/blue/yonghui.wu/lideyi/Personalization_Methodology/dataset.csv\")"
   ]
  },
  {
   "cell_type": "code",
   "execution_count": 4,
   "id": "073137e4",
   "metadata": {},
   "outputs": [
    {
     "data": {
      "text/html": [
       "<div>\n",
       "<style scoped>\n",
       "    .dataframe tbody tr th:only-of-type {\n",
       "        vertical-align: middle;\n",
       "    }\n",
       "\n",
       "    .dataframe tbody tr th {\n",
       "        vertical-align: top;\n",
       "    }\n",
       "\n",
       "    .dataframe thead th {\n",
       "        text-align: right;\n",
       "    }\n",
       "</style>\n",
       "<table border=\"1\" class=\"dataframe\">\n",
       "  <thead>\n",
       "    <tr style=\"text-align: right;\">\n",
       "      <th></th>\n",
       "      <th>-8</th>\n",
       "      <th>-7</th>\n",
       "      <th>-6</th>\n",
       "      <th>-5</th>\n",
       "      <th>-4</th>\n",
       "      <th>-3</th>\n",
       "      <th>-2</th>\n",
       "      <th>14979-9</th>\n",
       "      <th>1742-6</th>\n",
       "      <th>17861-6</th>\n",
       "      <th>...</th>\n",
       "      <th>742-7</th>\n",
       "      <th>751-8</th>\n",
       "      <th>770-8</th>\n",
       "      <th>777-3</th>\n",
       "      <th>785-6</th>\n",
       "      <th>786-4</th>\n",
       "      <th>787-2</th>\n",
       "      <th>788-0</th>\n",
       "      <th>789-8</th>\n",
       "      <th>AKI_LABEL</th>\n",
       "    </tr>\n",
       "  </thead>\n",
       "  <tbody>\n",
       "    <tr>\n",
       "      <th>0</th>\n",
       "      <td>NaN</td>\n",
       "      <td>NaN</td>\n",
       "      <td>NaN</td>\n",
       "      <td>NaN</td>\n",
       "      <td>0.72</td>\n",
       "      <td>0.95</td>\n",
       "      <td>0.88</td>\n",
       "      <td>NaN</td>\n",
       "      <td>NaN</td>\n",
       "      <td>9.3</td>\n",
       "      <td>...</td>\n",
       "      <td>1.0</td>\n",
       "      <td>5.6</td>\n",
       "      <td>51.0</td>\n",
       "      <td>228.0</td>\n",
       "      <td>32.2</td>\n",
       "      <td>33.4</td>\n",
       "      <td>96.6</td>\n",
       "      <td>13.5</td>\n",
       "      <td>4.04</td>\n",
       "      <td>0</td>\n",
       "    </tr>\n",
       "    <tr>\n",
       "      <th>1</th>\n",
       "      <td>NaN</td>\n",
       "      <td>1.210</td>\n",
       "      <td>NaN</td>\n",
       "      <td>0.97</td>\n",
       "      <td>1.04</td>\n",
       "      <td>0.93</td>\n",
       "      <td>0.96</td>\n",
       "      <td>NaN</td>\n",
       "      <td>22.0</td>\n",
       "      <td>8.9</td>\n",
       "      <td>...</td>\n",
       "      <td>NaN</td>\n",
       "      <td>NaN</td>\n",
       "      <td>NaN</td>\n",
       "      <td>168.0</td>\n",
       "      <td>31.8</td>\n",
       "      <td>33.3</td>\n",
       "      <td>95.6</td>\n",
       "      <td>14.6</td>\n",
       "      <td>4.20</td>\n",
       "      <td>0</td>\n",
       "    </tr>\n",
       "    <tr>\n",
       "      <th>2</th>\n",
       "      <td>1.03</td>\n",
       "      <td>0.990</td>\n",
       "      <td>NaN</td>\n",
       "      <td>NaN</td>\n",
       "      <td>1.01</td>\n",
       "      <td>0.91</td>\n",
       "      <td>0.82</td>\n",
       "      <td>NaN</td>\n",
       "      <td>22.0</td>\n",
       "      <td>8.8</td>\n",
       "      <td>...</td>\n",
       "      <td>1.3</td>\n",
       "      <td>14.2</td>\n",
       "      <td>82.0</td>\n",
       "      <td>165.0</td>\n",
       "      <td>29.1</td>\n",
       "      <td>31.4</td>\n",
       "      <td>92.8</td>\n",
       "      <td>15.7</td>\n",
       "      <td>3.82</td>\n",
       "      <td>0</td>\n",
       "    </tr>\n",
       "    <tr>\n",
       "      <th>3</th>\n",
       "      <td>NaN</td>\n",
       "      <td>NaN</td>\n",
       "      <td>NaN</td>\n",
       "      <td>0.69</td>\n",
       "      <td>0.90</td>\n",
       "      <td>0.73</td>\n",
       "      <td>0.62</td>\n",
       "      <td>32.2</td>\n",
       "      <td>28.0</td>\n",
       "      <td>7.8</td>\n",
       "      <td>...</td>\n",
       "      <td>NaN</td>\n",
       "      <td>NaN</td>\n",
       "      <td>NaN</td>\n",
       "      <td>152.0</td>\n",
       "      <td>29.5</td>\n",
       "      <td>33.8</td>\n",
       "      <td>87.1</td>\n",
       "      <td>14.0</td>\n",
       "      <td>3.73</td>\n",
       "      <td>0</td>\n",
       "    </tr>\n",
       "    <tr>\n",
       "      <th>4</th>\n",
       "      <td>0.60</td>\n",
       "      <td>0.615</td>\n",
       "      <td>0.685</td>\n",
       "      <td>0.62</td>\n",
       "      <td>0.50</td>\n",
       "      <td>0.53</td>\n",
       "      <td>0.56</td>\n",
       "      <td>NaN</td>\n",
       "      <td>12.0</td>\n",
       "      <td>7.8</td>\n",
       "      <td>...</td>\n",
       "      <td>0.4</td>\n",
       "      <td>1.8</td>\n",
       "      <td>7.0</td>\n",
       "      <td>66.0</td>\n",
       "      <td>32.0</td>\n",
       "      <td>32.7</td>\n",
       "      <td>97.8</td>\n",
       "      <td>16.8</td>\n",
       "      <td>2.32</td>\n",
       "      <td>1</td>\n",
       "    </tr>\n",
       "    <tr>\n",
       "      <th>...</th>\n",
       "      <td>...</td>\n",
       "      <td>...</td>\n",
       "      <td>...</td>\n",
       "      <td>...</td>\n",
       "      <td>...</td>\n",
       "      <td>...</td>\n",
       "      <td>...</td>\n",
       "      <td>...</td>\n",
       "      <td>...</td>\n",
       "      <td>...</td>\n",
       "      <td>...</td>\n",
       "      <td>...</td>\n",
       "      <td>...</td>\n",
       "      <td>...</td>\n",
       "      <td>...</td>\n",
       "      <td>...</td>\n",
       "      <td>...</td>\n",
       "      <td>...</td>\n",
       "      <td>...</td>\n",
       "      <td>...</td>\n",
       "      <td>...</td>\n",
       "    </tr>\n",
       "    <tr>\n",
       "      <th>17174</th>\n",
       "      <td>1.11</td>\n",
       "      <td>1.170</td>\n",
       "      <td>1.170</td>\n",
       "      <td>1.19</td>\n",
       "      <td>1.16</td>\n",
       "      <td>1.09</td>\n",
       "      <td>1.10</td>\n",
       "      <td>67.3</td>\n",
       "      <td>10.0</td>\n",
       "      <td>8.7</td>\n",
       "      <td>...</td>\n",
       "      <td>0.6</td>\n",
       "      <td>8.7</td>\n",
       "      <td>85.0</td>\n",
       "      <td>186.0</td>\n",
       "      <td>32.5</td>\n",
       "      <td>35.1</td>\n",
       "      <td>92.6</td>\n",
       "      <td>17.3</td>\n",
       "      <td>2.82</td>\n",
       "      <td>0</td>\n",
       "    </tr>\n",
       "    <tr>\n",
       "      <th>17175</th>\n",
       "      <td>NaN</td>\n",
       "      <td>NaN</td>\n",
       "      <td>NaN</td>\n",
       "      <td>NaN</td>\n",
       "      <td>NaN</td>\n",
       "      <td>1.25</td>\n",
       "      <td>1.21</td>\n",
       "      <td>NaN</td>\n",
       "      <td>NaN</td>\n",
       "      <td>9.2</td>\n",
       "      <td>...</td>\n",
       "      <td>NaN</td>\n",
       "      <td>NaN</td>\n",
       "      <td>NaN</td>\n",
       "      <td>248.0</td>\n",
       "      <td>30.8</td>\n",
       "      <td>34.2</td>\n",
       "      <td>90.1</td>\n",
       "      <td>15.7</td>\n",
       "      <td>3.62</td>\n",
       "      <td>1</td>\n",
       "    </tr>\n",
       "    <tr>\n",
       "      <th>17176</th>\n",
       "      <td>NaN</td>\n",
       "      <td>NaN</td>\n",
       "      <td>NaN</td>\n",
       "      <td>1.32</td>\n",
       "      <td>0.91</td>\n",
       "      <td>0.94</td>\n",
       "      <td>1.06</td>\n",
       "      <td>28.9</td>\n",
       "      <td>14.0</td>\n",
       "      <td>9.7</td>\n",
       "      <td>...</td>\n",
       "      <td>1.0</td>\n",
       "      <td>5.0</td>\n",
       "      <td>65.0</td>\n",
       "      <td>460.0</td>\n",
       "      <td>28.7</td>\n",
       "      <td>33.2</td>\n",
       "      <td>86.4</td>\n",
       "      <td>16.7</td>\n",
       "      <td>3.98</td>\n",
       "      <td>0</td>\n",
       "    </tr>\n",
       "    <tr>\n",
       "      <th>17177</th>\n",
       "      <td>1.31</td>\n",
       "      <td>1.280</td>\n",
       "      <td>1.460</td>\n",
       "      <td>1.36</td>\n",
       "      <td>1.52</td>\n",
       "      <td>1.60</td>\n",
       "      <td>1.62</td>\n",
       "      <td>103.8</td>\n",
       "      <td>3.0</td>\n",
       "      <td>9.0</td>\n",
       "      <td>...</td>\n",
       "      <td>0.8</td>\n",
       "      <td>3.7</td>\n",
       "      <td>58.0</td>\n",
       "      <td>213.0</td>\n",
       "      <td>29.7</td>\n",
       "      <td>32.4</td>\n",
       "      <td>91.8</td>\n",
       "      <td>13.9</td>\n",
       "      <td>3.81</td>\n",
       "      <td>0</td>\n",
       "    </tr>\n",
       "    <tr>\n",
       "      <th>17178</th>\n",
       "      <td>NaN</td>\n",
       "      <td>NaN</td>\n",
       "      <td>NaN</td>\n",
       "      <td>NaN</td>\n",
       "      <td>0.44</td>\n",
       "      <td>NaN</td>\n",
       "      <td>0.47</td>\n",
       "      <td>NaN</td>\n",
       "      <td>13.0</td>\n",
       "      <td>10.4</td>\n",
       "      <td>...</td>\n",
       "      <td>0.5</td>\n",
       "      <td>4.0</td>\n",
       "      <td>55.0</td>\n",
       "      <td>432.0</td>\n",
       "      <td>25.7</td>\n",
       "      <td>33.4</td>\n",
       "      <td>77.0</td>\n",
       "      <td>17.2</td>\n",
       "      <td>4.01</td>\n",
       "      <td>0</td>\n",
       "    </tr>\n",
       "  </tbody>\n",
       "</table>\n",
       "<p>17179 rows × 48 columns</p>\n",
       "</div>"
      ],
      "text/plain": [
       "         -8     -7     -6    -5    -4    -3    -2  14979-9  1742-6  17861-6  \\\n",
       "0       NaN    NaN    NaN   NaN  0.72  0.95  0.88      NaN     NaN      9.3   \n",
       "1       NaN  1.210    NaN  0.97  1.04  0.93  0.96      NaN    22.0      8.9   \n",
       "2      1.03  0.990    NaN   NaN  1.01  0.91  0.82      NaN    22.0      8.8   \n",
       "3       NaN    NaN    NaN  0.69  0.90  0.73  0.62     32.2    28.0      7.8   \n",
       "4      0.60  0.615  0.685  0.62  0.50  0.53  0.56      NaN    12.0      7.8   \n",
       "...     ...    ...    ...   ...   ...   ...   ...      ...     ...      ...   \n",
       "17174  1.11  1.170  1.170  1.19  1.16  1.09  1.10     67.3    10.0      8.7   \n",
       "17175   NaN    NaN    NaN   NaN   NaN  1.25  1.21      NaN     NaN      9.2   \n",
       "17176   NaN    NaN    NaN  1.32  0.91  0.94  1.06     28.9    14.0      9.7   \n",
       "17177  1.31  1.280  1.460  1.36  1.52  1.60  1.62    103.8     3.0      9.0   \n",
       "17178   NaN    NaN    NaN   NaN  0.44   NaN  0.47      NaN    13.0     10.4   \n",
       "\n",
       "       ...  742-7  751-8  770-8  777-3  785-6  786-4  787-2  788-0  789-8  \\\n",
       "0      ...    1.0    5.6   51.0  228.0   32.2   33.4   96.6   13.5   4.04   \n",
       "1      ...    NaN    NaN    NaN  168.0   31.8   33.3   95.6   14.6   4.20   \n",
       "2      ...    1.3   14.2   82.0  165.0   29.1   31.4   92.8   15.7   3.82   \n",
       "3      ...    NaN    NaN    NaN  152.0   29.5   33.8   87.1   14.0   3.73   \n",
       "4      ...    0.4    1.8    7.0   66.0   32.0   32.7   97.8   16.8   2.32   \n",
       "...    ...    ...    ...    ...    ...    ...    ...    ...    ...    ...   \n",
       "17174  ...    0.6    8.7   85.0  186.0   32.5   35.1   92.6   17.3   2.82   \n",
       "17175  ...    NaN    NaN    NaN  248.0   30.8   34.2   90.1   15.7   3.62   \n",
       "17176  ...    1.0    5.0   65.0  460.0   28.7   33.2   86.4   16.7   3.98   \n",
       "17177  ...    0.8    3.7   58.0  213.0   29.7   32.4   91.8   13.9   3.81   \n",
       "17178  ...    0.5    4.0   55.0  432.0   25.7   33.4   77.0   17.2   4.01   \n",
       "\n",
       "       AKI_LABEL  \n",
       "0              0  \n",
       "1              0  \n",
       "2              0  \n",
       "3              0  \n",
       "4              1  \n",
       "...          ...  \n",
       "17174          0  \n",
       "17175          1  \n",
       "17176          0  \n",
       "17177          0  \n",
       "17178          0  \n",
       "\n",
       "[17179 rows x 48 columns]"
      ]
     },
     "execution_count": 4,
     "metadata": {},
     "output_type": "execute_result"
    }
   ],
   "source": [
    "data_dev"
   ]
  },
  {
   "cell_type": "code",
   "execution_count": 5,
   "id": "acdd01d4-79d3-4d9d-9502-73d5f9492035",
   "metadata": {
    "tags": []
   },
   "outputs": [
    {
     "data": {
      "text/plain": [
       "17179"
      ]
     },
     "execution_count": 5,
     "metadata": {},
     "output_type": "execute_result"
    }
   ],
   "source": [
    "len(data_dev)"
   ]
  },
  {
   "cell_type": "markdown",
   "id": "68d09265",
   "metadata": {},
   "source": [
    "# Calculate Pairwise Data Overlap Rates for SCr"
   ]
  },
  {
   "cell_type": "markdown",
   "id": "f2d444f4",
   "metadata": {},
   "source": [
    "If 2 patient have records at the same day, then return True otherwise False (overlap vector). We use a Gaussian distribution to the overlap vector, that is closer to the prediction point, more overlap weights are added."
   ]
  },
  {
   "cell_type": "code",
   "execution_count": 6,
   "id": "6ab75080-d755-4e8f-925d-1b5d5db447ec",
   "metadata": {
    "tags": []
   },
   "outputs": [
    {
     "name": "stdout",
     "output_type": "stream",
     "text": [
      "Stored 'normal_distribution_SCR' (ndarray)\n"
     ]
    }
   ],
   "source": [
    "mean = 0.0\n",
    "sd_SCR = 1.0\n",
    "\n",
    "normal_distribution_SCR = []\n",
    "for i in range(len(time_window)):\n",
    "    pos = len(time_window) - 1 - i\n",
    "    AUC = stats.norm.cdf(pos + 1, loc=mean, scale=sd_SCR) - stats.norm.cdf(pos, loc=mean, scale=sd_SCR)\n",
    "    normal_distribution_SCR.append(AUC)\n",
    "    \n",
    "normal_distribution_SCR = np.array(normal_distribution_SCR) * 2\n",
    "%store normal_distribution_SCR"
   ]
  },
  {
   "cell_type": "code",
   "execution_count": 7,
   "id": "dc3a97fb",
   "metadata": {},
   "outputs": [],
   "source": [
    "def check_vec_overlap(u, v):\n",
    "    assert(len(u) == len(v))\n",
    "    u_arr = np.array(u)\n",
    "    v_arr = np.array(v)\n",
    "    overlap = np.logical_and(u_arr, v_arr)\n",
    "    return overlap"
   ]
  },
  {
   "cell_type": "code",
   "execution_count": 8,
   "id": "02374522",
   "metadata": {},
   "outputs": [],
   "source": [
    "def calculate_overlap_rate_SCR(u, v, norm_distr):\n",
    "    #get the bool vec\n",
    "    overlap_vec = check_vec_overlap(u, v)\n",
    "    overlap_rate = overlap_rate_SCR(overlap_vec, norm_distr)\n",
    "    return overlap_rate"
   ]
  },
  {
   "cell_type": "code",
   "execution_count": 9,
   "id": "f137521e",
   "metadata": {},
   "outputs": [],
   "source": [
    "def calculate_overlap_rate_LAB(u, v, norm_distr):\n",
    "    #get the bool vec\n",
    "    overlap_vec = check_vec_overlap(u, v)\n",
    "    overlap_rate = overlap_rate_LAB(overlap_vec, norm_distr)\n",
    "    return overlap_rate"
   ]
  },
  {
   "cell_type": "code",
   "execution_count": 10,
   "id": "a5671d2b",
   "metadata": {},
   "outputs": [],
   "source": [
    "def overlap_rate_LAB(overlap_vec, norm_distr):\n",
    "    return np.sum(norm_distr * overlap_vec)"
   ]
  },
  {
   "cell_type": "code",
   "execution_count": 11,
   "id": "2798d35c",
   "metadata": {},
   "outputs": [],
   "source": [
    "#apply a Gaussian distribution on SCr overlap vec\n",
    "def overlap_rate_SCR(overlap_vec, norm_distr):\n",
    "    return np.sum(norm_distr * overlap_vec)"
   ]
  },
  {
   "cell_type": "code",
   "execution_count": 12,
   "id": "1f660a54",
   "metadata": {},
   "outputs": [],
   "source": [
    "def calculate_overlap(args):\n",
    "    index, df, metric, norm_distr = args\n",
    "    return [metric(df.iloc[index], df.iloc[j], norm_distr) for j in range(index + 1, len(df))]"
   ]
  },
  {
   "cell_type": "code",
   "execution_count": 13,
   "id": "fe30b855",
   "metadata": {},
   "outputs": [],
   "source": [
    "#parallel computing\n",
    "def parallel_overlap_matrix_comp(df, num_processes, metric, norm_distr):\n",
    "    pool = Pool(num_processes)\n",
    "    total = len(df)\n",
    "\n",
    "    results = list(tqdm(pool.imap(calculate_overlap, \n",
    "                                  [(i, df, metric, norm_distr) for i in range(total - 1)]), \n",
    "                            total=total - 1))\n",
    "    pool.close()\n",
    "    pool.join()\n",
    "    return create_similarity_matrix(results)"
   ]
  },
  {
   "cell_type": "code",
   "execution_count": 14,
   "id": "4b45b3e9",
   "metadata": {},
   "outputs": [],
   "source": [
    "def create_similarity_matrix(distance_list):\n",
    "    n = len(distance_list[0]) + 1\n",
    "\n",
    "    matrix = np.ones((n, n))\n",
    "\n",
    "    for i in range(n-1):\n",
    "        matrix[i, i+1:i+1+len(distance_list[i])] = distance_list[i]\n",
    "\n",
    "    for i in range(n):\n",
    "        for j in range(i+1, n):\n",
    "            matrix[j, i] = matrix[i, j]\n",
    "    return matrix"
   ]
  },
  {
   "cell_type": "code",
   "execution_count": 15,
   "id": "4b02d381",
   "metadata": {},
   "outputs": [],
   "source": [
    "SCR_part = data_dev.loc[:, time_window]\n",
    "LAB_part = data_dev.loc[:, lab_feature_space]"
   ]
  },
  {
   "cell_type": "code",
   "execution_count": 16,
   "id": "e9cf2422-8137-432c-88c0-704541b68a75",
   "metadata": {
    "tags": []
   },
   "outputs": [],
   "source": [
    "SCR_part_bin = SCR_part.notna().astype(int)\n",
    "LAB_part_bin = LAB_part.notna().astype(int)"
   ]
  },
  {
   "cell_type": "markdown",
   "id": "9097ee7a-83dc-49ca-a38b-1499030b8d28",
   "metadata": {},
   "source": [
    "# Main Computing"
   ]
  },
  {
   "cell_type": "code",
   "execution_count": 17,
   "id": "e5a031dd-a1b1-40b8-9bb7-7f2eba78e196",
   "metadata": {},
   "outputs": [],
   "source": [
    "def check_matrix_sanity(matrix):\n",
    "    assert(matrix.shape[0] == matrix.shape[1])\n",
    "    assert(np.all((np.round(matrix, 3) >= 0) & (np.round(matrix, 3) <= 1)))"
   ]
  },
  {
   "cell_type": "code",
   "execution_count": 18,
   "id": "bc113755",
   "metadata": {},
   "outputs": [],
   "source": [
    "cpu_count = multiprocessing.cpu_count()"
   ]
  },
  {
   "cell_type": "code",
   "execution_count": 19,
   "id": "9191e5a7-b31c-4cab-ad88-b92e2bcdfda0",
   "metadata": {
    "tags": []
   },
   "outputs": [
    {
     "name": "stderr",
     "output_type": "stream",
     "text": [
      "100%|██████████| 17178/17178 [12:22<00:00, 23.13it/s] \n"
     ]
    },
    {
     "name": "stdout",
     "output_type": "stream",
     "text": [
      "0.9544997361036416\n",
      "0.899984593064256\n"
     ]
    }
   ],
   "source": [
    "SCR_overlap = parallel_overlap_matrix_comp(SCR_part_bin, cpu_count, \n",
    "                                       calculate_overlap_rate_SCR, normal_distribution_SCR)\n",
    "\n",
    "check_matrix_sanity(SCR_overlap)\n",
    "print(np.median(SCR_overlap))\n",
    "print(np.mean(SCR_overlap))\n",
    "\n",
    "np.save('/blue/yonghui.wu/lideyi/Personalization_Methodology/SCR_overlap.npy', SCR_overlap)"
   ]
  },
  {
   "cell_type": "code",
   "execution_count": 20,
   "id": "3f968f4e-3b87-480b-afc2-a2857f659d10",
   "metadata": {
    "tags": []
   },
   "outputs": [
    {
     "name": "stderr",
     "output_type": "stream",
     "text": [
      "100%|██████████| 17178/17178 [13:31<00:00, 21.18it/s] \n"
     ]
    },
    {
     "name": "stdout",
     "output_type": "stream",
     "text": [
      "0.8686669751439782\n",
      "0.8610430657594513\n"
     ]
    }
   ],
   "source": [
    "LAB_overlap = parallel_overlap_matrix_comp(LAB_part_bin, cpu_count, \n",
    "                                       calculate_overlap_rate_LAB, lab_overlap_weighting)\n",
    "\n",
    "check_matrix_sanity(LAB_overlap)\n",
    "\n",
    "# what is the median of easch matrix, is the penalty too large?\n",
    "print(np.median(LAB_overlap))\n",
    "print(np.mean(LAB_overlap))\n",
    "\n",
    "np.save('/blue/yonghui.wu/lideyi/Personalization_Methodology/lab_overlap.npy', LAB_overlap)"
   ]
  }
 ],
 "metadata": {
  "kernelspec": {
   "display_name": "AKI_personalized_modeling",
   "language": "python",
   "name": "python3"
  },
  "language_info": {
   "codemirror_mode": {
    "name": "ipython",
    "version": 3
   },
   "file_extension": ".py",
   "mimetype": "text/x-python",
   "name": "python",
   "nbconvert_exporter": "python",
   "pygments_lexer": "ipython3",
   "version": "3.12.5"
  }
 },
 "nbformat": 4,
 "nbformat_minor": 5
}
