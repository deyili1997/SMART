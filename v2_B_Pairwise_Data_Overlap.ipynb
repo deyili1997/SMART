{
 "cells": [
  {
   "cell_type": "code",
   "execution_count": 4,
   "id": "4e9a23c2",
   "metadata": {
    "tags": []
   },
   "outputs": [],
   "source": [
    "import pandas as pd\n",
    "import numpy as np\n",
    "import scipy.stats as stats\n",
    "import multiprocessing\n",
    "from multiprocessing import Pool\n",
    "from tqdm import tqdm\n",
    "from tqdm.auto import tqdm\n",
    "tqdm.pandas()\n",
    "%store -r raw_path\n",
    "%store -r time_window\n",
    "%store -r lab_overlap_weighting\n",
    "%store -r lab_feature_space"
   ]
  },
  {
   "cell_type": "code",
   "execution_count": 5,
   "id": "42e1c851",
   "metadata": {},
   "outputs": [
    {
     "name": "stdout",
     "output_type": "stream",
     "text": [
      "7\n",
      "40\n"
     ]
    }
   ],
   "source": [
    "print(len(time_window))\n",
    "print(len(lab_feature_space))"
   ]
  },
  {
   "cell_type": "code",
   "execution_count": 6,
   "id": "aa1db17f",
   "metadata": {},
   "outputs": [],
   "source": [
    "data_dev = pd.read_csv(\"/blue/yonghui.wu/lideyi/Personalization_Methodology/dataset.csv\")"
   ]
  },
  {
   "cell_type": "code",
   "execution_count": 7,
   "id": "acdd01d4-79d3-4d9d-9502-73d5f9492035",
   "metadata": {
    "tags": []
   },
   "outputs": [
    {
     "data": {
      "text/plain": [
       "17179"
      ]
     },
     "execution_count": 7,
     "metadata": {},
     "output_type": "execute_result"
    }
   ],
   "source": [
    "len(data_dev)"
   ]
  },
  {
   "cell_type": "markdown",
   "id": "68d09265",
   "metadata": {},
   "source": [
    "# Calculate Pairwise Data Overlap Rates for SCr"
   ]
  },
  {
   "cell_type": "markdown",
   "id": "f2d444f4",
   "metadata": {},
   "source": [
    "If 2 patient have records at the same day, then return True otherwise False (overlap vector). We use a Gaussian distribution to the overlap vector, that is closer to the prediction point, more overlap weights are added."
   ]
  },
  {
   "cell_type": "code",
   "execution_count": 8,
   "id": "6ab75080-d755-4e8f-925d-1b5d5db447ec",
   "metadata": {
    "tags": []
   },
   "outputs": [
    {
     "name": "stdout",
     "output_type": "stream",
     "text": [
      "Stored 'normal_distribution_SCR' (ndarray)\n"
     ]
    }
   ],
   "source": [
    "mean = 0.0\n",
    "sd_SCR = 1.5\n",
    "\n",
    "normal_distribution_SCR = []\n",
    "for i in range(len(time_window)):\n",
    "    pos = len(time_window) - 1 - i\n",
    "    AUC = stats.norm.cdf(pos + 1, loc=mean, scale=sd_SCR) - stats.norm.cdf(pos, loc=mean, scale=sd_SCR)\n",
    "    normal_distribution_SCR.append(AUC)\n",
    "    \n",
    "normal_distribution_SCR = np.array(normal_distribution_SCR) * 2\n",
    "%store normal_distribution_SCR"
   ]
  },
  {
   "cell_type": "code",
   "execution_count": 9,
   "id": "dc3a97fb",
   "metadata": {},
   "outputs": [],
   "source": [
    "def check_vec_overlap(u, v):\n",
    "    assert(len(u) == len(v))\n",
    "    u_arr = np.array(u)\n",
    "    v_arr = np.array(v)\n",
    "    overlap = np.logical_and(u_arr, v_arr)\n",
    "    return overlap"
   ]
  },
  {
   "cell_type": "code",
   "execution_count": 10,
   "id": "02374522",
   "metadata": {},
   "outputs": [],
   "source": [
    "def calculate_overlap_rate_SCR(u, v, norm_distr):\n",
    "    #get the bool vec\n",
    "    overlap_vec = check_vec_overlap(u, v)\n",
    "    overlap_rate = overlap_rate_SCR(overlap_vec, norm_distr)\n",
    "    return overlap_rate"
   ]
  },
  {
   "cell_type": "code",
   "execution_count": 11,
   "id": "f137521e",
   "metadata": {},
   "outputs": [],
   "source": [
    "def calculate_overlap_rate_LAB(u, v, norm_distr):\n",
    "    #get the bool vec\n",
    "    overlap_vec = check_vec_overlap(u, v)\n",
    "    overlap_rate = overlap_rate_LAB(overlap_vec, norm_distr)\n",
    "    return overlap_rate"
   ]
  },
  {
   "cell_type": "code",
   "execution_count": 12,
   "id": "a5671d2b",
   "metadata": {},
   "outputs": [],
   "source": [
    "def overlap_rate_LAB(overlap_vec, norm_distr):\n",
    "    return np.sum(norm_distr * overlap_vec)"
   ]
  },
  {
   "cell_type": "code",
   "execution_count": 13,
   "id": "2798d35c",
   "metadata": {},
   "outputs": [],
   "source": [
    "#apply a Gaussian distribution on SCr overlap vec\n",
    "def overlap_rate_SCR(overlap_vec, norm_distr):\n",
    "    return np.sum(norm_distr * overlap_vec)"
   ]
  },
  {
   "cell_type": "code",
   "execution_count": 14,
   "id": "1f660a54",
   "metadata": {},
   "outputs": [],
   "source": [
    "def calculate_overlap(args):\n",
    "    index, df, metric, norm_distr = args\n",
    "    return [metric(df.iloc[index], df.iloc[j], norm_distr) for j in range(index + 1, len(df))]"
   ]
  },
  {
   "cell_type": "code",
   "execution_count": 15,
   "id": "fe30b855",
   "metadata": {},
   "outputs": [],
   "source": [
    "#parallel computing\n",
    "def parallel_overlap_matrix_comp(df, num_processes, metric, norm_distr):\n",
    "    pool = Pool(num_processes)\n",
    "    total = len(df)\n",
    "\n",
    "    results = list(tqdm(pool.imap(calculate_overlap, \n",
    "                                  [(i, df, metric, norm_distr) for i in range(total - 1)]), \n",
    "                            total=total - 1))\n",
    "    pool.close()\n",
    "    pool.join()\n",
    "    return create_similarity_matrix(results)"
   ]
  },
  {
   "cell_type": "code",
   "execution_count": 16,
   "id": "4b45b3e9",
   "metadata": {},
   "outputs": [],
   "source": [
    "def create_similarity_matrix(distance_list):\n",
    "    n = len(distance_list[0]) + 1\n",
    "\n",
    "    matrix = np.ones((n, n))\n",
    "\n",
    "    for i in range(n-1):\n",
    "        matrix[i, i+1:i+1+len(distance_list[i])] = distance_list[i]\n",
    "\n",
    "    for i in range(n):\n",
    "        for j in range(i+1, n):\n",
    "            matrix[j, i] = matrix[i, j]\n",
    "    return matrix"
   ]
  },
  {
   "cell_type": "code",
   "execution_count": 17,
   "id": "4b02d381",
   "metadata": {},
   "outputs": [],
   "source": [
    "SCR_part = data_dev.loc[:, time_window]\n",
    "LAB_part = data_dev.loc[:, lab_feature_space]"
   ]
  },
  {
   "cell_type": "code",
   "execution_count": 18,
   "id": "e9cf2422-8137-432c-88c0-704541b68a75",
   "metadata": {
    "tags": []
   },
   "outputs": [],
   "source": [
    "SCR_part_bin = SCR_part.notna().astype(int)\n",
    "LAB_part_bin = LAB_part.notna().astype(int)"
   ]
  },
  {
   "cell_type": "markdown",
   "id": "9097ee7a-83dc-49ca-a38b-1499030b8d28",
   "metadata": {},
   "source": [
    "# Main Computing"
   ]
  },
  {
   "cell_type": "code",
   "execution_count": 19,
   "id": "e5a031dd-a1b1-40b8-9bb7-7f2eba78e196",
   "metadata": {},
   "outputs": [],
   "source": [
    "def check_matrix_sanity(matrix):\n",
    "    assert(matrix.shape[0] == matrix.shape[1])\n",
    "    assert(np.all((np.round(matrix, 3) >= 0) & (np.round(matrix, 3) <= 1)))"
   ]
  },
  {
   "cell_type": "code",
   "execution_count": 20,
   "id": "bc113755",
   "metadata": {},
   "outputs": [],
   "source": [
    "cpu_count = multiprocessing.cpu_count()"
   ]
  },
  {
   "cell_type": "code",
   "execution_count": 21,
   "id": "9191e5a7-b31c-4cab-ad88-b92e2bcdfda0",
   "metadata": {
    "tags": []
   },
   "outputs": [
    {
     "name": "stderr",
     "output_type": "stream",
     "text": [
      "100%|██████████| 17178/17178 [05:55<00:00, 48.34it/s] \n"
     ]
    },
    {
     "name": "stdout",
     "output_type": "stream",
     "text": [
      "0.8175775605482642\n",
      "0.8232253746466658\n"
     ]
    }
   ],
   "source": [
    "SCR_overlap = parallel_overlap_matrix_comp(SCR_part_bin, cpu_count, \n",
    "                                       calculate_overlap_rate_SCR, normal_distribution_SCR)\n",
    "\n",
    "check_matrix_sanity(SCR_overlap)\n",
    "print(np.median(SCR_overlap))\n",
    "print(np.mean(SCR_overlap))\n",
    "\n",
    "np.save('/blue/yonghui.wu/lideyi/Personalization_Methodology/SCR_overlap.npy', SCR_overlap)"
   ]
  },
  {
   "cell_type": "code",
   "execution_count": 22,
   "id": "3f968f4e-3b87-480b-afc2-a2857f659d10",
   "metadata": {
    "tags": []
   },
   "outputs": [
    {
     "name": "stderr",
     "output_type": "stream",
     "text": [
      "100%|██████████| 17178/17178 [06:38<00:00, 43.14it/s] \n"
     ]
    },
    {
     "name": "stdout",
     "output_type": "stream",
     "text": [
      "0.8686669751439782\n",
      "0.8610430657594513\n"
     ]
    }
   ],
   "source": [
    "LAB_overlap = parallel_overlap_matrix_comp(LAB_part_bin, cpu_count, \n",
    "                                       calculate_overlap_rate_LAB, lab_overlap_weighting)\n",
    "\n",
    "check_matrix_sanity(LAB_overlap)\n",
    "\n",
    "# what is the median of easch matrix, is the penalty too large?\n",
    "print(np.median(LAB_overlap))\n",
    "print(np.mean(LAB_overlap))\n",
    "\n",
    "np.save('/blue/yonghui.wu/lideyi/Personalization_Methodology/lab_overlap.npy', LAB_overlap)"
   ]
  }
 ],
 "metadata": {
  "kernelspec": {
   "display_name": "Python 3 (ipykernel)",
   "language": "python",
   "name": "python3"
  },
  "language_info": {
   "codemirror_mode": {
    "name": "ipython",
    "version": 3
   },
   "file_extension": ".py",
   "mimetype": "text/x-python",
   "name": "python",
   "nbconvert_exporter": "python",
   "pygments_lexer": "ipython3",
   "version": "3.10.12"
  }
 },
 "nbformat": 4,
 "nbformat_minor": 5
}
